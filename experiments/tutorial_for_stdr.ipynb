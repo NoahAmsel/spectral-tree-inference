{
 "metadata": {
  "language_info": {
   "codemirror_mode": {
    "name": "ipython",
    "version": 3
   },
   "file_extension": ".py",
   "mimetype": "text/x-python",
   "name": "python",
   "nbconvert_exporter": "python",
   "pygments_lexer": "ipython3",
   "version": "3.7.6-final"
  },
  "orig_nbformat": 2,
  "kernelspec": {
   "name": "python3",
   "display_name": "Python 3",
   "language": "python"
  }
 },
 "nbformat": 4,
 "nbformat_minor": 2,
 "cells": [
  {
   "cell_type": "code",
   "execution_count": 1,
   "metadata": {},
   "outputs": [],
   "source": [
    "import spectraltree\n",
    "import time\n",
    "import numpy as np"
   ]
  },
  {
   "source": [
    "## Generate data according to a predefined tree model"
   ],
   "cell_type": "markdown",
   "metadata": {}
  },
  {
   "cell_type": "code",
   "execution_count": 2,
   "metadata": {},
   "outputs": [],
   "source": [
    "\n",
    "\n",
    "num_taxa = 128   # Number of terminal nodes\n",
    "n = 1200        # Number of independent samples (sequence length)   \n",
    "jc = spectraltree.Jukes_Cantor()   #set evolution process to the Jukes Cantor model\n",
    "mutation_rate = jc.p2t(0.9)        #set mutation rate between adjacent nodes to 1-0.9=0.1\n",
    "\n",
    "\n",
    "# create a tree according to the coalescent model\n",
    "reference_tree = spectraltree.unrooted_pure_kingman_tree(num_taxa)\n",
    "\n",
    "# create a tree according to the birth death model model        \n",
    "#reference_tree = spectraltree.unrooted_birth_death_tree(num_taxa)\n",
    "\n",
    "# create a symmetric binary tree\n",
    "#reference_tree = spectraltree.balanced_binary(num_taxa)\n",
    "\n",
    "# create a caterpiller tree \n",
    "#reference_tree = spectraltree.lopsided_tree(num_taxa)\n",
    "\n",
    "# generate sequences: input - sequence length, specified tree, evolutionary model, mutation rate and alphabet\n",
    "observations, taxa_meta = spectraltree.simulate_sequences(n, tree_model=reference_tree, seq_model=jc, mutation_rate=mutation_rate, alphabet=\"DNA\")\n",
    "\n"
   ]
  },
  {
   "source": [
    "## Recover tree by NJ and STDR + NJ\n"
   ],
   "cell_type": "markdown",
   "metadata": {}
  },
  {
   "cell_type": "code",
   "execution_count": 3,
   "metadata": {},
   "outputs": [],
   "source": [
    "\n",
    "# run NJ to recover the full tree\n",
    "nj = spectraltree.NeighborJoining(spectraltree.JC_similarity_matrix)\n",
    "time_start = time.time()\n",
    "tree_nj = nj(observations, taxa_meta)\n",
    "nj_runtime = time.time()-time_start"
   ]
  },
  {
   "cell_type": "code",
   "execution_count": 4,
   "metadata": {},
   "outputs": [],
   "source": [
    "stdr_nj = spectraltree.STDR(spectraltree.NeighborJoining,spectraltree.JC_similarity_matrix)   \n",
    "\n",
    "time_start = time.time()\n",
    "tree_stdr_nj = stdr_nj(observations, \n",
    "        taxa_metadata= taxa_meta, \n",
    "        threshold = 64,\n",
    "        min_split = 1,\n",
    "        merge_method = \"least_square\", \n",
    "        verbose=False)\n",
    "stdr_nj_runtime = time.time()-time_start"
   ]
  },
  {
   "cell_type": "code",
   "execution_count": 5,
   "metadata": {},
   "outputs": [
    {
     "output_type": "stream",
     "name": "stdout",
     "text": [
      "Normalized RF for NJ: 0.28  runtime:  0.42 s\nNormalized RF for STDR+NJ:  0.22   runtime:  0.15 s\n"
     ]
    }
   ],
   "source": [
    "# print results and runtime\n",
    "# compare output of NJ to reference tree\n",
    "RF_nj,F1 = spectraltree.compare_trees(tree_nj, reference_tree)\n",
    "print('Normalized RF for NJ:',np.round_(RF_nj/(2*num_taxa-6),2),' runtime: ', np.round_(nj_runtime,2),'s')\n",
    "\n",
    "# compare output of STDR + NJ to reference tree\n",
    "RF_stdr_nj,F1 = spectraltree.compare_trees(tree_stdr_nj, reference_tree)\n",
    "print('Normalized RF for STDR+NJ: ',np.round_(RF_stdr_nj/(2*num_taxa-6),2), '  runtime: ',np.round_(stdr_nj_runtime,2),'s')"
   ]
  },
  {
   "source": [
    "## Recover tree by RAxML and STDR + RAxML\n"
   ],
   "cell_type": "markdown",
   "metadata": {}
  },
  {
   "cell_type": "code",
   "execution_count": 6,
   "metadata": {},
   "outputs": [],
   "source": [
    "\n",
    "# run RAxML to recover the full tree\n",
    "raxml = spectraltree.RAxML()\n",
    "time_start = time.time()\n",
    "tree_raxml = raxml(observations, taxa_meta)\n",
    "raxml_runtime = time.time()-time_start\n"
   ]
  },
  {
   "cell_type": "code",
   "execution_count": 7,
   "metadata": {},
   "outputs": [],
   "source": [
    "# run STDR with RAxML as subroutine\n",
    "stdr_raxml = spectraltree.STDR(spectraltree.RAxML,spectraltree.JC_similarity_matrix)   \n",
    "\n",
    "time_start = time.time()\n",
    "tree_stdr_raxml = stdr_raxml(observations, \n",
    "        taxa_metadata= taxa_meta, \n",
    "        threshold = 32,\n",
    "        min_split = 5,\n",
    "        merge_method = \"least_square\", \n",
    "        verbose=False)\n",
    "stdr_raxml_runtime = time.time()-time_start"
   ]
  },
  {
   "cell_type": "code",
   "execution_count": 8,
   "metadata": {},
   "outputs": [
    {
     "output_type": "stream",
     "name": "stdout",
     "text": [
      "Normalized RF for RAxML: 0.24  runtime:  31.47 s\nNormalized RF for STDR+RAxML:  0.22   runtime:  17.07 s\n"
     ]
    }
   ],
   "source": [
    "# print results and runtime\n",
    "# compare output of SNJ to reference tree\n",
    "RF_raxml,F1 = spectraltree.compare_trees(tree_raxml, reference_tree)\n",
    "print('Normalized RF for RAxML:',np.round_(RF_raxml/(2*num_taxa-6),2),' runtime: ', np.round_(raxml_runtime,2),'s')\n",
    "\n",
    "# compare output of NJ to reference tree\n",
    "RF_stdr_raxml,F1 = spectraltree.compare_trees(tree_stdr_raxml, reference_tree)\n",
    "print('Normalized RF for STDR+RAxML: ',np.round_(RF_stdr_raxml/(2*num_taxa-6),2), '  runtime: ',np.round_(stdr_raxml_runtime,2),'s')"
   ]
  },
  {
   "source": [],
   "cell_type": "markdown",
   "metadata": {}
  }
 ]
}