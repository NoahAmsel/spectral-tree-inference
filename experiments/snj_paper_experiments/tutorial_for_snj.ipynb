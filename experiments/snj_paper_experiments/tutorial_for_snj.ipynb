{
 "metadata": {
  "language_info": {
   "codemirror_mode": {
    "name": "ipython",
    "version": 3
   },
   "file_extension": ".py",
   "mimetype": "text/x-python",
   "name": "python",
   "nbconvert_exporter": "python",
   "pygments_lexer": "ipython3",
   "version": "3.7.6-final"
  },
  "orig_nbformat": 2,
  "kernelspec": {
   "name": "python3",
   "display_name": "Python 3",
   "language": "python"
  }
 },
 "nbformat": 4,
 "nbformat_minor": 2,
 "cells": [
  {
   "cell_type": "code",
   "execution_count": 1,
   "metadata": {},
   "outputs": [],
   "source": [
    "import spectraltree"
   ]
  },
  {
   "source": [
    "## Generate data according to a predefined tree model"
   ],
   "cell_type": "markdown",
   "metadata": {}
  },
  {
   "cell_type": "code",
   "execution_count": 2,
   "metadata": {},
   "outputs": [],
   "source": [
    "\n",
    "\n",
    "num_taxa = 256   # Number of terminal nodes\n",
    "n = 200         # Number of independent samples (sequence length)   \n",
    "jc = spectraltree.Jukes_Cantor()   #set evolution process to the Jukes Cantor model\n",
    "mutation_rate = jc.p2t(0.9)        #set mutation rate between adjacent nodes to 1-0.9=0.1\n",
    "\n",
    "# create a symmetric binary tree\n",
    "reference_tree = spectraltree.balanced_binary(num_taxa)\n",
    "\n",
    "# create a tree according to the coalescent model\n",
    "#reference_tree = spectraltree.unrooted_pure_kingman_tree(num_taxa)\n",
    "\n",
    "# create a tree according to the birth death model model        \n",
    "#reference_tree = spectraltree.unrooted_birth_death_tree(num_taxa)\n",
    "\n",
    "# create a caterpiller tree \n",
    "#reference_tree = spectraltree.lopsided_tree(num_taxa)\n",
    "\n",
    "# generate sequences: input - sequence length, specified tree, evolutionary model, mutation rate and alphabet\n",
    "observations, taxa_meta = spectraltree.simulate_sequences(n, tree_model=reference_tree, seq_model=jc, mutation_rate=mutation_rate, alphabet=\"DNA\")\n",
    "\n"
   ]
  },
  {
   "source": [
    "## Recover tree from observations by NJ and SNJ"
   ],
   "cell_type": "markdown",
   "metadata": {}
  },
  {
   "cell_type": "code",
   "execution_count": 3,
   "metadata": {},
   "outputs": [],
   "source": [
    "# recover tree via spectral neighbor joining\n",
    "snj = spectraltree.SpectralNeighborJoining(spectraltree.JC_similarity_matrix)\n",
    "tree_snj = snj(observations, taxa_meta)\n",
    "\n",
    "# recover tree via neighbor joining\n",
    "nj = spectraltree.NeighborJoining(spectraltree.JC_similarity_matrix)\n",
    "tree_nj = nj(observations, taxa_meta)\n"
   ]
  },
  {
   "source": [
    "## Print out results for NJ and SNJ"
   ],
   "cell_type": "markdown",
   "metadata": {}
  },
  {
   "cell_type": "code",
   "execution_count": 6,
   "metadata": {},
   "outputs": [
    {
     "output_type": "stream",
     "name": "stdout",
     "text": [
      "Normalized RF for SNJ: 0.039525691699604744\nNormalized RF for NJ:  0.11462450592885376\n"
     ]
    }
   ],
   "source": [
    "# compare output of SNJ to reference tree\n",
    "RF_snj,F1 = spectraltree.compare_trees(tree_snj, reference_tree)\n",
    "print('Normalized RF for SNJ:',RF_snj/(2*num_taxa-6))\n",
    "# compare output of NJ to reference tree\n",
    "RF_nj,F1 = spectraltree.compare_trees(tree_nj, reference_tree)\n",
    "print('Normalized RF for NJ: ',RF_nj/(2*num_taxa-6))\n"
   ]
  },
  {
   "cell_type": "code",
   "execution_count": null,
   "metadata": {},
   "outputs": [],
   "source": []
  }
 ]
}