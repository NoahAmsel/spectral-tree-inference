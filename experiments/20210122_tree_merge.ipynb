{
 "cells": [
  {
   "cell_type": "markdown",
   "metadata": {},
   "source": [
    "# Treemerge test\n",
    "\n",
    "Mamie Wang 2021/01/22\n"
   ]
  },
  {
   "cell_type": "markdown",
   "metadata": {},
   "source": [
    "https://github.com/ekmolloy/trees-in-the-desert-tutorial"
   ]
  },
  {
   "cell_type": "markdown",
   "metadata": {},
   "source": [
    "Example usage:\n",
    "\n",
    "python ./python/treemerge.py \\\n",
    "    -s ../trees-in-the-desert-tutorial/data/nj-on-agid-tre.txt \\\n",
    "    -t ../trees-in-the-desert-tutorial/data/astral-subset-1-outof-4-tre.txt \\\n",
    "       ../trees-in-the-desert-tutorial/data/astral-subset-2-outof-4-tre.txt \\\n",
    "       ../trees-in-the-desert-tutorial/data/astral-subset-3-outof-4-tre.txt \\\n",
    "       ../trees-in-the-desert-tutorial/data/astral-subset-4-outof-4-tre.txt \\\n",
    "    -m ../trees-in-the-desert-tutorial/data/agid-mat.txt \\\n",
    "    -x ../trees-in-the-desert-tutorial/data/agid-mat.txt_taxlist \\\n",
    "    -o treemerge-on-astral-and-agid-tre.txt \\\n",
    "    -w . \\\n",
    "    -p ./paup4a168_centos64"
   ]
  },
  {
   "cell_type": "code",
   "execution_count": 11,
   "metadata": {},
   "outputs": [],
   "source": [
    "## Modify the script to save individual subtrees as newick string txt\n",
    "## tree_rec.write(path=\"output.tre\", schema=\"newick\")\n",
    "## save the distance matrix in phylip format\n",
    "import sys, os\n",
    "\n",
    "sys.path.append(\"/gpfs/ysm/project/kleinstein/mw957/repos/spectral-tree-inference/spectraltree\")\n",
    "\n",
    "import generation\n",
    "import reconstruct_tree\n",
    "import time\n",
    "import utils\n",
    "import pandas as pd\n",
    "import argparse\n",
    "\n",
    "\n",
    "m = 300\n",
    "kappa = 2\n",
    "mutation_rate=0.05\n",
    "threshold = 20\n",
    "verbose = False\n",
    "\n",
    "tree = utils.balanced_binary(256)"
   ]
  },
  {
   "cell_type": "code",
   "execution_count": 14,
   "metadata": {},
   "outputs": [],
   "source": [
    "filename = '/gpfs/ysm/scratch60/morgan_levine/mw957/subtrees/true_tree.txt'\n",
    "tree.write(path=filename, schema=\"newick\")"
   ]
  },
  {
   "cell_type": "code",
   "execution_count": null,
   "metadata": {},
   "outputs": [],
   "source": [
    "observations, taxa_meta = generation.simulate_sequences(m, tree_model=tree, seq_model=generation.Jukes_Cantor(), mutation_rate=mutation_rate, alphabet=\"DNA\")\n",
    "\n",
    "spectral_method = reconstruct_tree.SpectralTreeReconstruction(reconstruct_tree.NeighborJoining, reconstruct_tree.JC_similarity_matrix)\n",
    "    \n",
    "tree_rec = spectral_method.deep_spectral_tree_reconstruction(observations, reconstruct_tree.HKY_similarity_matrix, \n",
    "                                                            taxa_metadata = taxa_meta,\n",
    "                                                            threshhold = threshold, min_split = 5, verbose = verbose)"
   ]
  },
  {
   "cell_type": "code",
   "execution_count": 5,
   "metadata": {},
   "outputs": [],
   "source": [
    "# 17 subtrees\n",
    "filename = '/gpfs/ysm/scratch60/morgan_levine/mw957/subtrees/STDR_tree.txt'\n",
    "tree_rec.write(path=filename, schema=\"newick\")"
   ]
  },
  {
   "cell_type": "code",
   "execution_count": 2,
   "metadata": {},
   "outputs": [
    {
     "name": "stdout",
     "output_type": "stream",
     "text": [
      "RF =  6\n",
      "F1% =  99.41176470588236\n"
     ]
    }
   ],
   "source": [
    "RF,F1 = reconstruct_tree.compare_trees(tree_rec, tree)\n",
    "\n",
    "print(\"RF = \",RF)\n",
    "print(\"F1% = \",F1) "
   ]
  },
  {
   "cell_type": "code",
   "execution_count": 3,
   "metadata": {},
   "outputs": [],
   "source": [
    "# 17 subtrees\n",
    "filename = '/gpfs/ysm/scratch60/morgan_levine/mw957/subtrees/STDR_tree.txt'\n",
    "tree_rec.write(path=filename, schema=\"newick\")"
   ]
  },
  {
   "cell_type": "code",
   "execution_count": 4,
   "metadata": {},
   "outputs": [],
   "source": [
    "# get the distance matrix\n",
    "\n",
    "distance = reconstruct_tree.JC_distance_matrix(observations, taxa_meta)\n",
    "\n",
    "distance_pd = pd.DataFrame(distance)\n",
    "\n",
    "taxa_list = [x.label for x in taxa_meta]"
   ]
  },
  {
   "cell_type": "code",
   "execution_count": 5,
   "metadata": {},
   "outputs": [],
   "source": [
    "#save as phylip format\n",
    "\n",
    "with open('/gpfs/ysm/scratch60/morgan_levine/mw957/subtrees/taxa.txt', 'w') as f:\n",
    "    for item in taxa_list:\n",
    "        f.write(\"%s\\n\" % item)"
   ]
  },
  {
   "cell_type": "code",
   "execution_count": 6,
   "metadata": {},
   "outputs": [],
   "source": [
    "distance_pd.index = taxa_list"
   ]
  },
  {
   "cell_type": "code",
   "execution_count": 7,
   "metadata": {},
   "outputs": [],
   "source": [
    "distance_pd.to_csv(\"/gpfs/ysm/scratch60/morgan_levine/mw957/subtrees/JC_distance.txt\", \n",
    "                   sep = \"\\t\", header = False)"
   ]
  },
  {
   "cell_type": "markdown",
   "metadata": {},
   "source": [
    "add a line for the tree size at the beginning of the distance_pd. Run treemerge:"
   ]
  },
  {
   "cell_type": "code",
   "execution_count": null,
   "metadata": {},
   "outputs": [],
   "source": [
    "python /gpfs/ysm/project/kleinstein/mw957/repos/treemerge/python/treemerge.py \\\n",
    "-s STDR_tree.txt \\\n",
    "-t subtree-09884766903202061374.txt \\\n",
    "subtree-21251064927194554684.txt \\\n",
    "subtree-24188037843447968671.txt \\\n",
    "subtree-28736709711893042751.txt \\\n",
    "subtree-39830484667598160137.txt \\\n",
    "subtree-44477749596981731588.txt \\\n",
    "subtree-44796723752216619513.txt \\\n",
    "subtree-48652436967575695961.txt \\\n",
    "subtree-51038809888865761993.txt \\\n",
    "subtree-51796522975420271178.txt \\\n",
    "subtree-57517081323465643407.txt \\\n",
    "subtree-58139183252633199315.txt \\\n",
    "subtree-65427439841688407262.txt \\\n",
    "subtree-67521679634100653874.txt \\\n",
    "subtree-70380690168101102136.txt \\\n",
    "subtree-70702737740724630041.txt \\\n",
    "subtree-88510064808045309115.txt \\\n",
    "-m JC_distance.txt \\\n",
    "-x taxa.txt \\\n",
    "-o treemerge-on-STDR-subtree.txt \\\n",
    "-w . \\\n",
    "-p /gpfs/ysm/project/kleinstein/mw957/repos/treemerge/paup4a168_centos64 "
   ]
  },
  {
   "cell_type": "code",
   "execution_count": 9,
   "metadata": {},
   "outputs": [],
   "source": [
    "# read in the tree merged based on STDR trees\n",
    "import dendropy"
   ]
  },
  {
   "cell_type": "code",
   "execution_count": 25,
   "metadata": {},
   "outputs": [],
   "source": [
    "tree_true = dendropy.Tree.get(path = \"/gpfs/ysm/scratch60/morgan_levine/mw957/subtrees/true_tree.txt\",\n",
    "        schema=\"newick\")\n",
    "\n",
    "tree_new = dendropy.Tree.get(path = \"/home/mw957/scratch60/subtrees/treemerge-on-STDR-subtree.txt\", \n",
    "                             schema=\"newick\",\n",
    "                             taxon_namespace=tree_true.taxon_namespace)"
   ]
  },
  {
   "cell_type": "code",
   "execution_count": 26,
   "metadata": {},
   "outputs": [
    {
     "name": "stdout",
     "output_type": "stream",
     "text": [
      "RF =  28\n",
      "F1% =  97.25490196078431\n"
     ]
    }
   ],
   "source": [
    "RF,F1 = reconstruct_tree.compare_trees(tree_new, tree_true)\n",
    "\n",
    "print(\"RF = \",RF)\n",
    "print(\"F1% = \",F1) "
   ]
  }
 ],
 "metadata": {
  "kernelspec": {
   "display_name": "Python 3",
   "language": "python",
   "name": "python3"
  },
  "language_info": {
   "codemirror_mode": {
    "name": "ipython",
    "version": 3
   },
   "file_extension": ".py",
   "mimetype": "text/x-python",
   "name": "python",
   "nbconvert_exporter": "python",
   "pygments_lexer": "ipython3",
   "version": "3.7.7"
  }
 },
 "nbformat": 4,
 "nbformat_minor": 4
}
