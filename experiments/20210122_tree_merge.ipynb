{
 "cells": [
  {
   "cell_type": "markdown",
   "metadata": {},
   "source": [
    "# Treemerge test\n",
    "\n",
    "Mamie Wang 2021/01/22\n"
   ]
  },
  {
   "cell_type": "markdown",
   "metadata": {},
   "source": [
    "https://github.com/ekmolloy/trees-in-the-desert-tutorial"
   ]
  },
  {
   "cell_type": "markdown",
   "metadata": {},
   "source": [
    "Example usage:\n",
    "\n",
    "python ./python/treemerge.py \\\n",
    "    -s ../trees-in-the-desert-tutorial/data/nj-on-agid-tre.txt \\\n",
    "    -t ../trees-in-the-desert-tutorial/data/astral-subset-1-outof-4-tre.txt \\\n",
    "       ../trees-in-the-desert-tutorial/data/astral-subset-2-outof-4-tre.txt \\\n",
    "       ../trees-in-the-desert-tutorial/data/astral-subset-3-outof-4-tre.txt \\\n",
    "       ../trees-in-the-desert-tutorial/data/astral-subset-4-outof-4-tre.txt \\\n",
    "    -m ../trees-in-the-desert-tutorial/data/agid-mat.txt \\\n",
    "    -x ../trees-in-the-desert-tutorial/data/agid-mat.txt_taxlist \\\n",
    "    -o treemerge-on-astral-and-agid-tre.txt \\\n",
    "    -w . \\\n",
    "    -p ./paup4a168_centos64"
   ]
  },
  {
   "cell_type": "code",
   "execution_count": 11,
   "metadata": {},
   "outputs": [],
   "source": [
    "import sys, os\n",
    "\n",
    "sys.path.append(\"/gpfs/ysm/project/kleinstein/mw957/repos/spectral-tree-inference/spectraltree\")\n",
    "\n",
    "import generation\n",
    "import reconstruct_tree\n",
    "import time\n",
    "import utils\n",
    "import pandas as pd\n",
    "import argparse\n",
    "\n",
    "\n",
    "m = 300\n",
    "kappa = 2\n",
    "mutation_rate=0.05\n",
    "threshold = 64\n",
    "verbose = False"
   ]
  },
  {
   "cell_type": "markdown",
   "metadata": {},
   "source": [
    "# Binary Tree"
   ]
  },
  {
   "cell_type": "code",
   "execution_count": 26,
   "metadata": {},
   "outputs": [],
   "source": [
    "tree = utils.balanced_binary(1024)\n",
    "\n",
    "filename = '/gpfs/ysm/scratch60/morgan_levine/mw957/binary/true_tree.txt'\n",
    "tree.write(path=filename, schema=\"newick\")"
   ]
  },
  {
   "cell_type": "code",
   "execution_count": 7,
   "metadata": {},
   "outputs": [
    {
     "data": {
      "text/plain": [
       "<module 'reconstruct_tree' from '/gpfs/ysm/project/kleinstein/mw957/repos/spectral-tree-inference/spectraltree/reconstruct_tree.py'>"
      ]
     },
     "execution_count": 7,
     "metadata": {},
     "output_type": "execute_result"
    }
   ],
   "source": [
    "import importlib\n",
    "importlib.reload(reconstruct_tree)"
   ]
  },
  {
   "cell_type": "code",
   "execution_count": 10,
   "metadata": {},
   "outputs": [
    {
     "name": "stdout",
     "output_type": "stream",
     "text": [
      "4.272215127944946\n"
     ]
    }
   ],
   "source": [
    "observations, taxa_meta = generation.simulate_sequences(m, tree_model=tree, seq_model=generation.Jukes_Cantor(), mutation_rate=mutation_rate, alphabet=\"DNA\")\n",
    "\n",
    "spectral_method = reconstruct_tree.SpectralTreeReconstruction(reconstruct_tree.NeighborJoining, reconstruct_tree.JC_similarity_matrix)\n",
    "start_time = time.time()\n",
    "tree_rec = spectral_method.deep_spectral_tree_reconstruction(observations, reconstruct_tree.JC_similarity_matrix, \n",
    "                                                            taxa_metadata = taxa_meta,\n",
    "                                                            threshhold = threshold, min_split = 5, \n",
    "                                                             verbose = verbose)\n",
    "end_time = time.time() - start_time\n",
    "print(end_time)"
   ]
  },
  {
   "cell_type": "code",
   "execution_count": null,
   "metadata": {},
   "outputs": [],
   "source": [
    "tree_rec = spectral_method.deep_spectral_tree_reconstruction(observations, reconstruct_tree.JC_similarity_matrix, \n",
    "                                                            taxa_metadata = taxa_meta,\n",
    "                                                            threshhold = threshold, min_split = 5, \n",
    "                                                            verbose = verbose, subtree_filename='/gpfs/ysm/scratch60/morgan_levine/mw957/binary/subtree-%s.txt')"
   ]
  },
  {
   "cell_type": "code",
   "execution_count": 12,
   "metadata": {},
   "outputs": [],
   "source": [
    "# 17 subtrees\n",
    "filename = '/gpfs/ysm/scratch60/morgan_levine/mw957/binary/STDR_tree.txt'\n",
    "tree_rec.write(path=filename, schema=\"newick\")"
   ]
  },
  {
   "cell_type": "code",
   "execution_count": 13,
   "metadata": {},
   "outputs": [
    {
     "name": "stdout",
     "output_type": "stream",
     "text": [
      "RF =  34\n",
      "F1% =  99.16911045943304\n"
     ]
    }
   ],
   "source": [
    "RF,F1 = reconstruct_tree.compare_trees(tree_rec, tree)\n",
    "\n",
    "print(\"RF = \",RF)\n",
    "print(\"F1% = \",F1) "
   ]
  },
  {
   "cell_type": "code",
   "execution_count": 14,
   "metadata": {},
   "outputs": [],
   "source": [
    "# get the distance matrix\n",
    "\n",
    "distance = reconstruct_tree.JC_distance_matrix(observations, taxa_meta)\n",
    "distance_pd = pd.DataFrame(distance)\n",
    "\n",
    "taxa_list = [x.label for x in taxa_meta]"
   ]
  },
  {
   "cell_type": "code",
   "execution_count": 15,
   "metadata": {},
   "outputs": [],
   "source": [
    "#save as phylip format\n",
    "\n",
    "with open('/gpfs/ysm/scratch60/morgan_levine/mw957/binary/taxa.txt', 'w') as f:\n",
    "    for item in taxa_list:\n",
    "        f.write(\"%s\\n\" % item)"
   ]
  },
  {
   "cell_type": "code",
   "execution_count": 16,
   "metadata": {},
   "outputs": [],
   "source": [
    "distance_pd.index = taxa_list"
   ]
  },
  {
   "cell_type": "code",
   "execution_count": 17,
   "metadata": {},
   "outputs": [],
   "source": [
    "distance_pd.to_csv(\"/gpfs/ysm/scratch60/morgan_levine/mw957/binary/JC_distance.txt\", \n",
    "                   sep = \"\\t\", header = False)"
   ]
  },
  {
   "cell_type": "markdown",
   "metadata": {},
   "source": [
    "add a line for the tree size at the beginning of the distance_pd. Run treemerge:"
   ]
  },
  {
   "cell_type": "code",
   "execution_count": null,
   "metadata": {},
   "outputs": [],
   "source": [
    "python /gpfs/ysm/project/kleinstein/mw957/repos/treemerge/python/treemerge.py \\\n",
    "-s STDR_tree.txt \\\n",
    "-t subtree-*.txt \\\n",
    "-m JC_distance.txt \\\n",
    "-x taxa.txt \\\n",
    "-o treemerge-on-STDR-subtree.txt \\\n",
    "-w . \\\n",
    "-p /gpfs/ysm/project/kleinstein/mw957/repos/treemerge/paup4a168_centos64 "
   ]
  },
  {
   "cell_type": "code",
   "execution_count": 20,
   "metadata": {},
   "outputs": [],
   "source": [
    "# read in the tree merged based on STDR trees\n",
    "import dendropy"
   ]
  },
  {
   "cell_type": "code",
   "execution_count": 21,
   "metadata": {},
   "outputs": [],
   "source": [
    "tree_true = dendropy.Tree.get(path = \"/gpfs/ysm/scratch60/morgan_levine/mw957/binary/true_tree.txt\",\n",
    "        schema=\"newick\")\n",
    "\n",
    "tree_new = dendropy.Tree.get(path = \"/home/mw957/scratch60/binary/treemerge-on-STDR-subtree.txt\", \n",
    "                             schema=\"newick\",\n",
    "                             taxon_namespace=tree_true.taxon_namespace)"
   ]
  },
  {
   "cell_type": "code",
   "execution_count": 22,
   "metadata": {},
   "outputs": [
    {
     "name": "stdout",
     "output_type": "stream",
     "text": [
      "RF =  142\n",
      "F1% =  96.52981427174976\n"
     ]
    }
   ],
   "source": [
    "RF,F1 = reconstruct_tree.compare_trees(tree_new, tree_true)\n",
    "\n",
    "print(\"RF = \",RF)\n",
    "print(\"F1% = \",F1) "
   ]
  },
  {
   "cell_type": "markdown",
   "metadata": {},
   "source": [
    "The runtime is 194 seconds."
   ]
  },
  {
   "cell_type": "markdown",
   "metadata": {},
   "source": [
    "# Caterpillar tree"
   ]
  },
  {
   "cell_type": "code",
   "execution_count": 23,
   "metadata": {},
   "outputs": [],
   "source": [
    "tree = utils.lopsided_tree(1024)\n",
    "\n",
    "filename = '/gpfs/ysm/scratch60/morgan_levine/mw957/caterpillar_tree//true_tree.txt'\n",
    "tree.write(path=filename, schema=\"newick\")"
   ]
  },
  {
   "cell_type": "code",
   "execution_count": 10,
   "metadata": {},
   "outputs": [
    {
     "data": {
      "text/plain": [
       "<module 'reconstruct_tree' from '/gpfs/ysm/project/kleinstein/mw957/repos/spectral-tree-inference/spectraltree/reconstruct_tree.py'>"
      ]
     },
     "execution_count": 10,
     "metadata": {},
     "output_type": "execute_result"
    }
   ],
   "source": [
    "# reload the package\n",
    "\n",
    "import importlib\n",
    "importlib.reload(reconstruct_tree)"
   ]
  },
  {
   "cell_type": "code",
   "execution_count": 39,
   "metadata": {},
   "outputs": [
    {
     "name": "stdout",
     "output_type": "stream",
     "text": [
      "89.75087451934814\n"
     ]
    }
   ],
   "source": [
    "observations, taxa_meta = generation.simulate_sequences(m, tree_model=tree, seq_model=generation.Jukes_Cantor(), \n",
    "                                                        mutation_rate=mutation_rate, alphabet=\"DNA\")\n",
    "\n",
    "spectral_method = reconstruct_tree.SpectralTreeReconstruction(reconstruct_tree.NeighborJoining, reconstruct_tree.JC_similarity_matrix)\n",
    "\n",
    "start_time = time.time()\n",
    "tree_rec = spectral_method.deep_spectral_tree_reconstruction(observations, reconstruct_tree.HKY_similarity_matrix, \n",
    "                                                            taxa_metadata = taxa_meta,\n",
    "                                                            threshhold = threshold, min_split = 5, verbose = verbose)\n",
    "end_time = time.time() - start_time\n",
    "print(end_time)"
   ]
  },
  {
   "cell_type": "code",
   "execution_count": 40,
   "metadata": {},
   "outputs": [],
   "source": [
    "tree_rec = spectral_method.deep_spectral_tree_reconstruction(observations, reconstruct_tree.HKY_similarity_matrix_similarity_matrix, \n",
    "                                                            taxa_metadata = taxa_meta,\n",
    "                                                            threshhold = threshold, min_split = 5, verbose = verbose,\n",
    "                                                            subtree_filename= '/gpfs/ysm/scratch60/morgan_levine/mw957/caterpillar_tree/subtree-%s.txt')"
   ]
  },
  {
   "cell_type": "code",
   "execution_count": 41,
   "metadata": {},
   "outputs": [],
   "source": [
    "filename = '/gpfs/ysm/scratch60/morgan_levine/mw957/caterpillar_tree/STDR_tree.txt'\n",
    "tree_rec.write(path=filename, schema=\"newick\")"
   ]
  },
  {
   "cell_type": "code",
   "execution_count": 42,
   "metadata": {},
   "outputs": [
    {
     "name": "stdout",
     "output_type": "stream",
     "text": [
      "RF =  74\n",
      "F1% =  98.19159335288367\n"
     ]
    }
   ],
   "source": [
    "RF,F1 = reconstruct_tree.compare_trees(tree_rec, tree)\n",
    "\n",
    "print(\"RF = \",RF)\n",
    "print(\"F1% = \",F1) "
   ]
  },
  {
   "cell_type": "code",
   "execution_count": null,
   "metadata": {},
   "outputs": [],
   "source": [
    "# get the distance matrix\n",
    "\n",
    "sim = reconstruct_tree.HKY_similarity_matrix(observations, taxa_meta)"
   ]
  },
  {
   "cell_type": "code",
   "execution_count": 44,
   "metadata": {},
   "outputs": [],
   "source": [
    "import numpy as np\n",
    "\n",
    "distance = np.exp(-sim)\n",
    "\n",
    "distance_pd = pd.DataFrame(distance)\n",
    "\n",
    "taxa_list = [x.label for x in taxa_meta]"
   ]
  },
  {
   "cell_type": "code",
   "execution_count": 45,
   "metadata": {},
   "outputs": [],
   "source": [
    "#save as phylip format\n",
    "\n",
    "with open('/gpfs/ysm/scratch60/morgan_levine/mw957/caterpillar_tree/taxa.txt', 'w') as f:\n",
    "    for item in taxa_list:\n",
    "        f.write(\"%s\\n\" % item)"
   ]
  },
  {
   "cell_type": "code",
   "execution_count": 46,
   "metadata": {},
   "outputs": [],
   "source": [
    "distance_pd.index = taxa_list"
   ]
  },
  {
   "cell_type": "code",
   "execution_count": 47,
   "metadata": {},
   "outputs": [],
   "source": [
    "distance_pd.to_csv(\"/gpfs/ysm/scratch60/morgan_levine/mw957/caterpillar_tree/JC_distance.txt\", \n",
    "                   sep = \"\\t\", header = False)"
   ]
  },
  {
   "cell_type": "markdown",
   "metadata": {},
   "source": [
    "add a line for the tree size at the beginning of the distance_pd. Run treemerge:"
   ]
  },
  {
   "cell_type": "code",
   "execution_count": null,
   "metadata": {},
   "outputs": [],
   "source": [
    "python /gpfs/ysm/project/kleinstein/mw957/repos/treemerge/python/treemerge.py \\\n",
    "-s STDR_tree.txt \\\n",
    "-t subtree-*.txt \\\n",
    "-m JC_distance.txt \\\n",
    "-x taxa.txt \\\n",
    "-o treemerge-on-STDR-subtree.txt \\\n",
    "-w . \\\n",
    "-p /gpfs/ysm/project/kleinstein/mw957/repos/treemerge/paup4a168_centos64 "
   ]
  },
  {
   "cell_type": "code",
   "execution_count": 48,
   "metadata": {},
   "outputs": [],
   "source": [
    "tree_true = dendropy.Tree.get(path = \"/gpfs/ysm/scratch60/morgan_levine/mw957/caterpillar_tree/true_tree.txt\",\n",
    "        schema=\"newick\")\n",
    "\n",
    "tree_new = dendropy.Tree.get(path = \"/home/mw957/scratch60/caterpillar_tree/treemerge-on-STDR-subtree.txt\", \n",
    "                             schema=\"newick\",\n",
    "                             taxon_namespace=tree_true.taxon_namespace)"
   ]
  },
  {
   "cell_type": "code",
   "execution_count": 49,
   "metadata": {},
   "outputs": [
    {
     "name": "stdout",
     "output_type": "stream",
     "text": [
      "RF =  1122\n",
      "F1% =  72.58064516129033\n"
     ]
    }
   ],
   "source": [
    "RF,F1 = reconstruct_tree.compare_trees(tree_new, tree_true)\n",
    "\n",
    "print(\"RF = \",RF)\n",
    "print(\"F1% = \",F1) "
   ]
  },
  {
   "cell_type": "markdown",
   "metadata": {},
   "source": [
    "## 513 seconds"
   ]
  },
  {
   "cell_type": "markdown",
   "metadata": {},
   "source": [
    "# Kingman tree"
   ]
  },
  {
   "cell_type": "code",
   "execution_count": 51,
   "metadata": {},
   "outputs": [],
   "source": [
    "tree = utils.unrooted_pure_kingman_tree(1024)\n",
    "\n",
    "filename = '/gpfs/ysm/scratch60/morgan_levine/mw957/kingman/true_tree.txt'\n",
    "tree.write(path=filename, schema=\"newick\")"
   ]
  },
  {
   "cell_type": "code",
   "execution_count": 6,
   "metadata": {},
   "outputs": [
    {
     "data": {
      "text/plain": [
       "<module 'reconstruct_tree' from '/gpfs/ysm/project/kleinstein/mw957/repos/spectral-tree-inference/spectraltree/reconstruct_tree.py'>"
      ]
     },
     "execution_count": 6,
     "metadata": {},
     "output_type": "execute_result"
    }
   ],
   "source": [
    "# reload the package\n",
    "\n",
    "import importlib\n",
    "importlib.reload(reconstruct_tree)"
   ]
  },
  {
   "cell_type": "code",
   "execution_count": 53,
   "metadata": {},
   "outputs": [
    {
     "name": "stderr",
     "output_type": "stream",
     "text": [
      "/home/mw957/project/conda_envs/r_env/lib/python3.7/site-packages/sklearn/decomposition/_truncated_svd.py:197: RuntimeWarning: divide by zero encountered in true_divide\n",
      "  self.explained_variance_ratio_ = exp_var / full_var\n",
      "/home/mw957/project/conda_envs/r_env/lib/python3.7/site-packages/sklearn/decomposition/_truncated_svd.py:197: RuntimeWarning: divide by zero encountered in true_divide\n",
      "  self.explained_variance_ratio_ = exp_var / full_var\n",
      "/home/mw957/project/conda_envs/r_env/lib/python3.7/site-packages/sklearn/decomposition/_truncated_svd.py:197: RuntimeWarning: divide by zero encountered in true_divide\n",
      "  self.explained_variance_ratio_ = exp_var / full_var\n",
      "/home/mw957/project/conda_envs/r_env/lib/python3.7/site-packages/sklearn/decomposition/_truncated_svd.py:197: RuntimeWarning: divide by zero encountered in true_divide\n",
      "  self.explained_variance_ratio_ = exp_var / full_var\n",
      "/home/mw957/project/conda_envs/r_env/lib/python3.7/site-packages/sklearn/decomposition/_truncated_svd.py:197: RuntimeWarning: divide by zero encountered in true_divide\n",
      "  self.explained_variance_ratio_ = exp_var / full_var\n",
      "/home/mw957/project/conda_envs/r_env/lib/python3.7/site-packages/sklearn/decomposition/_truncated_svd.py:197: RuntimeWarning: divide by zero encountered in true_divide\n",
      "  self.explained_variance_ratio_ = exp_var / full_var\n",
      "/home/mw957/project/conda_envs/r_env/lib/python3.7/site-packages/sklearn/decomposition/_truncated_svd.py:197: RuntimeWarning: divide by zero encountered in true_divide\n",
      "  self.explained_variance_ratio_ = exp_var / full_var\n",
      "/home/mw957/project/conda_envs/r_env/lib/python3.7/site-packages/sklearn/decomposition/_truncated_svd.py:197: RuntimeWarning: divide by zero encountered in true_divide\n",
      "  self.explained_variance_ratio_ = exp_var / full_var\n",
      "/home/mw957/project/conda_envs/r_env/lib/python3.7/site-packages/sklearn/decomposition/_truncated_svd.py:197: RuntimeWarning: divide by zero encountered in true_divide\n",
      "  self.explained_variance_ratio_ = exp_var / full_var\n",
      "/home/mw957/project/conda_envs/r_env/lib/python3.7/site-packages/sklearn/decomposition/_truncated_svd.py:197: RuntimeWarning: invalid value encountered in true_divide\n",
      "  self.explained_variance_ratio_ = exp_var / full_var\n",
      "/home/mw957/project/conda_envs/r_env/lib/python3.7/site-packages/sklearn/decomposition/_truncated_svd.py:197: RuntimeWarning: divide by zero encountered in true_divide\n",
      "  self.explained_variance_ratio_ = exp_var / full_var\n",
      "/home/mw957/project/conda_envs/r_env/lib/python3.7/site-packages/sklearn/decomposition/_truncated_svd.py:197: RuntimeWarning: divide by zero encountered in true_divide\n",
      "  self.explained_variance_ratio_ = exp_var / full_var\n",
      "/home/mw957/project/conda_envs/r_env/lib/python3.7/site-packages/sklearn/decomposition/_truncated_svd.py:197: RuntimeWarning: invalid value encountered in true_divide\n",
      "  self.explained_variance_ratio_ = exp_var / full_var\n",
      "/home/mw957/project/conda_envs/r_env/lib/python3.7/site-packages/sklearn/decomposition/_truncated_svd.py:197: RuntimeWarning: divide by zero encountered in true_divide\n",
      "  self.explained_variance_ratio_ = exp_var / full_var\n",
      "/home/mw957/project/conda_envs/r_env/lib/python3.7/site-packages/sklearn/decomposition/_truncated_svd.py:197: RuntimeWarning: divide by zero encountered in true_divide\n",
      "  self.explained_variance_ratio_ = exp_var / full_var\n",
      "/home/mw957/project/conda_envs/r_env/lib/python3.7/site-packages/sklearn/decomposition/_truncated_svd.py:197: RuntimeWarning: divide by zero encountered in true_divide\n",
      "  self.explained_variance_ratio_ = exp_var / full_var\n",
      "/home/mw957/project/conda_envs/r_env/lib/python3.7/site-packages/sklearn/decomposition/_truncated_svd.py:197: RuntimeWarning: divide by zero encountered in true_divide\n",
      "  self.explained_variance_ratio_ = exp_var / full_var\n"
     ]
    },
    {
     "name": "stdout",
     "output_type": "stream",
     "text": [
      "89.7973210811615\n"
     ]
    }
   ],
   "source": [
    "observations, taxa_meta = generation.simulate_sequences(m, tree_model=tree, seq_model=generation.Jukes_Cantor(), \n",
    "                                                        mutation_rate=mutation_rate, alphabet=\"DNA\")\n",
    "\n",
    "spectral_method = reconstruct_tree.SpectralTreeReconstruction(reconstruct_tree.NeighborJoining, reconstruct_tree.JC_similarity_matrix)\n",
    "\n",
    "start_time = time.time()\n",
    "tree_rec = spectral_method.deep_spectral_tree_reconstruction(observations, reconstruct_tree.HKY_similarity_matrix, \n",
    "                                                            taxa_metadata = taxa_meta,\n",
    "                                                            threshhold = threshold, min_split = 5, verbose = verbose)\n",
    "end_time = time.time() - start_time\n",
    "print(end_time)"
   ]
  },
  {
   "cell_type": "code",
   "execution_count": 54,
   "metadata": {},
   "outputs": [
    {
     "name": "stderr",
     "output_type": "stream",
     "text": [
      "/home/mw957/project/conda_envs/r_env/lib/python3.7/site-packages/sklearn/decomposition/_truncated_svd.py:197: RuntimeWarning: divide by zero encountered in true_divide\n",
      "  self.explained_variance_ratio_ = exp_var / full_var\n",
      "/home/mw957/project/conda_envs/r_env/lib/python3.7/site-packages/sklearn/decomposition/_truncated_svd.py:197: RuntimeWarning: divide by zero encountered in true_divide\n",
      "  self.explained_variance_ratio_ = exp_var / full_var\n",
      "/home/mw957/project/conda_envs/r_env/lib/python3.7/site-packages/sklearn/decomposition/_truncated_svd.py:197: RuntimeWarning: divide by zero encountered in true_divide\n",
      "  self.explained_variance_ratio_ = exp_var / full_var\n",
      "/home/mw957/project/conda_envs/r_env/lib/python3.7/site-packages/sklearn/decomposition/_truncated_svd.py:197: RuntimeWarning: divide by zero encountered in true_divide\n",
      "  self.explained_variance_ratio_ = exp_var / full_var\n",
      "/home/mw957/project/conda_envs/r_env/lib/python3.7/site-packages/sklearn/decomposition/_truncated_svd.py:197: RuntimeWarning: divide by zero encountered in true_divide\n",
      "  self.explained_variance_ratio_ = exp_var / full_var\n",
      "/home/mw957/project/conda_envs/r_env/lib/python3.7/site-packages/sklearn/decomposition/_truncated_svd.py:197: RuntimeWarning: divide by zero encountered in true_divide\n",
      "  self.explained_variance_ratio_ = exp_var / full_var\n",
      "/home/mw957/project/conda_envs/r_env/lib/python3.7/site-packages/sklearn/decomposition/_truncated_svd.py:197: RuntimeWarning: divide by zero encountered in true_divide\n",
      "  self.explained_variance_ratio_ = exp_var / full_var\n",
      "/home/mw957/project/conda_envs/r_env/lib/python3.7/site-packages/sklearn/decomposition/_truncated_svd.py:197: RuntimeWarning: divide by zero encountered in true_divide\n",
      "  self.explained_variance_ratio_ = exp_var / full_var\n",
      "/home/mw957/project/conda_envs/r_env/lib/python3.7/site-packages/sklearn/decomposition/_truncated_svd.py:197: RuntimeWarning: divide by zero encountered in true_divide\n",
      "  self.explained_variance_ratio_ = exp_var / full_var\n",
      "/home/mw957/project/conda_envs/r_env/lib/python3.7/site-packages/sklearn/decomposition/_truncated_svd.py:197: RuntimeWarning: invalid value encountered in true_divide\n",
      "  self.explained_variance_ratio_ = exp_var / full_var\n",
      "/home/mw957/project/conda_envs/r_env/lib/python3.7/site-packages/sklearn/decomposition/_truncated_svd.py:197: RuntimeWarning: divide by zero encountered in true_divide\n",
      "  self.explained_variance_ratio_ = exp_var / full_var\n",
      "/home/mw957/project/conda_envs/r_env/lib/python3.7/site-packages/sklearn/decomposition/_truncated_svd.py:197: RuntimeWarning: divide by zero encountered in true_divide\n",
      "  self.explained_variance_ratio_ = exp_var / full_var\n",
      "/home/mw957/project/conda_envs/r_env/lib/python3.7/site-packages/sklearn/decomposition/_truncated_svd.py:197: RuntimeWarning: invalid value encountered in true_divide\n",
      "  self.explained_variance_ratio_ = exp_var / full_var\n",
      "/home/mw957/project/conda_envs/r_env/lib/python3.7/site-packages/sklearn/decomposition/_truncated_svd.py:197: RuntimeWarning: divide by zero encountered in true_divide\n",
      "  self.explained_variance_ratio_ = exp_var / full_var\n",
      "/home/mw957/project/conda_envs/r_env/lib/python3.7/site-packages/sklearn/decomposition/_truncated_svd.py:197: RuntimeWarning: divide by zero encountered in true_divide\n",
      "  self.explained_variance_ratio_ = exp_var / full_var\n",
      "/home/mw957/project/conda_envs/r_env/lib/python3.7/site-packages/sklearn/decomposition/_truncated_svd.py:197: RuntimeWarning: divide by zero encountered in true_divide\n",
      "  self.explained_variance_ratio_ = exp_var / full_var\n",
      "/home/mw957/project/conda_envs/r_env/lib/python3.7/site-packages/sklearn/decomposition/_truncated_svd.py:197: RuntimeWarning: divide by zero encountered in true_divide\n",
      "  self.explained_variance_ratio_ = exp_var / full_var\n"
     ]
    }
   ],
   "source": [
    "tree_rec = spectral_method.deep_spectral_tree_reconstruction(observations, reconstruct_tree.HKY_similarity_matrix, \n",
    "                                                            taxa_metadata = taxa_meta,\n",
    "                                                            threshhold = threshold, min_split = 5, verbose = verbose,\n",
    "                                                            subtree_filename = \"/gpfs/ysm/scratch60/morgan_levine/mw957/kingman/subtree-%s.txt\")"
   ]
  },
  {
   "cell_type": "code",
   "execution_count": 57,
   "metadata": {},
   "outputs": [],
   "source": [
    "filename = '/gpfs/ysm/scratch60/morgan_levine/mw957/kingman/STDR_tree.txt'\n",
    "tree_rec.write(path=filename, schema=\"newick\")"
   ]
  },
  {
   "cell_type": "code",
   "execution_count": 58,
   "metadata": {},
   "outputs": [
    {
     "name": "stdout",
     "output_type": "stream",
     "text": [
      "RF =  1758\n",
      "F1% =  57.03812316715544\n"
     ]
    }
   ],
   "source": [
    "RF,F1 = reconstruct_tree.compare_trees(tree_rec, tree)\n",
    "\n",
    "print(\"RF = \",RF)\n",
    "print(\"F1% = \",F1) "
   ]
  },
  {
   "cell_type": "code",
   "execution_count": 60,
   "metadata": {},
   "outputs": [],
   "source": [
    "# get the distance matrix\n",
    "\n",
    "sim = reconstruct_tree.HKY_similarity_matrix(observations, taxa_meta)\n",
    "\n",
    "distance = np.exp(-sim)\n",
    "distance_pd = pd.DataFrame(distance)\n",
    "\n",
    "taxa_list = [x.label for x in taxa_meta]"
   ]
  },
  {
   "cell_type": "code",
   "execution_count": 61,
   "metadata": {},
   "outputs": [],
   "source": [
    "#save as phylip format\n",
    "\n",
    "with open('/gpfs/ysm/scratch60/morgan_levine/mw957/kingman/taxa.txt', 'w') as f:\n",
    "    for item in taxa_list:\n",
    "        f.write(\"%s\\n\" % item)"
   ]
  },
  {
   "cell_type": "code",
   "execution_count": 62,
   "metadata": {},
   "outputs": [],
   "source": [
    "distance_pd.index = taxa_list"
   ]
  },
  {
   "cell_type": "code",
   "execution_count": 63,
   "metadata": {},
   "outputs": [],
   "source": [
    "distance_pd.to_csv(\"/gpfs/ysm/scratch60/morgan_levine/mw957/kingman/JC_distance.txt\", \n",
    "                   sep = \"\\t\", header = False)"
   ]
  },
  {
   "cell_type": "markdown",
   "metadata": {},
   "source": [
    "add a line for the tree size at the beginning of the distance_pd. Run treemerge:"
   ]
  },
  {
   "cell_type": "code",
   "execution_count": null,
   "metadata": {},
   "outputs": [],
   "source": [
    "python /gpfs/ysm/project/kleinstein/mw957/repos/treemerge/python/treemerge.py \\\n",
    "-s STDR_tree.txt \\\n",
    "-t subtree-*.txt \\\n",
    "-m JC_distance.txt \\\n",
    "-x taxa.txt \\\n",
    "-o treemerge-on-STDR-subtree.txt \\\n",
    "-w . \\\n",
    "-p /gpfs/ysm/project/kleinstein/mw957/repos/treemerge/paup4a168_centos64 "
   ]
  },
  {
   "cell_type": "code",
   "execution_count": 64,
   "metadata": {},
   "outputs": [],
   "source": [
    "tree_true = dendropy.Tree.get(path = \"/gpfs/ysm/scratch60/morgan_levine/mw957/kingman/true_tree.txt\",\n",
    "        schema=\"newick\")\n",
    "\n",
    "tree_new = dendropy.Tree.get(path = \"/home/mw957/scratch60/kingman/treemerge-on-STDR-subtree.txt\", \n",
    "                             schema=\"newick\",\n",
    "                             taxon_namespace=tree_true.taxon_namespace)"
   ]
  },
  {
   "cell_type": "code",
   "execution_count": 65,
   "metadata": {},
   "outputs": [
    {
     "name": "stdout",
     "output_type": "stream",
     "text": [
      "RF =  1798\n",
      "F1% =  56.060606060606055\n"
     ]
    }
   ],
   "source": [
    "RF,F1 = reconstruct_tree.compare_trees(tree_new, tree_true)\n",
    "\n",
    "print(\"RF = \",RF)\n",
    "print(\"F1% = \",F1) "
   ]
  },
  {
   "cell_type": "markdown",
   "metadata": {},
   "source": [
    "## 216 seconds"
   ]
  },
  {
   "cell_type": "markdown",
   "metadata": {},
   "source": [
    "# unrooted_birth_death_tree"
   ]
  },
  {
   "cell_type": "code",
   "execution_count": 66,
   "metadata": {},
   "outputs": [],
   "source": [
    "tree = utils.unrooted_birth_death_tree(1024)\n",
    "\n",
    "filename = '/gpfs/ysm/scratch60/morgan_levine/mw957/birthdeath/true_tree.txt'\n",
    "tree.write(path=filename, schema=\"newick\")"
   ]
  },
  {
   "cell_type": "code",
   "execution_count": 3,
   "metadata": {},
   "outputs": [
    {
     "data": {
      "text/plain": [
       "<module 'reconstruct_tree' from '/gpfs/ysm/project/kleinstein/mw957/repos/spectral-tree-inference/spectraltree/reconstruct_tree.py'>"
      ]
     },
     "execution_count": 3,
     "metadata": {},
     "output_type": "execute_result"
    }
   ],
   "source": [
    "# reload the package\n",
    "\n",
    "import importlib\n",
    "importlib.reload(reconstruct_tree)"
   ]
  },
  {
   "cell_type": "code",
   "execution_count": 67,
   "metadata": {},
   "outputs": [
    {
     "name": "stdout",
     "output_type": "stream",
     "text": [
      "93.53313970565796\n"
     ]
    }
   ],
   "source": [
    "observations, taxa_meta = generation.simulate_sequences(m, tree_model=tree, seq_model=generation.Jukes_Cantor(), \n",
    "                                                        mutation_rate=mutation_rate, alphabet=\"DNA\")\n",
    "\n",
    "spectral_method = reconstruct_tree.SpectralTreeReconstruction(reconstruct_tree.NeighborJoining, reconstruct_tree.JC_similarity_matrix)\n",
    "start_time = time.time()\n",
    "tree_rec = spectral_method.deep_spectral_tree_reconstruction(observations, reconstruct_tree.HKY_similarity_matrix, \n",
    "                                                            taxa_metadata = taxa_meta,\n",
    "                                                            threshhold = threshold, min_split = 5, verbose = verbose)\n",
    "end_time = time.time() - start_time\n",
    "print(end_time)"
   ]
  },
  {
   "cell_type": "code",
   "execution_count": 68,
   "metadata": {},
   "outputs": [],
   "source": [
    "filename = '/gpfs/ysm/scratch60/morgan_levine/mw957/birthdeath/STDR_tree.txt'\n",
    "tree_rec.write(path=filename, schema=\"newick\")"
   ]
  },
  {
   "cell_type": "code",
   "execution_count": 69,
   "metadata": {},
   "outputs": [
    {
     "name": "stdout",
     "output_type": "stream",
     "text": [
      "RF =  452\n",
      "F1% =  88.95405669599218\n"
     ]
    }
   ],
   "source": [
    "RF,F1 = reconstruct_tree.compare_trees(tree_rec, tree)\n",
    "\n",
    "print(\"RF = \",RF)\n",
    "print(\"F1% = \",F1) "
   ]
  },
  {
   "cell_type": "code",
   "execution_count": 70,
   "metadata": {},
   "outputs": [],
   "source": [
    "tree_rec = spectral_method.deep_spectral_tree_reconstruction(observations, reconstruct_tree.HKY_similarity_matrix, \n",
    "                                                            taxa_metadata = taxa_meta,\n",
    "                                                            threshhold = threshold, min_split = 5, verbose = verbose,\n",
    "                                                            subtree_filename = \"/gpfs/ysm/scratch60/morgan_levine/mw957/birthdeath/subtree-%s.txt\")"
   ]
  },
  {
   "cell_type": "code",
   "execution_count": 71,
   "metadata": {},
   "outputs": [],
   "source": [
    "# get the distance matrix\n",
    "\n",
    "sim = reconstruct_tree.HKY_similarity_matrix(observations, taxa_meta)\n",
    "distance = np.exp(-sim)\n",
    "\n",
    "distance_pd = pd.DataFrame(distance)\n",
    "\n",
    "taxa_list = [x.label for x in taxa_meta]"
   ]
  },
  {
   "cell_type": "code",
   "execution_count": 72,
   "metadata": {},
   "outputs": [],
   "source": [
    "#save as phylip format\n",
    "\n",
    "with open('/gpfs/ysm/scratch60/morgan_levine/mw957/birthdeath/taxa.txt', 'w') as f:\n",
    "    for item in taxa_list:\n",
    "        f.write(\"%s\\n\" % item)"
   ]
  },
  {
   "cell_type": "code",
   "execution_count": 73,
   "metadata": {},
   "outputs": [],
   "source": [
    "distance_pd.index = taxa_list"
   ]
  },
  {
   "cell_type": "code",
   "execution_count": 74,
   "metadata": {},
   "outputs": [],
   "source": [
    "distance_pd.to_csv(\"/gpfs/ysm/scratch60/morgan_levine/mw957/birthdeath/JC_distance.txt\", \n",
    "                   sep = \"\\t\", header = False)"
   ]
  },
  {
   "cell_type": "markdown",
   "metadata": {},
   "source": [
    "add a line for the tree size at the beginning of the diHKY_similarity_matrixd. Run treemerge:"
   ]
  },
  {
   "cell_type": "code",
   "execution_count": null,
   "metadata": {},
   "outputs": [],
   "source": [
    "python /gpfs/ysm/project/kleinstein/mw957/repos/treemerge/python/treemerge.py \\\n",
    "-s STDR_tree.txt \\\n",
    "-t subtree-*.txt \\\n",
    "-m JC_distance.txt \\\n",
    "-x taxa.txt \\\n",
    "-o treemerge-on-STDR-subtree.txt \\\n",
    "-w . \\\n",
    "-p /gpfs/ysm/project/kleinstein/mw957/repos/treemerge/paup4a168_centos64 "
   ]
  },
  {
   "cell_type": "code",
   "execution_count": 11,
   "metadata": {},
   "outputs": [],
   "source": [
    "# read in the tree merged based on STDR trees\n",
    "import dendropy\n",
    "\n",
    "tree_true = dendropy.Tree.get(path = \"/gpfs/ysm/scratch60/morgan_levine/mw957/birthdeath/true_tree.txt\",\n",
    "        schema=\"newick\")\n",
    "\n",
    "tree_new = dendropy.Tree.get(path = \"/home/mw957/scratch60/birthdeath/treemerge-on-STDR-subtree.txt\", \n",
    "                             schema=\"newick\",\n",
    "                             taxon_namespace=tree_true.taxon_namespace)"
   ]
  },
  {
   "cell_type": "code",
   "execution_count": 76,
   "metadata": {},
   "outputs": [
    {
     "name": "stdout",
     "output_type": "stream",
     "text": [
      "RF =  390\n",
      "F1% =  90.4692082111437\n"
     ]
    }
   ],
   "source": [
    "RF,F1 = reconstruct_tree.compare_trees(tree_new, tree_true)\n",
    "\n",
    "print(\"RF = \",RF)\n",
    "print(\"F1% = \",F1) "
   ]
  },
  {
   "cell_type": "markdown",
   "metadata": {},
   "source": [
    "## 121 seconds"
   ]
  },
  {
   "cell_type": "code",
   "execution_count": 4,
   "metadata": {},
   "outputs": [],
   "source": [
    "# rewrite the functions so that it calls the function on commandline\n",
    "# for each experiment (m = 2000, n = 2000 - 8000, mutation rate = 0.4)\n",
    "\n",
    "# run STDR RAXML 128 and write out trees into a directory (tsv)\n",
    "\n",
    "\n",
    "parameters = pd.read_csv(\"test_kingman_tree.lst\", sep = \"\\t\")\n",
    "\n",
    "# pass the directory file to command line code to run mergetrees"
   ]
  },
  {
   "cell_type": "code",
   "execution_count": 5,
   "metadata": {},
   "outputs": [
    {
     "data": {
      "text/html": [
       "<div>\n",
       "<style scoped>\n",
       "    .dataframe tbody tr th:only-of-type {\n",
       "        vertical-align: middle;\n",
       "    }\n",
       "\n",
       "    .dataframe tbody tr th {\n",
       "        vertical-align: top;\n",
       "    }\n",
       "\n",
       "    .dataframe thead th {\n",
       "        text-align: right;\n",
       "    }\n",
       "</style>\n",
       "<table border=\"1\" class=\"dataframe\">\n",
       "  <thead>\n",
       "    <tr style=\"text-align: right;\">\n",
       "      <th></th>\n",
       "      <th>type</th>\n",
       "      <th>method</th>\n",
       "      <th>nrun</th>\n",
       "      <th>size</th>\n",
       "      <th>path</th>\n",
       "      <th>threshold</th>\n",
       "      <th>m</th>\n",
       "      <th>kappa</th>\n",
       "      <th>mutation_rate</th>\n",
       "      <th>verbose</th>\n",
       "    </tr>\n",
       "  </thead>\n",
       "  <tbody>\n",
       "    <tr>\n",
       "      <th>0</th>\n",
       "      <td>kingman</td>\n",
       "      <td>NJ</td>\n",
       "      <td>5</td>\n",
       "      <td>2000</td>\n",
       "      <td>None</td>\n",
       "      <td>0</td>\n",
       "      <td>2000</td>\n",
       "      <td>2</td>\n",
       "      <td>0.4</td>\n",
       "      <td>True</td>\n",
       "    </tr>\n",
       "    <tr>\n",
       "      <th>1</th>\n",
       "      <td>kingman</td>\n",
       "      <td>SNJ</td>\n",
       "      <td>5</td>\n",
       "      <td>2000</td>\n",
       "      <td>None</td>\n",
       "      <td>0</td>\n",
       "      <td>2000</td>\n",
       "      <td>2</td>\n",
       "      <td>0.4</td>\n",
       "      <td>True</td>\n",
       "    </tr>\n",
       "    <tr>\n",
       "      <th>2</th>\n",
       "      <td>kingman</td>\n",
       "      <td>RAxML</td>\n",
       "      <td>5</td>\n",
       "      <td>2000</td>\n",
       "      <td>None</td>\n",
       "      <td>0</td>\n",
       "      <td>2000</td>\n",
       "      <td>2</td>\n",
       "      <td>0.4</td>\n",
       "      <td>True</td>\n",
       "    </tr>\n",
       "    <tr>\n",
       "      <th>3</th>\n",
       "      <td>kingman</td>\n",
       "      <td>STDR+NJ</td>\n",
       "      <td>5</td>\n",
       "      <td>2000</td>\n",
       "      <td>None</td>\n",
       "      <td>256</td>\n",
       "      <td>2000</td>\n",
       "      <td>2</td>\n",
       "      <td>0.4</td>\n",
       "      <td>True</td>\n",
       "    </tr>\n",
       "    <tr>\n",
       "      <th>4</th>\n",
       "      <td>kingman</td>\n",
       "      <td>STDR+NJ</td>\n",
       "      <td>5</td>\n",
       "      <td>2000</td>\n",
       "      <td>None</td>\n",
       "      <td>128</td>\n",
       "      <td>2000</td>\n",
       "      <td>2</td>\n",
       "      <td>0.4</td>\n",
       "      <td>True</td>\n",
       "    </tr>\n",
       "  </tbody>\n",
       "</table>\n",
       "</div>"
      ],
      "text/plain": [
       "      type   method  nrun  size  path  threshold     m  kappa  mutation_rate  \\\n",
       "0  kingman       NJ     5  2000  None          0  2000      2            0.4   \n",
       "1  kingman      SNJ     5  2000  None          0  2000      2            0.4   \n",
       "2  kingman    RAxML     5  2000  None          0  2000      2            0.4   \n",
       "3  kingman  STDR+NJ     5  2000  None        256  2000      2            0.4   \n",
       "4  kingman  STDR+NJ     5  2000  None        128  2000      2            0.4   \n",
       "\n",
       "   verbose  \n",
       "0     True  \n",
       "1     True  \n",
       "2     True  \n",
       "3     True  \n",
       "4     True  "
      ]
     },
     "execution_count": 5,
     "metadata": {},
     "output_type": "execute_result"
    }
   ],
   "source": [
    "parameters.head()"
   ]
  },
  {
   "cell_type": "code",
   "execution_count": 13,
   "metadata": {},
   "outputs": [
    {
     "name": "stderr",
     "output_type": "stream",
     "text": [
      "/home/mw957/project/conda_envs/r_env/lib/python3.7/site-packages/pandas/core/generic.py:5168: SettingWithCopyWarning: \n",
      "A value is trying to be set on a copy of a slice from a DataFrame.\n",
      "Try using .loc[row_indexer,col_indexer] = value instead\n",
      "\n",
      "See the caveats in the documentation: https://pandas.pydata.org/pandas-docs/stable/user_guide/indexing.html#returning-a-view-versus-a-copy\n",
      "  self[name] = value\n"
     ]
    }
   ],
   "source": [
    "to_run = parameters.loc[(parameters.method == \"STDR+RAxML\") & (parameters.threshold == 128),:]\n",
    "to_run.nrun = 1"
   ]
  },
  {
   "cell_type": "code",
   "execution_count": 16,
   "metadata": {},
   "outputs": [],
   "source": [
    "to_run.to_csv(\"kingman_2000_STDR_RAxML_128.lst\", sep = \"\\t\", index = False)"
   ]
  },
  {
   "cell_type": "code",
   "execution_count": null,
   "metadata": {},
   "outputs": [],
   "source": [
    "m = 2000\n",
    "tree = utils.unrooted_pure_kingman_tree(m)\n",
    "\n",
    "filename = '../data/coalescent_tree_2000.txt'\n",
    "tree.write(path=filename, schema=\"newick\")"
   ]
  },
  {
   "cell_type": "markdown",
   "metadata": {},
   "source": [
    "### step 1: write out all the tree files (job submitted as 49682250)\n",
    "\n",
    "### step 2: write out the results for comparing with the treemerge"
   ]
  },
  {
   "cell_type": "code",
   "execution_count": 3,
   "metadata": {},
   "outputs": [],
   "source": [
    "import os\n",
    "import pandas as pd\n",
    "import glob"
   ]
  },
  {
   "cell_type": "code",
   "execution_count": 12,
   "metadata": {},
   "outputs": [],
   "source": [
    "# read in the tree path \n",
    "main_folder = \"/gpfs/ysm/scratch60/morgan_levine/mw957/tree_merge_test/\"\n",
    "folders = os.listdir(main_folder)\n",
    "folders = [\"/gpfs/ysm/scratch60/morgan_levine/mw957/tree_merge_test/\" + x for x in folders]"
   ]
  },
  {
   "cell_type": "code",
   "execution_count": 13,
   "metadata": {},
   "outputs": [],
   "source": [
    "folder_dir = pd.DataFrame({\"path\": folders}).sort_values(\"path\")"
   ]
  },
  {
   "cell_type": "code",
   "execution_count": 17,
   "metadata": {},
   "outputs": [
    {
     "data": {
      "text/plain": [
       "(35, 1)"
      ]
     },
     "execution_count": 17,
     "metadata": {},
     "output_type": "execute_result"
    }
   ],
   "source": [
    "folder_dir.shape"
   ]
  },
  {
   "cell_type": "code",
   "execution_count": 16,
   "metadata": {},
   "outputs": [],
   "source": [
    "folder_dir.to_csv(\"/gpfs/ysm/project/kleinstein/mw957/repos/spectral-tree-inference/experiments/kingman_2000_treemerge.lst\",\n",
    "                  index = False)"
   ]
  },
  {
   "cell_type": "markdown",
   "metadata": {},
   "source": [
    "## load the results from the STDR analysis"
   ]
  },
  {
   "cell_type": "code",
   "execution_count": 8,
   "metadata": {},
   "outputs": [
    {
     "data": {
      "text/html": [
       "<div>\n",
       "<style scoped>\n",
       "    .dataframe tbody tr th:only-of-type {\n",
       "        vertical-align: middle;\n",
       "    }\n",
       "\n",
       "    .dataframe tbody tr th {\n",
       "        vertical-align: top;\n",
       "    }\n",
       "\n",
       "    .dataframe thead tr th {\n",
       "        text-align: left;\n",
       "    }\n",
       "\n",
       "    .dataframe thead tr:last-of-type th {\n",
       "        text-align: right;\n",
       "    }\n",
       "</style>\n",
       "<table border=\"1\" class=\"dataframe\">\n",
       "  <thead>\n",
       "    <tr>\n",
       "      <th></th>\n",
       "      <th></th>\n",
       "      <th></th>\n",
       "      <th colspan=\"2\" halign=\"left\">runtime</th>\n",
       "      <th colspan=\"2\" halign=\"left\">RF</th>\n",
       "      <th colspan=\"2\" halign=\"left\">F1</th>\n",
       "    </tr>\n",
       "    <tr>\n",
       "      <th></th>\n",
       "      <th></th>\n",
       "      <th></th>\n",
       "      <th>mean</th>\n",
       "      <th>std</th>\n",
       "      <th>mean</th>\n",
       "      <th>std</th>\n",
       "      <th>mean</th>\n",
       "      <th>std</th>\n",
       "    </tr>\n",
       "    <tr>\n",
       "      <th>m</th>\n",
       "      <th>method</th>\n",
       "      <th>threshold</th>\n",
       "      <th></th>\n",
       "      <th></th>\n",
       "      <th></th>\n",
       "      <th></th>\n",
       "      <th></th>\n",
       "      <th></th>\n",
       "    </tr>\n",
       "  </thead>\n",
       "  <tbody>\n",
       "    <tr>\n",
       "      <th>2000</th>\n",
       "      <th>STDR+RAxML (128)</th>\n",
       "      <th>128</th>\n",
       "      <td>196.48</td>\n",
       "      <td>8.33</td>\n",
       "      <td>0.36</td>\n",
       "      <td>0.01</td>\n",
       "      <td>82.11</td>\n",
       "      <td>0.42</td>\n",
       "    </tr>\n",
       "    <tr>\n",
       "      <th>3000</th>\n",
       "      <th>STDR+RAxML (128)</th>\n",
       "      <th>128</th>\n",
       "      <td>270.84</td>\n",
       "      <td>8.38</td>\n",
       "      <td>0.27</td>\n",
       "      <td>0.01</td>\n",
       "      <td>86.74</td>\n",
       "      <td>0.42</td>\n",
       "    </tr>\n",
       "    <tr>\n",
       "      <th>4000</th>\n",
       "      <th>STDR+RAxML (128)</th>\n",
       "      <th>128</th>\n",
       "      <td>339.49</td>\n",
       "      <td>7.77</td>\n",
       "      <td>0.23</td>\n",
       "      <td>0.01</td>\n",
       "      <td>88.64</td>\n",
       "      <td>0.57</td>\n",
       "    </tr>\n",
       "    <tr>\n",
       "      <th>5000</th>\n",
       "      <th>STDR+RAxML (128)</th>\n",
       "      <th>128</th>\n",
       "      <td>345.98</td>\n",
       "      <td>8.32</td>\n",
       "      <td>0.21</td>\n",
       "      <td>0.02</td>\n",
       "      <td>89.62</td>\n",
       "      <td>0.86</td>\n",
       "    </tr>\n",
       "    <tr>\n",
       "      <th>6000</th>\n",
       "      <th>STDR+RAxML (128)</th>\n",
       "      <th>128</th>\n",
       "      <td>397.90</td>\n",
       "      <td>8.51</td>\n",
       "      <td>0.18</td>\n",
       "      <td>0.01</td>\n",
       "      <td>90.89</td>\n",
       "      <td>0.37</td>\n",
       "    </tr>\n",
       "    <tr>\n",
       "      <th>7000</th>\n",
       "      <th>STDR+RAxML (128)</th>\n",
       "      <th>128</th>\n",
       "      <td>420.36</td>\n",
       "      <td>9.45</td>\n",
       "      <td>0.16</td>\n",
       "      <td>0.01</td>\n",
       "      <td>91.88</td>\n",
       "      <td>0.31</td>\n",
       "    </tr>\n",
       "    <tr>\n",
       "      <th>8000</th>\n",
       "      <th>STDR+RAxML (128)</th>\n",
       "      <th>128</th>\n",
       "      <td>559.88</td>\n",
       "      <td>7.60</td>\n",
       "      <td>0.15</td>\n",
       "      <td>0.01</td>\n",
       "      <td>92.56</td>\n",
       "      <td>0.53</td>\n",
       "    </tr>\n",
       "  </tbody>\n",
       "</table>\n",
       "</div>"
      ],
      "text/plain": [
       "                                runtime          RF           F1      \n",
       "                                   mean   std  mean   std   mean   std\n",
       "m    method           threshold                                       \n",
       "2000 STDR+RAxML (128) 128        196.48  8.33  0.36  0.01  82.11  0.42\n",
       "3000 STDR+RAxML (128) 128        270.84  8.38  0.27  0.01  86.74  0.42\n",
       "4000 STDR+RAxML (128) 128        339.49  7.77  0.23  0.01  88.64  0.57\n",
       "5000 STDR+RAxML (128) 128        345.98  8.32  0.21  0.02  89.62  0.86\n",
       "6000 STDR+RAxML (128) 128        397.90  8.51  0.18  0.01  90.89  0.37\n",
       "7000 STDR+RAxML (128) 128        420.36  9.45  0.16  0.01  91.88  0.31\n",
       "8000 STDR+RAxML (128) 128        559.88  7.60  0.15  0.01  92.56  0.53"
      ]
     },
     "execution_count": 8,
     "metadata": {},
     "output_type": "execute_result"
    }
   ],
   "source": [
    "import pandas as pd\n",
    "\n",
    "def summarize_perf(paths, sort_values = [\"method\", \"threshold\"], agg = [\"mean\", \"std\"], ascend = [True, True]):\n",
    "    df = pd.DataFrame()\n",
    "    for path in paths:\n",
    "        perf_metrics = pd.read_csv(path)\n",
    "        perf_metrics.loc[:,\"RF\"] = perf_metrics.loc[:,\"RF\"] / (2 * 2000 - 6)\n",
    "        has_threshold = (perf_metrics.threshold != 0) & (perf_metrics.threshold != \"None\")\n",
    "        perf_metrics.loc[has_threshold,'method'] = perf_metrics.loc[has_threshold,'method'] + \" (\" + perf_metrics.loc[has_threshold,'threshold'].astype(float).astype(int).astype(str) + \")\"\n",
    "        df = df.append(perf_metrics)\n",
    "    df = df.loc[:, [\"method\", \"m\", \"threshold\", \"runtime\", \"RF\", \"F1\"]]\n",
    "    df = df.sort_values([\"method\", \"threshold\", \"m\"])\n",
    "    perf_summarized = df.groupby([\"m\", \"method\", \"threshold\"]).agg(agg).round(2).sort_values(sort_values, ascending=ascend)\n",
    "    return df, perf_summarized\n",
    "\n",
    "\n",
    "path = \"/home/mw957/project/repos/spectral-tree-inference/experiments/results/kingman_subtrees_m*\"\n",
    "\n",
    "paths = glob.glob(path)\n",
    "metrics_STDR, metrics_summarized = summarize_perf(paths)\n",
    "metrics_summarized"
   ]
  },
  {
   "cell_type": "code",
   "execution_count": 22,
   "metadata": {},
   "outputs": [
    {
     "data": {
      "text/html": [
       "<div>\n",
       "<style scoped>\n",
       "    .dataframe tbody tr th:only-of-type {\n",
       "        vertical-align: middle;\n",
       "    }\n",
       "\n",
       "    .dataframe tbody tr th {\n",
       "        vertical-align: top;\n",
       "    }\n",
       "\n",
       "    .dataframe thead th {\n",
       "        text-align: right;\n",
       "    }\n",
       "</style>\n",
       "<table border=\"1\" class=\"dataframe\">\n",
       "  <thead>\n",
       "    <tr style=\"text-align: right;\">\n",
       "      <th></th>\n",
       "      <th>method</th>\n",
       "      <th>m</th>\n",
       "      <th>threshold</th>\n",
       "      <th>runtime</th>\n",
       "      <th>RF</th>\n",
       "      <th>F1</th>\n",
       "    </tr>\n",
       "  </thead>\n",
       "  <tbody>\n",
       "    <tr>\n",
       "      <th>0</th>\n",
       "      <td>STDR+RAxML (128)</td>\n",
       "      <td>2000</td>\n",
       "      <td>128</td>\n",
       "      <td>187.299342</td>\n",
       "      <td>0.361042</td>\n",
       "      <td>81.965983</td>\n",
       "    </tr>\n",
       "    <tr>\n",
       "      <th>1</th>\n",
       "      <td>STDR+RAxML (128)</td>\n",
       "      <td>2000</td>\n",
       "      <td>128</td>\n",
       "      <td>192.091909</td>\n",
       "      <td>0.365548</td>\n",
       "      <td>81.740870</td>\n",
       "    </tr>\n",
       "    <tr>\n",
       "      <th>2</th>\n",
       "      <td>STDR+RAxML (128)</td>\n",
       "      <td>2000</td>\n",
       "      <td>128</td>\n",
       "      <td>197.371586</td>\n",
       "      <td>0.365548</td>\n",
       "      <td>81.740870</td>\n",
       "    </tr>\n",
       "    <tr>\n",
       "      <th>3</th>\n",
       "      <td>STDR+RAxML (128)</td>\n",
       "      <td>2000</td>\n",
       "      <td>128</td>\n",
       "      <td>209.635520</td>\n",
       "      <td>0.350025</td>\n",
       "      <td>82.516258</td>\n",
       "    </tr>\n",
       "    <tr>\n",
       "      <th>4</th>\n",
       "      <td>STDR+RAxML (128)</td>\n",
       "      <td>2000</td>\n",
       "      <td>128</td>\n",
       "      <td>195.982832</td>\n",
       "      <td>0.348523</td>\n",
       "      <td>82.591296</td>\n",
       "    </tr>\n",
       "    <tr>\n",
       "      <th>0</th>\n",
       "      <td>STDR+RAxML (128)</td>\n",
       "      <td>3000</td>\n",
       "      <td>128</td>\n",
       "      <td>263.099483</td>\n",
       "      <td>0.269905</td>\n",
       "      <td>86.518259</td>\n",
       "    </tr>\n",
       "    <tr>\n",
       "      <th>1</th>\n",
       "      <td>STDR+RAxML (128)</td>\n",
       "      <td>3000</td>\n",
       "      <td>128</td>\n",
       "      <td>285.209321</td>\n",
       "      <td>0.255383</td>\n",
       "      <td>87.243622</td>\n",
       "    </tr>\n",
       "    <tr>\n",
       "      <th>2</th>\n",
       "      <td>STDR+RAxML (128)</td>\n",
       "      <td>3000</td>\n",
       "      <td>128</td>\n",
       "      <td>268.552865</td>\n",
       "      <td>0.259890</td>\n",
       "      <td>87.018509</td>\n",
       "    </tr>\n",
       "    <tr>\n",
       "      <th>3</th>\n",
       "      <td>STDR+RAxML (128)</td>\n",
       "      <td>3000</td>\n",
       "      <td>128</td>\n",
       "      <td>268.914837</td>\n",
       "      <td>0.276915</td>\n",
       "      <td>86.168084</td>\n",
       "    </tr>\n",
       "    <tr>\n",
       "      <th>4</th>\n",
       "      <td>STDR+RAxML (128)</td>\n",
       "      <td>3000</td>\n",
       "      <td>128</td>\n",
       "      <td>268.436712</td>\n",
       "      <td>0.264897</td>\n",
       "      <td>86.768384</td>\n",
       "    </tr>\n",
       "    <tr>\n",
       "      <th>0</th>\n",
       "      <td>STDR+RAxML (128)</td>\n",
       "      <td>4000</td>\n",
       "      <td>128</td>\n",
       "      <td>350.885033</td>\n",
       "      <td>0.219329</td>\n",
       "      <td>89.044522</td>\n",
       "    </tr>\n",
       "    <tr>\n",
       "      <th>1</th>\n",
       "      <td>STDR+RAxML (128)</td>\n",
       "      <td>4000</td>\n",
       "      <td>128</td>\n",
       "      <td>339.788995</td>\n",
       "      <td>0.223335</td>\n",
       "      <td>88.844422</td>\n",
       "    </tr>\n",
       "    <tr>\n",
       "      <th>2</th>\n",
       "      <td>STDR+RAxML (128)</td>\n",
       "      <td>4000</td>\n",
       "      <td>128</td>\n",
       "      <td>333.965524</td>\n",
       "      <td>0.232349</td>\n",
       "      <td>88.394197</td>\n",
       "    </tr>\n",
       "    <tr>\n",
       "      <th>3</th>\n",
       "      <td>STDR+RAxML (128)</td>\n",
       "      <td>4000</td>\n",
       "      <td>128</td>\n",
       "      <td>330.849004</td>\n",
       "      <td>0.244867</td>\n",
       "      <td>87.768884</td>\n",
       "    </tr>\n",
       "    <tr>\n",
       "      <th>4</th>\n",
       "      <td>STDR+RAxML (128)</td>\n",
       "      <td>4000</td>\n",
       "      <td>128</td>\n",
       "      <td>341.961760</td>\n",
       "      <td>0.216825</td>\n",
       "      <td>89.169585</td>\n",
       "    </tr>\n",
       "    <tr>\n",
       "      <th>0</th>\n",
       "      <td>STDR+RAxML (128)</td>\n",
       "      <td>5000</td>\n",
       "      <td>128</td>\n",
       "      <td>351.715284</td>\n",
       "      <td>0.226340</td>\n",
       "      <td>88.694347</td>\n",
       "    </tr>\n",
       "    <tr>\n",
       "      <th>1</th>\n",
       "      <td>STDR+RAxML (128)</td>\n",
       "      <td>5000</td>\n",
       "      <td>128</td>\n",
       "      <td>339.887479</td>\n",
       "      <td>0.188783</td>\n",
       "      <td>90.570285</td>\n",
       "    </tr>\n",
       "    <tr>\n",
       "      <th>2</th>\n",
       "      <td>STDR+RAxML (128)</td>\n",
       "      <td>5000</td>\n",
       "      <td>128</td>\n",
       "      <td>338.807464</td>\n",
       "      <td>0.202804</td>\n",
       "      <td>89.869935</td>\n",
       "    </tr>\n",
       "    <tr>\n",
       "      <th>3</th>\n",
       "      <td>STDR+RAxML (128)</td>\n",
       "      <td>5000</td>\n",
       "      <td>128</td>\n",
       "      <td>341.785114</td>\n",
       "      <td>0.225338</td>\n",
       "      <td>88.744372</td>\n",
       "    </tr>\n",
       "    <tr>\n",
       "      <th>4</th>\n",
       "      <td>STDR+RAxML (128)</td>\n",
       "      <td>5000</td>\n",
       "      <td>128</td>\n",
       "      <td>357.708671</td>\n",
       "      <td>0.195293</td>\n",
       "      <td>90.245123</td>\n",
       "    </tr>\n",
       "    <tr>\n",
       "      <th>0</th>\n",
       "      <td>STDR+RAxML (128)</td>\n",
       "      <td>6000</td>\n",
       "      <td>128</td>\n",
       "      <td>390.540482</td>\n",
       "      <td>0.177767</td>\n",
       "      <td>91.120560</td>\n",
       "    </tr>\n",
       "    <tr>\n",
       "      <th>1</th>\n",
       "      <td>STDR+RAxML (128)</td>\n",
       "      <td>6000</td>\n",
       "      <td>128</td>\n",
       "      <td>399.688864</td>\n",
       "      <td>0.187281</td>\n",
       "      <td>90.645323</td>\n",
       "    </tr>\n",
       "    <tr>\n",
       "      <th>2</th>\n",
       "      <td>STDR+RAxML (128)</td>\n",
       "      <td>6000</td>\n",
       "      <td>128</td>\n",
       "      <td>398.748916</td>\n",
       "      <td>0.188282</td>\n",
       "      <td>90.595298</td>\n",
       "    </tr>\n",
       "    <tr>\n",
       "      <th>3</th>\n",
       "      <td>STDR+RAxML (128)</td>\n",
       "      <td>6000</td>\n",
       "      <td>128</td>\n",
       "      <td>389.755174</td>\n",
       "      <td>0.171758</td>\n",
       "      <td>91.420710</td>\n",
       "    </tr>\n",
       "    <tr>\n",
       "      <th>4</th>\n",
       "      <td>STDR+RAxML (128)</td>\n",
       "      <td>6000</td>\n",
       "      <td>128</td>\n",
       "      <td>410.762108</td>\n",
       "      <td>0.187281</td>\n",
       "      <td>90.645323</td>\n",
       "    </tr>\n",
       "    <tr>\n",
       "      <th>0</th>\n",
       "      <td>STDR+RAxML (128)</td>\n",
       "      <td>7000</td>\n",
       "      <td>128</td>\n",
       "      <td>415.584116</td>\n",
       "      <td>0.157236</td>\n",
       "      <td>92.146073</td>\n",
       "    </tr>\n",
       "    <tr>\n",
       "      <th>1</th>\n",
       "      <td>STDR+RAxML (128)</td>\n",
       "      <td>7000</td>\n",
       "      <td>128</td>\n",
       "      <td>417.354755</td>\n",
       "      <td>0.156234</td>\n",
       "      <td>92.196098</td>\n",
       "    </tr>\n",
       "    <tr>\n",
       "      <th>2</th>\n",
       "      <td>STDR+RAxML (128)</td>\n",
       "      <td>7000</td>\n",
       "      <td>128</td>\n",
       "      <td>413.290402</td>\n",
       "      <td>0.161242</td>\n",
       "      <td>91.945973</td>\n",
       "    </tr>\n",
       "    <tr>\n",
       "      <th>3</th>\n",
       "      <td>STDR+RAxML (128)</td>\n",
       "      <td>7000</td>\n",
       "      <td>128</td>\n",
       "      <td>436.861118</td>\n",
       "      <td>0.169254</td>\n",
       "      <td>91.545773</td>\n",
       "    </tr>\n",
       "    <tr>\n",
       "      <th>4</th>\n",
       "      <td>STDR+RAxML (128)</td>\n",
       "      <td>7000</td>\n",
       "      <td>128</td>\n",
       "      <td>418.694037</td>\n",
       "      <td>0.168753</td>\n",
       "      <td>91.570785</td>\n",
       "    </tr>\n",
       "    <tr>\n",
       "      <th>0</th>\n",
       "      <td>STDR+RAxML (128)</td>\n",
       "      <td>8000</td>\n",
       "      <td>128</td>\n",
       "      <td>571.378258</td>\n",
       "      <td>0.138207</td>\n",
       "      <td>93.096548</td>\n",
       "    </tr>\n",
       "    <tr>\n",
       "      <th>1</th>\n",
       "      <td>STDR+RAxML (128)</td>\n",
       "      <td>8000</td>\n",
       "      <td>128</td>\n",
       "      <td>555.414812</td>\n",
       "      <td>0.159239</td>\n",
       "      <td>92.046023</td>\n",
       "    </tr>\n",
       "    <tr>\n",
       "      <th>2</th>\n",
       "      <td>STDR+RAxML (128)</td>\n",
       "      <td>8000</td>\n",
       "      <td>128</td>\n",
       "      <td>553.642130</td>\n",
       "      <td>0.157236</td>\n",
       "      <td>92.146073</td>\n",
       "    </tr>\n",
       "    <tr>\n",
       "      <th>3</th>\n",
       "      <td>STDR+RAxML (128)</td>\n",
       "      <td>8000</td>\n",
       "      <td>128</td>\n",
       "      <td>555.027017</td>\n",
       "      <td>0.137206</td>\n",
       "      <td>93.146573</td>\n",
       "    </tr>\n",
       "    <tr>\n",
       "      <th>4</th>\n",
       "      <td>STDR+RAxML (128)</td>\n",
       "      <td>8000</td>\n",
       "      <td>128</td>\n",
       "      <td>563.933366</td>\n",
       "      <td>0.153230</td>\n",
       "      <td>92.346173</td>\n",
       "    </tr>\n",
       "  </tbody>\n",
       "</table>\n",
       "</div>"
      ],
      "text/plain": [
       "             method     m  threshold     runtime        RF         F1\n",
       "0  STDR+RAxML (128)  2000        128  187.299342  0.361042  81.965983\n",
       "1  STDR+RAxML (128)  2000        128  192.091909  0.365548  81.740870\n",
       "2  STDR+RAxML (128)  2000        128  197.371586  0.365548  81.740870\n",
       "3  STDR+RAxML (128)  2000        128  209.635520  0.350025  82.516258\n",
       "4  STDR+RAxML (128)  2000        128  195.982832  0.348523  82.591296\n",
       "0  STDR+RAxML (128)  3000        128  263.099483  0.269905  86.518259\n",
       "1  STDR+RAxML (128)  3000        128  285.209321  0.255383  87.243622\n",
       "2  STDR+RAxML (128)  3000        128  268.552865  0.259890  87.018509\n",
       "3  STDR+RAxML (128)  3000        128  268.914837  0.276915  86.168084\n",
       "4  STDR+RAxML (128)  3000        128  268.436712  0.264897  86.768384\n",
       "0  STDR+RAxML (128)  4000        128  350.885033  0.219329  89.044522\n",
       "1  STDR+RAxML (128)  4000        128  339.788995  0.223335  88.844422\n",
       "2  STDR+RAxML (128)  4000        128  333.965524  0.232349  88.394197\n",
       "3  STDR+RAxML (128)  4000        128  330.849004  0.244867  87.768884\n",
       "4  STDR+RAxML (128)  4000        128  341.961760  0.216825  89.169585\n",
       "0  STDR+RAxML (128)  5000        128  351.715284  0.226340  88.694347\n",
       "1  STDR+RAxML (128)  5000        128  339.887479  0.188783  90.570285\n",
       "2  STDR+RAxML (128)  5000        128  338.807464  0.202804  89.869935\n",
       "3  STDR+RAxML (128)  5000        128  341.785114  0.225338  88.744372\n",
       "4  STDR+RAxML (128)  5000        128  357.708671  0.195293  90.245123\n",
       "0  STDR+RAxML (128)  6000        128  390.540482  0.177767  91.120560\n",
       "1  STDR+RAxML (128)  6000        128  399.688864  0.187281  90.645323\n",
       "2  STDR+RAxML (128)  6000        128  398.748916  0.188282  90.595298\n",
       "3  STDR+RAxML (128)  6000        128  389.755174  0.171758  91.420710\n",
       "4  STDR+RAxML (128)  6000        128  410.762108  0.187281  90.645323\n",
       "0  STDR+RAxML (128)  7000        128  415.584116  0.157236  92.146073\n",
       "1  STDR+RAxML (128)  7000        128  417.354755  0.156234  92.196098\n",
       "2  STDR+RAxML (128)  7000        128  413.290402  0.161242  91.945973\n",
       "3  STDR+RAxML (128)  7000        128  436.861118  0.169254  91.545773\n",
       "4  STDR+RAxML (128)  7000        128  418.694037  0.168753  91.570785\n",
       "0  STDR+RAxML (128)  8000        128  571.378258  0.138207  93.096548\n",
       "1  STDR+RAxML (128)  8000        128  555.414812  0.159239  92.046023\n",
       "2  STDR+RAxML (128)  8000        128  553.642130  0.157236  92.146073\n",
       "3  STDR+RAxML (128)  8000        128  555.027017  0.137206  93.146573\n",
       "4  STDR+RAxML (128)  8000        128  563.933366  0.153230  92.346173"
      ]
     },
     "execution_count": 22,
     "metadata": {},
     "output_type": "execute_result"
    }
   ],
   "source": [
    "metrics_STDR"
   ]
  },
  {
   "cell_type": "markdown",
   "metadata": {},
   "source": [
    "## Load the results from the treemerge method to compute RF and F1"
   ]
  },
  {
   "cell_type": "code",
   "execution_count": 3,
   "metadata": {},
   "outputs": [],
   "source": [
    "import dendropy\n",
    "import glob\n",
    "import numpy as np"
   ]
  },
  {
   "cell_type": "code",
   "execution_count": 4,
   "metadata": {},
   "outputs": [],
   "source": [
    "folders = np.sort(glob.glob(\"/gpfs/ysm/scratch60/morgan_levine/mw957/tree_merge_test/*\"))"
   ]
  },
  {
   "cell_type": "code",
   "execution_count": 12,
   "metadata": {},
   "outputs": [],
   "source": [
    "metrics_treemerge = metrics_STDR.copy()\n",
    "RFs = []\n",
    "F1s = []\n",
    "\n",
    "for i, folder in enumerate(folders):\n",
    "    treemerge_path = folder + \"/treemerge-on-STDR-subtree.txt\"\n",
    "    truetree_path = folder + \"/true_tree.txt\"\n",
    "\n",
    "    tree_true = dendropy.Tree.get(path = truetree_path, schema=\"newick\")\n",
    "    tree_new = dendropy.Tree.get(path = treemerge_path, schema=\"newick\", taxon_namespace=tree_true.taxon_namespace)\n",
    "    \n",
    "    RF,F1 = reconstruct_tree.compare_trees(tree_new, tree_true)\n",
    "    RFs.append(RF)\n",
    "    F1s.append(F1)"
   ]
  },
  {
   "cell_type": "code",
   "execution_count": 26,
   "metadata": {},
   "outputs": [],
   "source": [
    "# iterate through the scripts and grab the last line\n",
    "out_folder = \"/gpfs/ysm/project/kleinstein/mw957/repos/spectral-tree-inference/experiments/log\"\n",
    "out_files = [out_folder+\"/treemerge.49779427_\" + str(x) + \".out\" for x in range(1, 36)]\n",
    "import re"
   ]
  },
  {
   "cell_type": "code",
   "execution_count": 23,
   "metadata": {},
   "outputs": [],
   "source": [
    "runtimes = []\n",
    "for out_file in out_files:\n",
    "    with open(out_file, 'r') as f:\n",
    "        last_line = f.readlines()[-1]\n",
    "        runtimes.append(int(re.findall(r'\\d+', last_line)[0]))"
   ]
  },
  {
   "cell_type": "code",
   "execution_count": 27,
   "metadata": {},
   "outputs": [],
   "source": [
    "metrics_treemerge.loc[:,\"RF\"] = np.array(RFs)  / (2 * 2000 - 6)\n",
    "metrics_treemerge.loc[:,\"F1\"] = F1s\n",
    "metrics_treemerge.loc[:,\"runtime\"] = runtimes"
   ]
  },
  {
   "cell_type": "code",
   "execution_count": 29,
   "metadata": {},
   "outputs": [],
   "source": [
    "metrics_treemerge.loc[:,\"method\"] = \"treemerge\""
   ]
  },
  {
   "cell_type": "code",
   "execution_count": 38,
   "metadata": {},
   "outputs": [],
   "source": [
    "# bind two dataframes\n",
    "merged_perf = metrics_STDR.append(metrics_treemerge, ignore_index=True)\n",
    "merged_perf = merged_perf.loc[:,[\"method\", \"m\", \"runtime\", \"RF\", \"F1\"]]"
   ]
  },
  {
   "cell_type": "code",
   "execution_count": 39,
   "metadata": {},
   "outputs": [],
   "source": [
    "merged_perf_summarized = merged_perf.groupby([\"m\", \"method\"]).agg(['mean', 'std']).round(2)"
   ]
  },
  {
   "cell_type": "code",
   "execution_count": 40,
   "metadata": {},
   "outputs": [
    {
     "data": {
      "text/html": [
       "<div>\n",
       "<style scoped>\n",
       "    .dataframe tbody tr th:only-of-type {\n",
       "        vertical-align: middle;\n",
       "    }\n",
       "\n",
       "    .dataframe tbody tr th {\n",
       "        vertical-align: top;\n",
       "    }\n",
       "\n",
       "    .dataframe thead tr th {\n",
       "        text-align: left;\n",
       "    }\n",
       "\n",
       "    .dataframe thead tr:last-of-type th {\n",
       "        text-align: right;\n",
       "    }\n",
       "</style>\n",
       "<table border=\"1\" class=\"dataframe\">\n",
       "  <thead>\n",
       "    <tr>\n",
       "      <th></th>\n",
       "      <th></th>\n",
       "      <th colspan=\"2\" halign=\"left\">runtime</th>\n",
       "      <th colspan=\"2\" halign=\"left\">RF</th>\n",
       "      <th colspan=\"2\" halign=\"left\">F1</th>\n",
       "    </tr>\n",
       "    <tr>\n",
       "      <th></th>\n",
       "      <th></th>\n",
       "      <th>mean</th>\n",
       "      <th>std</th>\n",
       "      <th>mean</th>\n",
       "      <th>std</th>\n",
       "      <th>mean</th>\n",
       "      <th>std</th>\n",
       "    </tr>\n",
       "    <tr>\n",
       "      <th>m</th>\n",
       "      <th>method</th>\n",
       "      <th></th>\n",
       "      <th></th>\n",
       "      <th></th>\n",
       "      <th></th>\n",
       "      <th></th>\n",
       "      <th></th>\n",
       "    </tr>\n",
       "  </thead>\n",
       "  <tbody>\n",
       "    <tr>\n",
       "      <th rowspan=\"2\" valign=\"top\">2000</th>\n",
       "      <th>STDR+RAxML (128)</th>\n",
       "      <td>196.48</td>\n",
       "      <td>8.33</td>\n",
       "      <td>0.36</td>\n",
       "      <td>0.01</td>\n",
       "      <td>82.11</td>\n",
       "      <td>0.42</td>\n",
       "    </tr>\n",
       "    <tr>\n",
       "      <th>treemerge</th>\n",
       "      <td>1144.00</td>\n",
       "      <td>164.66</td>\n",
       "      <td>0.37</td>\n",
       "      <td>0.01</td>\n",
       "      <td>81.48</td>\n",
       "      <td>0.47</td>\n",
       "    </tr>\n",
       "    <tr>\n",
       "      <th rowspan=\"2\" valign=\"top\">3000</th>\n",
       "      <th>STDR+RAxML (128)</th>\n",
       "      <td>270.84</td>\n",
       "      <td>8.38</td>\n",
       "      <td>0.27</td>\n",
       "      <td>0.01</td>\n",
       "      <td>86.74</td>\n",
       "      <td>0.42</td>\n",
       "    </tr>\n",
       "    <tr>\n",
       "      <th>treemerge</th>\n",
       "      <td>1764.60</td>\n",
       "      <td>397.29</td>\n",
       "      <td>0.27</td>\n",
       "      <td>0.01</td>\n",
       "      <td>86.33</td>\n",
       "      <td>0.41</td>\n",
       "    </tr>\n",
       "    <tr>\n",
       "      <th rowspan=\"2\" valign=\"top\">4000</th>\n",
       "      <th>STDR+RAxML (128)</th>\n",
       "      <td>339.49</td>\n",
       "      <td>7.77</td>\n",
       "      <td>0.23</td>\n",
       "      <td>0.01</td>\n",
       "      <td>88.64</td>\n",
       "      <td>0.57</td>\n",
       "    </tr>\n",
       "    <tr>\n",
       "      <th>treemerge</th>\n",
       "      <td>1017.00</td>\n",
       "      <td>792.58</td>\n",
       "      <td>0.25</td>\n",
       "      <td>0.01</td>\n",
       "      <td>87.57</td>\n",
       "      <td>0.57</td>\n",
       "    </tr>\n",
       "    <tr>\n",
       "      <th rowspan=\"2\" valign=\"top\">5000</th>\n",
       "      <th>STDR+RAxML (128)</th>\n",
       "      <td>345.98</td>\n",
       "      <td>8.32</td>\n",
       "      <td>0.21</td>\n",
       "      <td>0.02</td>\n",
       "      <td>89.62</td>\n",
       "      <td>0.86</td>\n",
       "    </tr>\n",
       "    <tr>\n",
       "      <th>treemerge</th>\n",
       "      <td>936.80</td>\n",
       "      <td>488.21</td>\n",
       "      <td>0.22</td>\n",
       "      <td>0.01</td>\n",
       "      <td>88.84</td>\n",
       "      <td>0.53</td>\n",
       "    </tr>\n",
       "    <tr>\n",
       "      <th rowspan=\"2\" valign=\"top\">6000</th>\n",
       "      <th>STDR+RAxML (128)</th>\n",
       "      <td>397.90</td>\n",
       "      <td>8.51</td>\n",
       "      <td>0.18</td>\n",
       "      <td>0.01</td>\n",
       "      <td>90.89</td>\n",
       "      <td>0.37</td>\n",
       "    </tr>\n",
       "    <tr>\n",
       "      <th>treemerge</th>\n",
       "      <td>1014.00</td>\n",
       "      <td>903.02</td>\n",
       "      <td>0.20</td>\n",
       "      <td>0.01</td>\n",
       "      <td>90.23</td>\n",
       "      <td>0.40</td>\n",
       "    </tr>\n",
       "    <tr>\n",
       "      <th rowspan=\"2\" valign=\"top\">7000</th>\n",
       "      <th>STDR+RAxML (128)</th>\n",
       "      <td>420.36</td>\n",
       "      <td>9.45</td>\n",
       "      <td>0.16</td>\n",
       "      <td>0.01</td>\n",
       "      <td>91.88</td>\n",
       "      <td>0.31</td>\n",
       "    </tr>\n",
       "    <tr>\n",
       "      <th>treemerge</th>\n",
       "      <td>1490.80</td>\n",
       "      <td>764.88</td>\n",
       "      <td>0.18</td>\n",
       "      <td>0.01</td>\n",
       "      <td>91.10</td>\n",
       "      <td>0.35</td>\n",
       "    </tr>\n",
       "    <tr>\n",
       "      <th rowspan=\"2\" valign=\"top\">8000</th>\n",
       "      <th>STDR+RAxML (128)</th>\n",
       "      <td>559.88</td>\n",
       "      <td>7.60</td>\n",
       "      <td>0.15</td>\n",
       "      <td>0.01</td>\n",
       "      <td>92.56</td>\n",
       "      <td>0.53</td>\n",
       "    </tr>\n",
       "    <tr>\n",
       "      <th>treemerge</th>\n",
       "      <td>1714.20</td>\n",
       "      <td>803.97</td>\n",
       "      <td>0.16</td>\n",
       "      <td>0.01</td>\n",
       "      <td>91.89</td>\n",
       "      <td>0.43</td>\n",
       "    </tr>\n",
       "  </tbody>\n",
       "</table>\n",
       "</div>"
      ],
      "text/plain": [
       "                       runtime            RF           F1      \n",
       "                          mean     std  mean   std   mean   std\n",
       "m    method                                                    \n",
       "2000 STDR+RAxML (128)   196.48    8.33  0.36  0.01  82.11  0.42\n",
       "     treemerge         1144.00  164.66  0.37  0.01  81.48  0.47\n",
       "3000 STDR+RAxML (128)   270.84    8.38  0.27  0.01  86.74  0.42\n",
       "     treemerge         1764.60  397.29  0.27  0.01  86.33  0.41\n",
       "4000 STDR+RAxML (128)   339.49    7.77  0.23  0.01  88.64  0.57\n",
       "     treemerge         1017.00  792.58  0.25  0.01  87.57  0.57\n",
       "5000 STDR+RAxML (128)   345.98    8.32  0.21  0.02  89.62  0.86\n",
       "     treemerge          936.80  488.21  0.22  0.01  88.84  0.53\n",
       "6000 STDR+RAxML (128)   397.90    8.51  0.18  0.01  90.89  0.37\n",
       "     treemerge         1014.00  903.02  0.20  0.01  90.23  0.40\n",
       "7000 STDR+RAxML (128)   420.36    9.45  0.16  0.01  91.88  0.31\n",
       "     treemerge         1490.80  764.88  0.18  0.01  91.10  0.35\n",
       "8000 STDR+RAxML (128)   559.88    7.60  0.15  0.01  92.56  0.53\n",
       "     treemerge         1714.20  803.97  0.16  0.01  91.89  0.43"
      ]
     },
     "execution_count": 40,
     "metadata": {},
     "output_type": "execute_result"
    }
   ],
   "source": [
    "merged_perf_summarized"
   ]
  },
  {
   "cell_type": "code",
   "execution_count": 41,
   "metadata": {},
   "outputs": [],
   "source": [
    "from matplotlib import cm"
   ]
  },
  {
   "cell_type": "code",
   "execution_count": 46,
   "metadata": {},
   "outputs": [],
   "source": [
    "df_long = pd.melt(merged_perf, id_vars = [\"method\", \"m\"], var_name = \"performance\").sort_values([\"method\", \"performance\"])"
   ]
  },
  {
   "cell_type": "code",
   "execution_count": 50,
   "metadata": {},
   "outputs": [
    {
     "data": {
      "image/png": "[encoded data removed]",
      "text/plain": [
       "<Figure size 950.4x432 with 2 Axes>"
      ]
     },
     "metadata": {},
     "output_type": "display_data"
    }
   ],
   "source": [
    "ordering = [\"STDR+RAxML (128)\", \"treemerge\"]\n",
    "cmap = cm.get_cmap(\"tab20c\", 20)\n",
    "colors = [cmap(0), cmap(11)]\n",
    "color_dict = dict(zip(ordering, colors))\n",
    "\n",
    "selected = np.isin(df_long.method, ordering) & (df_long.performance.values != \"F1\")\n",
    "\n",
    "df_long = df_long.iloc[selected,:]\n",
    "df_long.loc[df_long.performance == \"RF\",\"value\"] = df_long.loc[df_long.performance == \"RF\",\"value\"] \n",
    "df_long.loc[df_long.performance == \"RF\",\"performance\"] = \"RF distance\"\n",
    "df_long.loc[df_long.performance == \"runtime\",\"performance\"] = \"runtime (s)\"\n",
    "\n",
    "markers = [\"s\", \"X\"]\n",
    "color_subset = [colors[i] for i in [0,1]]\n",
    "color_dict = dict(zip(ordering, np.array(color_subset)))\n",
    "linestyles = [\"-\", \"--\"]\n",
    "\n",
    "import seaborn as sns\n",
    "import matplotlib.pyplot as plt\n",
    "import matplotlib.ticker as ticker\n",
    "\n",
    "sns.set(style = \"whitegrid\", font_scale = 2)\n",
    "g = sns.catplot(data = df_long, x = \"m\", y = \"value\", hue = \"method\", hue_order = ordering,\n",
    "           col = \"performance\", legend = False, kind = \"point\", sharey = False, height = 6,  aspect = 1.1,\n",
    "                palette = color_dict, margin_titles = False, sizes = 20, markers = markers, linestyles=linestyles, \n",
    "                gridspec_kws={\"wspace\":0.4})\n",
    "\n",
    "labels = [\"normalized RF distance\", \"runtime (s)\"]\n",
    "\n",
    "for i, ax in enumerate(g.axes.flat):\n",
    "    ax.set_ylabel(labels[i])\n",
    "    plt.setp(ax.get_xticklabels(), rotation=30, horizontalalignment='right')\n",
    "    \n",
    "        \n",
    "g.set_titles(\"\")\n",
    "g.set_xlabels(\"Number of samples (n)\")\n",
    "\n",
    "from matplotlib.lines import Line2D\n",
    "custom_lines = [Line2D([0], [0],  color=color_subset[x], marker = markers[x], markersize=10,linestyle = linestyles[x], lw = 3) for x in range(2)]\n",
    "\n",
    "plt.legend(custom_lines, ordering, bbox_to_anchor=(1.04, 0.5), loc = \"center left\", frameon = False)\n",
    "\n",
    "plt.subplots_adjust(wspace = 0.4)\n",
    "plt.savefig(\"figs/STDR128_v_treemerge.eps\", bbox_inches=\"tight\")"
   ]
  }
 ],
 "metadata": {
  "kernelspec": {
   "display_name": "Python 3",
   "language": "python",
   "name": "python3"
  },
  "language_info": {
   "codemirror_mode": {
    "name": "ipython",
    "version": 3
   },
   "file_extension": ".py",
   "mimetype": "text/x-python",
   "name": "python",
   "nbconvert_exporter": "python",
   "pygments_lexer": "ipython3",
   "version": "3.7.7"
  }
 },
 "nbformat": 4,
 "nbformat_minor": 4
}
