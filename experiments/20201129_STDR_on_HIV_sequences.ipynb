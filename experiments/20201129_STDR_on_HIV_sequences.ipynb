{
 "cells": [
  {
   "cell_type": "markdown",
   "metadata": {},
   "source": [
    "# Run STDR on the HIV sequences\n",
    "\n",
    "Mamie Wang 2020/11/29"
   ]
  },
  {
   "cell_type": "markdown",
   "metadata": {},
   "source": [
    "## 5007"
   ]
  },
  {
   "cell_type": "code",
   "execution_count": 1,
   "metadata": {},
   "outputs": [],
   "source": [
    "import dendropy\n",
    "import numpy as np\n",
    "import sys, os\n",
    "\n",
    "sys.path.append(\"../spectraltree\")\n",
    "\n",
    "import generation\n",
    "import reconstruct_tree\n",
    "import time\n",
    "import utils\n",
    "import pandas as pd\n",
    "import argparse"
   ]
  },
  {
   "cell_type": "code",
   "execution_count": 2,
   "metadata": {},
   "outputs": [],
   "source": [
    "def prepare_inputs(seqs):\n",
    "\n",
    "    leafs_idx = [i.label[0] != \" \" for i in seqs.taxon_namespace]\n",
    "\n",
    "    ch_list = list()\n",
    "    for t in seqs.taxon_namespace:\n",
    "        ch_list.append([x.symbol for x in seqs[t]])\n",
    "\n",
    "    ch_list_num = np.array(ch_list)\n",
    "    ch_list_num = ch_list_num[leafs_idx]\n",
    "    ch_list_num = np.where(ch_list_num=='A', 0, ch_list_num) \n",
    "    ch_list_num = np.where(ch_list_num=='C', 1, ch_list_num) \n",
    "    ch_list_num = np.where(ch_list_num=='G', 2, ch_list_num) \n",
    "    ch_list_num = np.where(ch_list_num=='T', 3, ch_list_num) \n",
    "    ch_list_num = np.where(ch_list_num=='-', 4, ch_list_num) \n",
    "    ch_list_num = ch_list_num.astype('int')\n",
    "\n",
    "    taxa = np.array(seqs.taxon_namespace._taxa)[leafs_idx]\n",
    "\n",
    "    taxa_meta = utils.TaxaMetadata(seqs.taxon_namespace, list(taxa), alphabet=dendropy.DNA_STATE_ALPHABET)\n",
    "    return(ch_list_num, taxa_meta)"
   ]
  },
  {
   "cell_type": "code",
   "execution_count": 3,
   "metadata": {},
   "outputs": [],
   "source": [
    "seqs = dendropy.DnaCharacterMatrix.get(file=open(\"../data/11.24.20 5007 trimmed.fasta\")\n",
    "                                       , schema=\"fasta\")\n",
    "\n",
    "ch_list_num, taxa_meta = prepare_inputs(seqs)"
   ]
  },
  {
   "cell_type": "code",
   "execution_count": 4,
   "metadata": {},
   "outputs": [
    {
     "name": "stdout",
     "output_type": "stream",
     "text": [
      "0.033689022064208984\n",
      "5007\n",
      "          /--------------------------------------- YCHO-5007M34-Nesty8_043     \n",
      "          |                                                                    \n",
      "          |                   /------------------- YCHO-5007M36-Nesty8_094     \n",
      "/---------+         /---------+                                                \n",
      "|         |         |         |         /--------- YCHO-5007M33-Nesty8_010     \n",
      "|         |         |         \\---------+                                      \n",
      "|         \\---------+                   \\--------- YCHO-5007M37-Nesty8_061     \n",
      "|                   |                                                          \n",
      "|                   |         /------------------- YCHO-5007B2-Nesty8_045      \n",
      "+                   \\---------+                                                \n",
      "|                             |         /--------- YCHO-5007B1-Nesty8_028      \n",
      "|                             \\---------+                                      \n",
      "|                                       \\--------- YCHO-5007M32-Nesty8_025     \n",
      "|                                                                              \n",
      "|                                       /--------- A.CD.02.02CD_KTB035.AM000055\n",
      "\\---------------------------------------+                                      \n",
      "                                        \\--------- YCHO-5007B5-Nesty8_059      \n",
      "                                                                               \n",
      "                                                                               \n"
     ]
    },
    {
     "name": "stderr",
     "output_type": "stream",
     "text": [
      "/home/mw957/project/conda_envs/r_env/lib/python3.7/site-packages/sklearn/decomposition/_truncated_svd.py:197: RuntimeWarning: invalid value encountered in true_divide\n",
      "  self.explained_variance_ratio_ = exp_var / full_var\n"
     ]
    }
   ],
   "source": [
    "spectral_method = reconstruct_tree.SpectralTreeReconstruction(reconstruct_tree.NeighborJoining, reconstruct_tree.HKY_similarity_matrix)\n",
    "        \n",
    "start_time = time.time()\n",
    "tree_rec = spectral_method.deep_spectral_tree_reconstruction(ch_list_num, reconstruct_tree.HKY_similarity_matrix, \n",
    "                                                            taxa_metadata = taxa_meta,\n",
    "                                                            threshhold = 6, min_split = 2, verbose = False)\n",
    "end_time = time.time()\n",
    "print(end_time - start_time)\n",
    "\n",
    "print(\"5007\")\n",
    "tree_rec.print_plot()"
   ]
  },
  {
   "cell_type": "markdown",
   "metadata": {},
   "source": [
    "## 5009 "
   ]
  },
  {
   "cell_type": "code",
   "execution_count": 5,
   "metadata": {},
   "outputs": [
    {
     "name": "stdout",
     "output_type": "stream",
     "text": [
      "0.009598493576049805\n",
      "5009\n",
      "          /--------------------------------------- YCHO-11.23_SP-5009_M3_29    \n",
      "/---------+                                                                    \n",
      "|         |         /----------------------------- YCHO-11.23_SP-5009_M3_38    \n",
      "|         \\---------+                                                          \n",
      "|                   |         /------------------- YCHO-11.23_SP-5009_M3_5     \n",
      "|                   \\---------+                                                \n",
      "+                             |         /--------- YCHO-5009B13-Nesty8_091     \n",
      "|                             \\---------+                                      \n",
      "|                                       \\--------- YCHO-11.23_SP-5009_B_6      \n",
      "|                                                                              \n",
      "|                   /----------------------------- YCHO-5009B10-Nesty8_075     \n",
      "|                   |                                                          \n",
      "\\-------------------+                   /--------- YCHO-11.23_SP-5009_M3_1     \n",
      "                    |         /---------+                                      \n",
      "                    \\---------+         \\--------- YCHO-11.23_SP-5009_M3_37    \n",
      "                              |                                                \n",
      "                              \\------------------- A.CD.02.02CD_KTB035.AM000055\n",
      "                                                                               \n",
      "                                                                               \n"
     ]
    }
   ],
   "source": [
    "seqs = dendropy.DnaCharacterMatrix.get(file=open(\"../data/11.24.20 5009 trimmed.fasta\")\n",
    "                                       , schema=\"fasta\")\n",
    "\n",
    "ch_list_num, taxa_meta = prepare_inputs(seqs)\n",
    "\n",
    "spectral_method = reconstruct_tree.SpectralTreeReconstruction(reconstruct_tree.NeighborJoining, reconstruct_tree.HKY_similarity_matrix)\n",
    "        \n",
    "start_time = time.time()\n",
    "tree_rec = spectral_method.deep_spectral_tree_reconstruction(ch_list_num, reconstruct_tree.HKY_similarity_matrix, \n",
    "                                                            taxa_metadata = taxa_meta,\n",
    "                                                            threshhold = 6, min_split = 2, verbose = False)\n",
    "end_time = time.time()\n",
    "print(end_time - start_time)\n",
    "\n",
    "print(5009)\n",
    "tree_rec.print_plot()"
   ]
  },
  {
   "cell_type": "markdown",
   "metadata": {},
   "source": [
    "## 5014"
   ]
  },
  {
   "cell_type": "code",
   "execution_count": 6,
   "metadata": {},
   "outputs": [
    {
     "name": "stdout",
     "output_type": "stream",
     "text": [
      "0.05663418769836426\n",
      "5014\n",
      "                                        /--------- YCHO-11.23_SP-5014_M3_13    \n",
      "     /----------------------------------+                                      \n",
      "     |                                  |    /---- YCHO-11.23_SP-5014_B_43     \n",
      "     |                                  \\----+                                 \n",
      "/----+                                       \\---- YCHO-11.23_SP-5014_M3_15    \n",
      "|    |                                                                         \n",
      "|    |    /--------------------------------------- YCHO-11.23_SP-5014_B_39     \n",
      "|    \\----+                                                                    \n",
      "|         |    /---------------------------------- YCHO-11.23_SP-5014_B_27     \n",
      "|         \\----+                                                               \n",
      "|              |    /----------------------------- YCHO-11.23_SP-5014_M3_40    \n",
      "|              \\----+                                                          \n",
      "|                   |    /------------------------ YCHO-11.23_SP-5014_M3_47    \n",
      "|                   \\----+                                                     \n",
      "|                        |    /------------------- YCHO-11.23_SP-5014_M3_31    \n",
      "|                        \\----+                                                \n",
      "|                             |    /-------------- YCHO-11.23_SP-5014_B_33     \n",
      "|                             \\----+                                           \n",
      "+                                  |    /--------- YCHO-5014B1-Nesty8_043      \n",
      "|                                  \\----+                                      \n",
      "|                                       |    /---- YCHO-5014M310-Nesty8_062    \n",
      "|                                       \\----+                                 \n",
      "|                                            \\---- YCHO-11.23_SP-5014_B_57     \n",
      "|                                                                              \n",
      "|                        /------------------------ YCHO-11.23_SP-5014_B_23     \n",
      "|                   /----+                                                     \n",
      "|                   |    |    /------------------- YCHO-5014B11-Nesty8_078     \n",
      "|                   |    \\----+                                                \n",
      "|                   |         |    /-------------- YCHO-11.23_SP-5014_B_53     \n",
      "|                   |         \\----+                                           \n",
      "|                   |              |    /--------- YCHO-11.23_SP-5014_B_30     \n",
      "|                   |              \\----+                                      \n",
      "\\-------------------+                   |    /---- YCHO-11.23_SP-5014_M3_20    \n",
      "                    |                   \\----+                                 \n",
      "                    |                        \\---- YCHO-11.23_SP-5014_M3_17    \n",
      "                    |                                                          \n",
      "                    |                        /---- A.CD.02.02CD_KTB035.AM000055\n",
      "                    |              /---------+                                 \n",
      "                    |              |         \\---- YCHO-11.23_SP-5014_M3_25    \n",
      "                    \\--------------+                                           \n",
      "                                   |    /--------- YCHO-11.23_SP-5014_M3_39    \n",
      "                                   \\----+                                      \n",
      "                                        |    /---- YCHO-11.23_SP-5014_B_46     \n",
      "                                        \\----+                                 \n",
      "                                             \\---- YCHO-5014B2-Nesty8_027      \n",
      "                                                                               \n",
      "                                                                               \n"
     ]
    }
   ],
   "source": [
    "seqs = dendropy.DnaCharacterMatrix.get(file=open(\"../data/11.24.20 5014 trimmed.fasta\"), schema=\"fasta\")\n",
    "\n",
    "ch_list_num, taxa_meta = prepare_inputs(seqs)\n",
    "\n",
    "spectral_method = reconstruct_tree.SpectralTreeReconstruction(reconstruct_tree.NeighborJoining, reconstruct_tree.HKY_similarity_matrix)\n",
    "        \n",
    "start_time = time.time()\n",
    "tree_rec = spectral_method.deep_spectral_tree_reconstruction(ch_list_num, reconstruct_tree.HKY_similarity_matrix, \n",
    "                                                            taxa_metadata = taxa_meta,\n",
    "                                                            threshhold = 6, min_split = 2, verbose = False)\n",
    "end_time = time.time()\n",
    "print(end_time - start_time)\n",
    "\n",
    "print(5014)\n",
    "tree_rec.print_plot()"
   ]
  },
  {
   "cell_type": "markdown",
   "metadata": {},
   "source": [
    "## 5017"
   ]
  },
  {
   "cell_type": "code",
   "execution_count": 7,
   "metadata": {},
   "outputs": [
    {
     "name": "stdout",
     "output_type": "stream",
     "text": [
      "0.05739235877990723\n",
      "5017\n",
      "    /--------------------------------------------- YCHO-11.23_SP-5017_M3_20    \n",
      "    |                                                                          \n",
      "    |                                        /---- YCHO-11.23_SP-5017_M3_17    \n",
      "/---+   /------------------------------------+                                 \n",
      "|   |   |                                    \\---- YCHO-11.23_SP-5017_B_3      \n",
      "|   |   |                                                                      \n",
      "|   \\---+                                    /---- YCHO-11.23_SP-5017_M3_12    \n",
      "|       |   /--------------------------------+                                 \n",
      "|       |   |                                \\---- YCHO-11.23_SP-5017_M3_26    \n",
      "|       |   |                                                                  \n",
      "|       \\---+   /--------------------------------- YCHO-11.23_SP-5017_M3_11    \n",
      "|           |   |                                                              \n",
      "|           |   |                /---------------- YCHO-11.23_SP-5017_B_2      \n",
      "|           |   |                |                                             \n",
      "|           \\---+   /------------+           /---- YCHO-11.23_SP-5017_B_24     \n",
      "|               |   |            |   /-------+                                 \n",
      "|               |   |            |   |       \\---- YCHO-5017M36-Nesty8_092     \n",
      "|               |   |            \\---+                                         \n",
      "|               |   |                |   /-------- YCHO-11.23_SP-5017_M3_9     \n",
      "|               \\---+                \\---+                                     \n",
      "|                   |                    |   /---- YCHO-11.23_SP-5017_B_27     \n",
      "+                   |                    \\---+                                 \n",
      "|                   |                        \\---- YCHO-5017B7-Nesty8_046      \n",
      "|                   |                                                          \n",
      "|                   |    /------------------------ YCHO-11.23_SP-5017_B_29     \n",
      "|                   \\----+                                                     \n",
      "|                        |   /-------------------- YCHO-11.23_SP-5017_M3_10    \n",
      "|                        \\---+                                                 \n",
      "|                            |   /---------------- YCHO-11.23_SP-5017_B_10     \n",
      "|                            \\---+                                             \n",
      "|                                |   /------------ YCHO-11.23_SP-5017_M3_22    \n",
      "|                                \\---+                                         \n",
      "|                                    |   /-------- YCHO-11.23_SP-5017_M3_1     \n",
      "|                                    \\---+                                     \n",
      "|                                        |   /---- YCHO-11.23_SP-_5017_M3_14   \n",
      "|                                        \\---+                                 \n",
      "|                                            \\---- YCHO-11.23_SP-5017_M3_28    \n",
      "|                                                                              \n",
      "|                                            /---- A.CD.02.02CD_KTB035.AM000055\n",
      "\\--------------------------------------------+                                 \n",
      "                                             \\---- YCHO-11.23_SP-5017_M3_2     \n",
      "                                                                               \n",
      "                                                                               \n"
     ]
    }
   ],
   "source": [
    "seqs = dendropy.DnaCharacterMatrix.get(file=open(\"../data/11.24.20 5017 trimmed.fasta\")\n",
    "                                       , schema=\"fasta\")\n",
    "\n",
    "ch_list_num, taxa_meta = prepare_inputs(seqs)\n",
    "\n",
    "spectral_method = reconstruct_tree.SpectralTreeReconstruction(reconstruct_tree.NeighborJoining, reconstruct_tree.HKY_similarity_matrix)\n",
    "        \n",
    "start_time = time.time()\n",
    "tree_rec = spectral_method.deep_spectral_tree_reconstruction(ch_list_num, reconstruct_tree.HKY_similarity_matrix, \n",
    "                                                            taxa_metadata = taxa_meta,\n",
    "                                                            threshhold = 6, min_split = 2, verbose = False)\n",
    "end_time = time.time()\n",
    "print(end_time - start_time)\n",
    "\n",
    "print(5017)\n",
    "tree_rec.print_plot()"
   ]
  },
  {
   "cell_type": "markdown",
   "metadata": {},
   "source": [
    "## 5020"
   ]
  },
  {
   "cell_type": "code",
   "execution_count": 8,
   "metadata": {},
   "outputs": [
    {
     "name": "stdout",
     "output_type": "stream",
     "text": [
      "0.18118000030517578\n",
      "5020\n",
      "   /---------------------------------------------- YCHO-5020B2-Nesty8_077      \n",
      "   |                                                                           \n",
      "   |                                          /--- YCHO-11.23_SP-5020B_31      \n",
      "   |     /------------------------------------+                                \n",
      "   |     |                                    \\--- YCHO-11.23_SP-5020_B_35     \n",
      "   |  /--+                                                                     \n",
      "   |  |  |  /------------------------------------- YCHO-11.23_SP-5020B36       \n",
      "   |  |  |  |                                                                  \n",
      "   |  |  \\--+  /---------------------------------- YCHO-11.23_SP-5020_M3_20    \n",
      "   |  |     |  |                                                               \n",
      "   |  |     \\--+  /------------------------------- YCHO-11.23_SP-5020M3_17     \n",
      "   |  |        |  |                                                            \n",
      "   |  |        |  |  /---------------------------- YCHO-11.23_SP-5020_M3_28    \n",
      "   |  |        \\--+  |                                                         \n",
      "   |  |           |  |                     /------ YCHO-5020M33-Nesty8_044     \n",
      "/--+  |           |  |   /-----------------+                                   \n",
      "|  |  |           |  |   |                 |  /--- YCHO-11.23_SP-5020B_53      \n",
      "|  |  |           \\--+   |                 \\--+                                \n",
      "|  |  |              |   |                    \\--- YCHO-11.23_SP-5020M3_1      \n",
      "|  |  |              |   |                                                     \n",
      "|  |  |              |   |                    /--- YCHO-5020M35-Nesty8_076     \n",
      "|  |  |              |   |              /-----+                                \n",
      "|  |  |              \\---+              |     \\--- YCHO-11.23_SP-5020_M3_31    \n",
      "|  |  |                  |              |                                      \n",
      "|  |  |                  |  /-----------+     /--- YCHO-11.23_SP-5020_M3_36    \n",
      "|  |  |                  |  |           |  /--+                                \n",
      "|  |  |                  |  |           |  |  \\--- YCHO-11.23_SP-5020_M3_43    \n",
      "|  |  |                  |  |           \\--+                                   \n",
      "|  |  |                  |  |              |  /--- YCHO-5020M31-Nesty8_093     \n",
      "|  |  |                  \\--+              \\--+                                \n",
      "|  \\--+                     |                 \\--- YCHO-5020M32-Nesty8_011     \n",
      "|     |                     |                                                  \n",
      "|     |                     |  /------------------ YCHO-11.23_SP-5020_M3_25    \n",
      "|     |                     |  |                                               \n",
      "|     |                     \\--+  /--------------- YCHO-11.23_SP-5020M3_6      \n",
      "|     |                        |  |                                            \n",
      "|     |                        \\--+  /------------ YCHO-11.23_SP-5020_M3_39    \n",
      "|     |                           |  |                                         \n",
      "|     |                           |  |        /--- YCHO-11.23_SP-5020_M3_3     \n",
      "|     |                           \\--+  /-----+                                \n",
      "|     |                              |  |     \\--- YCHO-11.23_SP-5020M316      \n",
      "|     |                              |  |                                      \n",
      "|     |                              \\--+     /--- YCHO-11.23_SP-5020_M3_9     \n",
      "|     |                                 |  /--+                                \n",
      "|     |                                 |  |  \\--- YCHO-11.23_SP-5020_M3_2     \n",
      "|     |                                 \\--+                                   \n",
      "|     |                                    |  /--- YCHO-11.23_SP-5020_M3_32    \n",
      "|     |                                    \\--+                                \n",
      "+     |                                       \\--- YCHO-11.23_SP-5020_M3_23    \n",
      "|     |                                                                        \n",
      "|     |                     /--------------------- YCHO-5020B5-Nesty8_060      \n",
      "|     |                     |                                                  \n",
      "|     |                     |        /------------ YCHO-11.23_SP-5020_B_16     \n",
      "|     |                     |        |                                         \n",
      "|     |                     |        |        /--- YCHO-11.23_SP-5020_M3_38    \n",
      "|     \\---------------------+  /-----+     /--+                                \n",
      "|                           |  |     |     |  \\--- YCHO-11.23_SP-5020B_38      \n",
      "|                           |  |     |  /--+                                   \n",
      "|                           |  |     |  |  |  /--- YCHO-11.23_SP-5020B_32      \n",
      "|                           |  |     \\--+  \\--+                                \n",
      "|                           |  |        |     \\--- YCHO-11.23_SP-5020B60       \n",
      "|                           \\--+        |                                      \n",
      "|                              |        \\--------- YCHO-11.23_SP-5020B28       \n",
      "|                              |                                               \n",
      "|                              |  /--------------- YCHO-11.23_SP-5020B_56      \n",
      "|                              |  |                                            \n",
      "|                              |  |        /------ YCHO-11.23_SP-5020M3_40     \n",
      "|                              \\--+  /-----+                                   \n",
      "|                                 |  |     |  /--- YCHO-11.23_SP-5020_M3_42    \n",
      "|                                 |  |     \\--+                                \n",
      "|                                 \\--+        \\--- YCHO-11.23_SP-5020_M3_11    \n",
      "|                                    |                                         \n",
      "|                                    |  /--------- YCHO-11.23_SP-5020B52       \n",
      "|                                    \\--+                                      \n",
      "|                                       |  /------ YCHO-11.23_SP-5020_M3_33    \n",
      "|                                       \\--+                                   \n",
      "|                                          |  /--- YCHO-11.23_SP-5020_M3_44    \n",
      "|                                          \\--+                                \n",
      "|                                             \\--- YCHO-11.23_SP-5020B_25      \n",
      "|                                                                              \n",
      "|                                             /--- A.CD.02.02CD_KTB035.AM000055\n",
      "\\---------------------------------------------+                                \n",
      "                                              \\--- YCHO-11.23_SP-5020_B_19     \n",
      "                                                                               \n",
      "                                                                               \n"
     ]
    },
    {
     "name": "stderr",
     "output_type": "stream",
     "text": [
      "/home/mw957/project/conda_envs/r_env/lib/python3.7/site-packages/sklearn/decomposition/_truncated_svd.py:197: RuntimeWarning: divide by zero encountered in true_divide\n",
      "  self.explained_variance_ratio_ = exp_var / full_var\n",
      "/home/mw957/project/conda_envs/r_env/lib/python3.7/site-packages/sklearn/decomposition/_truncated_svd.py:197: RuntimeWarning: divide by zero encountered in true_divide\n",
      "  self.explained_variance_ratio_ = exp_var / full_var\n",
      "/home/mw957/project/conda_envs/r_env/lib/python3.7/site-packages/sklearn/decomposition/_truncated_svd.py:197: RuntimeWarning: divide by zero encountered in true_divide\n",
      "  self.explained_variance_ratio_ = exp_var / full_var\n"
     ]
    }
   ],
   "source": [
    "seqs = dendropy.DnaCharacterMatrix.get(file=open(\"../data/11.24.20 5020 trimmed.fasta\")\n",
    "                                       , schema=\"fasta\")\n",
    "\n",
    "ch_list_num, taxa_meta = prepare_inputs(seqs)\n",
    "\n",
    "spectral_method = reconstruct_tree.SpectralTreeReconstruction(reconstruct_tree.NeighborJoining, reconstruct_tree.HKY_similarity_matrix)\n",
    "        \n",
    "start_time = time.time()\n",
    "tree_rec = spectral_method.deep_spectral_tree_reconstruction(ch_list_num, reconstruct_tree.HKY_similarity_matrix, \n",
    "                                                            taxa_metadata = taxa_meta,\n",
    "                                                            threshhold = 10, min_split = 2, verbose = False)\n",
    "end_time = time.time()\n",
    "print(end_time - start_time)\n",
    "\n",
    "print(5020)\n",
    "tree_rec.print_plot()"
   ]
  },
  {
   "cell_type": "code",
   "execution_count": null,
   "metadata": {},
   "outputs": [],
   "source": []
  }
 ],
 "metadata": {
  "kernelspec": {
   "display_name": "Python 3",
   "language": "python",
   "name": "python3"
  },
  "language_info": {
   "codemirror_mode": {
    "name": "ipython",
    "version": 3
   },
   "file_extension": ".py",
   "mimetype": "text/x-python",
   "name": "python",
   "nbconvert_exporter": "python",
   "pygments_lexer": "ipython3",
   "version": "3.7.7"
  }
 },
 "nbformat": 4,
 "nbformat_minor": 4
}
