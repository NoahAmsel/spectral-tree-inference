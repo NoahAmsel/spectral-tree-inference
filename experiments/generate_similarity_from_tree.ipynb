{
 "cells": [
  {
   "cell_type": "code",
   "execution_count": 61,
   "metadata": {},
   "outputs": [],
   "source": [
    "import spectraltree\n",
    "import time\n",
    "import numpy as np\n",
    "import matplotlib.pyplot as plt\n",
    "import toytree\n",
    "import toyplot\n",
    "import toyplot.pdf\n",
    "import toyplot.svg\n",
    "import networkx as nx \n",
    "import pylab\n",
    "from Bio import Phylo\n",
    "import time "
   ]
  },
  {
   "cell_type": "code",
   "execution_count": 233,
   "metadata": {},
   "outputs": [],
   "source": [
    "def compute_similarity_matrix_from_tree_slow(T,mu):\n",
    "    # compute similarity matrix, doesn't work with birth death\n",
    "\n",
    "    # convert to networkx structure through external file\n",
    "    T.write(path=\"output.tre\", schema=\"newick\")\n",
    "    tree = Phylo.read(\"output.tre\", \"newick\")\n",
    "    net = Phylo.to_networkx(tree)\n",
    "\n",
    "    # get leaves idx and names\n",
    "    l_list = list(net.nodes())\n",
    "    A = nx.adjacency_matrix(net)\n",
    "    nz_idx = A.nonzero()    \n",
    "    leave_idx = []\n",
    "    for i in range(A.shape[0]):\n",
    "        if np.sum(nz_idx[0]==i)==1:\n",
    "            leave_idx.append(i)\n",
    "    m = len(leave_idx)\n",
    "    leave_idx = np.array(leave_idx)\n",
    "    # compute shortest path distance between all leaves\n",
    "\n",
    "    s_time = time.time()\n",
    "    D = np.zeros((m,m))\n",
    "    for i,T_i in enumerate(leave_idx):\n",
    "        for j,T_j in enumerate(leave_idx):\n",
    "            D[i,j] = nx.shortest_path_length(net,l_list[leave_idx[i]],l_list[leave_idx[j]],weight = \"weight\")            \n",
    "    f_time = time.time()\n",
    "    print('time shortest path is ', f_time-s_time)\n",
    "\n",
    "    s_time = time.time()\n",
    "    D_hat = nx.shortest_path_length(net,weight = \"weight\")\n",
    "    print(D_hat)\n",
    "    f_time = time.time()\n",
    "    print('time shortest path is ', f_time-s_time)\n",
    "    \n",
    "    mu = (1-(1-mu)*4/3)**3\n",
    "    S = mu**D\n",
    "    return S\n",
    "\n",
    "    "
   ]
  },
  {
   "cell_type": "code",
   "execution_count": 240,
   "metadata": {},
   "outputs": [],
   "source": [
    "def compute_similarity_matrix_from_tree(T,mu):\n",
    "    # compute similarity matrix, doesn't work with birth death\n",
    "\n",
    "    # convert to networkx structure through external file\n",
    "    T.write(path=\"output.tre\", schema=\"newick\")\n",
    "    tree = Phylo.read(\"output.tre\", \"newick\")\n",
    "    net = Phylo.to_networkx(tree)\n",
    "\n",
    "    # get leaves idx and names\n",
    "    node_list = list(net.nodes())\n",
    "    A = nx.adjacency_matrix(net)\n",
    "    \n",
    "    nz_idx = A.nonzero()    \n",
    "    leave_idx = []\n",
    "    l_list = []\n",
    "    for i in range(A.shape[0]):\n",
    "        if np.sum(nz_idx[0]==i)==1:\n",
    "            leave_idx.append(i)\n",
    "            l_list.append(node_list[i])\n",
    "    m = len(leave_idx)\n",
    "    leave_idx = np.array(leave_idx)\n",
    "    \n",
    "    # compute shortest path distance between all nodes in the tree\n",
    "    D_all_tree = nx.shortest_path_length(net,weight = \"weight\")\n",
    "\n",
    "    # extract only the distances between leaves\n",
    "    D_hat = np.zeros((m,m))\n",
    "    for node in D_all_tree:        \n",
    "        # get source name        \n",
    "        source_node = node[0]\n",
    "        if source_node in l_list:   \n",
    "            # get rel index\n",
    "            s_idx = l_list.index(source_node)\n",
    "            for k, v in node[1].items():\n",
    "                if k in l_list:\n",
    "                    t_idx = l_list.index(k)\n",
    "                    D_hat[s_idx,t_idx]=v\n",
    "                    \n",
    "    # convert distance to similarity matrix\n",
    "    mu = (1-(1-mu)*4/3)**3\n",
    "    S = mu**D_hat\n",
    "    return S\n"
   ]
  },
  {
   "cell_type": "code",
   "execution_count": 246,
   "metadata": {},
   "outputs": [],
   "source": [
    "num_taxa = 50    # Number of terminal nodes\n",
    "n = 10000        # Number of independent samples (sequence length)   \n",
    "jc = spectraltree.Jukes_Cantor()   #set evolution process to the Jukes Cantor model\n",
    "mutation_const = 0.9\n",
    "mutation_rate = jc.p2t(mutation_const)        #set mutation rate between adjacent nodes to 1-0.9=0.1\n",
    "\n",
    "\n",
    "# create a tree \n",
    "reference_tree = spectraltree.unrooted_pure_kingman_tree(num_taxa)\n",
    "#reference_tree = spectraltree.unrooted_birth_death_tree(num_taxa)\n",
    "#reference_tree = spectraltree.balanced_binary(num_taxa)\n",
    "observations, taxa_meta = spectraltree.simulate_sequences(n, tree_model=reference_tree, seq_model=jc, mutation_rate=mutation_rate, alphabet=\"DNA\")\n",
    "S = spectraltree.JC_similarity_matrix(observations)\n",
    "w_s,v_s = np.linalg.eigh(np.diag(np.sum(S,axis=1)) - S)\n",
    "D_til = np.diag(np.sum(S,axis=1)**-0.5)\n",
    "#w_n,v_n = np.lina"
   ]
  },
  {
   "cell_type": "code",
   "execution_count": 247,
   "metadata": {},
   "outputs": [
    {
     "name": "stdout",
     "output_type": "stream",
     "text": [
      "average difference between matrices: 0.0004891262086979113\n"
     ]
    },
    {
     "data": {
      "image/png": "[encoded data removed]",
      "text/plain": [
       "<Figure size 720x360 with 2 Axes>"
      ]
     },
     "metadata": {
      "needs_background": "light"
     },
     "output_type": "display_data"
    }
   ],
   "source": [
    "S_hat = compute_similarity_matrix_from_tree(reference_tree,mutation_const)\n",
    "fig,ax = plt.subplots(1,2,figsize = (10,5))\n",
    "ax[0].imshow(S)\n",
    "ax[1].imshow(S_hat)\n",
    "print('average difference between matrices:', (np.linalg.norm(S_hat-S)/num_taxa)**2)"
   ]
  },
  {
   "cell_type": "code",
   "execution_count": null,
   "metadata": {},
   "outputs": [],
   "source": []
  }
 ],
 "metadata": {
  "interpreter": {
   "hash": "8586aec21c3dcddbac43933009c4bc338428db36ad590228850bc50541827085"
  },
  "kernelspec": {
   "display_name": "Python 3.8.8 64-bit ('base': conda)",
   "name": "python3"
  },
  "language_info": {
   "codemirror_mode": {
    "name": "ipython",
    "version": 3
   },
   "file_extension": ".py",
   "mimetype": "text/x-python",
   "name": "python",
   "nbconvert_exporter": "python",
   "pygments_lexer": "ipython3",
   "version": "3.8.8"
  },
  "orig_nbformat": 2
 },
 "nbformat": 4,
 "nbformat_minor": 2
}
