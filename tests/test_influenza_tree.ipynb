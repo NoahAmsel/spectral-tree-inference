{
 "cells": [
  {
   "cell_type": "markdown",
   "metadata": {},
   "source": [
    "## Compare performance of different methods on influenza dataset\n",
    "\n",
    "Mamie Wang 03/13/2020"
   ]
  },
  {
   "cell_type": "code",
   "execution_count": 1,
   "metadata": {},
   "outputs": [],
   "source": [
    "import sys, os"
   ]
  },
  {
   "cell_type": "code",
   "execution_count": 2,
   "metadata": {},
   "outputs": [],
   "source": [
    "sys.path.append(os.path.join(os.path.dirname(sys.path[0]),'spectraltree'))"
   ]
  },
  {
   "cell_type": "code",
   "execution_count": 3,
   "metadata": {},
   "outputs": [],
   "source": [
    "import numpy as np\n",
    "import utils\n",
    "import generation\n",
    "import reconstruct_tree\n",
    "import dendropy\n",
    "import scipy\n",
    "import time\n",
    "from itertools import product\n",
    "import matplotlib.pyplot as plt\n",
    "\n",
    "from dendropy.model.discrete import simulate_discrete_chars, Jc69, Hky85\n",
    "from dendropy.calculate.treecompare import symmetric_difference"
   ]
  },
  {
   "cell_type": "markdown",
   "metadata": {},
   "source": [
    "## Load the tree and sequence file\n",
    "\n",
    "The tree was constructed on 565 H3N2 virus hemagglutinin sequences (aligned sequence length = 1737 bp) using BEAST. "
   ]
  },
  {
   "cell_type": "code",
   "execution_count": 4,
   "metadata": {},
   "outputs": [],
   "source": [
    "tree_path = os.path.join(os.path.dirname(sys.path[0]), \"data/NY_H3N2.newick\")\n",
    "fasta_path = os.path.join(os.path.dirname(sys.path[0]), \"data/NY_H3N2.fasta\")"
   ]
  },
  {
   "cell_type": "code",
   "execution_count": 5,
   "metadata": {},
   "outputs": [],
   "source": [
    "H3N2_tree = dendropy.Tree.get(path=tree_path, schema=\"newick\")\n",
    "H3N2_dna = dendropy.DnaCharacterMatrix.get(file=open(fasta_path, \"r\"), schema=\"fasta\")"
   ]
  },
  {
   "cell_type": "code",
   "execution_count": 6,
   "metadata": {},
   "outputs": [
    {
     "data": {
      "text/plain": [
       "565"
      ]
     },
     "execution_count": 6,
     "metadata": {},
     "output_type": "execute_result"
    }
   ],
   "source": [
    "len(H3N2_dna.taxon_namespace) # number of taxon"
   ]
  },
  {
   "cell_type": "code",
   "execution_count": 7,
   "metadata": {},
   "outputs": [
    {
     "data": {
      "text/plain": [
       "1737"
      ]
     },
     "execution_count": 7,
     "metadata": {},
     "output_type": "execute_result"
    }
   ],
   "source": [
    "len(H3N2_dna[0]) # sequence length"
   ]
  },
  {
   "cell_type": "markdown",
   "metadata": {},
   "source": [
    "## Simulate sequences from the tree\n",
    "\n",
    "We simulate the 565 sequences of length 1000 using the HKY85 model with transition/transversion ratio = 2, and mutation rate of 0.1"
   ]
  },
  {
   "cell_type": "code",
   "execution_count": 8,
   "metadata": {},
   "outputs": [],
   "source": [
    "N = 1000 \n",
    "data_HKY = simulate_discrete_chars(N, H3N2_tree, Hky85(kappa = 2), mutation_rate=0.1)\n",
    "ch_list = list()\n",
    "for t in data_HKY.taxon_namespace:\n",
    "    ch_list.append([x.symbol for x in data_HKY[t]])\n",
    "ch_arr = np.array(ch_list)\n",
    "identical = np.array([np.mean(a == b) for a, b in product(ch_arr, repeat = 2)])"
   ]
  },
  {
   "cell_type": "markdown",
   "metadata": {},
   "source": [
    "Here is the histogram of proportion of bases that are identical between pairs of sequences:"
   ]
  },
  {
   "cell_type": "code",
   "execution_count": 9,
   "metadata": {},
   "outputs": [
    {
     "data": {
      "image/png": "[encoded data removed]",
      "text/plain": [
       "<Figure size 432x288 with 1 Axes>"
      ]
     },
     "metadata": {
      "needs_background": "light"
     },
     "output_type": "display_data"
    }
   ],
   "source": [
    "_ = plt.hist(identical)"
   ]
  },
  {
   "cell_type": "markdown",
   "metadata": {},
   "source": [
    "### RaXML"
   ]
  },
  {
   "cell_type": "code",
   "execution_count": 12,
   "metadata": {},
   "outputs": [
    {
     "name": "stdout",
     "output_type": "stream",
     "text": [
      "--- 429.76267409324646 seconds ---\n",
      "\n",
      "HKY: \n",
      "RF =  104\n",
      "F1% =  95.39007092198582\n",
      "\n"
     ]
    }
   ],
   "source": [
    "raxml_HKY = reconstruct_tree.RAxML()\n",
    "\n",
    "start_time = time.time()\n",
    "raxml_HKY_tree = raxml_HKY(data_HKY, raxml_args=\"-T 2 --HKY85 -c 1\")\n",
    "raxml_time = time.time() - start_time\n",
    "print(\"--- %s seconds ---\" % raxml_time)\n",
    "\n",
    "RaxML_RF, RaxML_F1 = reconstruct_tree.compare_trees(raxml_HKY_tree, H3N2_tree)\n",
    "print(\"\")\n",
    "print(\"HKY: \")\n",
    "print(\"RF = \", RaxML_RF)\n",
    "print(\"F1% = \", RaxML_F1)\n",
    "print(\"\")"
   ]
  },
  {
   "cell_type": "markdown",
   "metadata": {},
   "source": [
    "## HKY similarity"
   ]
  },
  {
   "cell_type": "code",
   "execution_count": 13,
   "metadata": {},
   "outputs": [],
   "source": [
    "## compute the similarity matrix under HKY model\n",
    "def HKY_similarity_matrix(observations, classes=None, verbose = False):\n",
    "    m, N = observations.shape\n",
    "    if classes is None:\n",
    "        classes = np.unique(observations)\n",
    "    k = len(classes)\n",
    "    # From Tamura, K., and M. Nei. 1993\n",
    "    # for each pair of sequences, \n",
    "    # 1. estimate the average base frequency for pairs of sequences\n",
    "    # 2. compute purine transition proportion P1 (A <-> G)\n",
    "    # 3. compute pyrimidine transition proportion P2 (T <-> C)\n",
    "    # 3. compute transversion proportion Q (A <-> C, A <-> T, G <-> C, G <-> T)\n",
    "\n",
    "    if verbose: print(\"Computing the average base frequency for each pair of sequences...\")\n",
    "    g = {}\n",
    "    for x in classes:\n",
    "        obs_x = observations == x\n",
    "        g[x] = np.array([np.mean(np.hstack([a, b])) for a, b in product(obs_x, repeat = 2)]).reshape((m, m))\n",
    "    \n",
    "    g[\"R\"] = g[\"A\"] + g[\"G\"]\n",
    "    g[\"Y\"] = g[\"T\"] + g[\"C\"]\n",
    "    \n",
    "    # compute transition and transversion proportion\n",
    "    if verbose: print(\"Computing transition and transversion proportion for each pair of sequences...\")\n",
    "    P = {}\n",
    "    for i, x in enumerate(classes):\n",
    "        other_classes = np.delete(classes, i)\n",
    "        for y in other_classes:\n",
    "            P_x_y = np.array([np.mean(np.logical_and(a == x, b == y)) for a, b in product(observations, repeat = 2)]).reshape((m, m))\n",
    "            P[x + y] = P_x_y\n",
    "            \n",
    "    P_1 = P['AG'] + P[\"GA\"]\n",
    "    P_2 = P['CT'] + P['TC']\n",
    "    Q = P['AC'] + P['CA'] + P['AT'] + P['TA'] +\\\n",
    "        P['GC'] + P['CG'] + P['GT'] + P['TG']\n",
    "\n",
    "    # compute the similarity (formula 7)\n",
    "    if verbose: print(\"Computing similarity matrix\")\n",
    "    R = (1 - g[\"R\"]/(2 * g[\"A\"] * g[\"G\"]) * P_1 - 1 / (2 * g[\"R\"]) * Q)\n",
    "    Y = (1 - g[\"Y\"]/(2 * g[\"T\"] * g[\"C\"]) * P_2 - 1 / (2 * g[\"Y\"]) * Q)\n",
    "    T = (1 - 1/(2 * g[\"R\"] * g[\"Y\"]) * Q)\n",
    "    S = np.sign(R) * (np.abs(R))**(2 * g[\"A\"] * g[\"G\"] / g[\"R\"])\n",
    "    S += np.sign(Y) * (np.abs(Y))**(2 * g[\"T\"] * g[\"C\"] / g[\"Y\"])\n",
    "    S += np.sign(T) * (np.abs(T))**(2 * (g[\"R\"] * g[\"Y\"] - g[\"A\"] * g[\"G\"] * g[\"Y\"] / g[\"R\"] - g[\"T\"] * g[\"C\"] * g[\"R\"] / g[\"Y\"]))\n",
    "\n",
    "    return S"
   ]
  },
  {
   "cell_type": "markdown",
   "metadata": {},
   "source": [
    "### Spectral neighbor joining"
   ]
  },
  {
   "cell_type": "code",
   "execution_count": 14,
   "metadata": {},
   "outputs": [
    {
     "name": "stdout",
     "output_type": "stream",
     "text": [
      "--- 186.75812220573425 seconds ---\n",
      "SNJ: \n",
      "RF =  570\n",
      "F1% =  74.7340425531915\n",
      "\n"
     ]
    }
   ],
   "source": [
    "snj = reconstruct_tree.SpectralNeighborJoining(HKY_similarity_matrix)\n",
    "\n",
    "start_time = time.time()\n",
    "tree_rec = snj(ch_arr, H3N2_tree.taxon_namespace)\n",
    "snj_time = time.time() - start_time\n",
    "print(\"--- %s seconds ---\" % snj_time)\n",
    "\n",
    "SNJ_RF, SNJ_F1 = reconstruct_tree.compare_trees(tree_rec, H3N2_tree)\n",
    "print(\"SNJ: \")\n",
    "print(\"RF = \", SNJ_RF)\n",
    "print(\"F1% = \", SNJ_F1)\n",
    "print(\"\")"
   ]
  },
  {
   "cell_type": "markdown",
   "metadata": {},
   "source": [
    "### Neighbor joining"
   ]
  },
  {
   "cell_type": "code",
   "execution_count": 16,
   "metadata": {},
   "outputs": [
    {
     "name": "stdout",
     "output_type": "stream",
     "text": [
      "--- 181.23088574409485 seconds ---\n",
      "\n",
      "NJ: \n",
      "RF =  190\n",
      "F1% =  91.57801418439716\n",
      "\n"
     ]
    }
   ],
   "source": [
    "nj = reconstruct_tree.NeighborJoining(HKY_similarity_matrix)\n",
    "\n",
    "start_time = time.time()\n",
    "tree_rec = nj(ch_arr, H3N2_tree.taxon_namespace)\n",
    "nj_time = time.time() - start_time\n",
    "print(\"--- %s seconds ---\" % nj_time)\n",
    "\n",
    "NJ_RF, NJ_F1 = reconstruct_tree.compare_trees(tree_rec, H3N2_tree)\n",
    "print(\"\")\n",
    "print(\"NJ: \")\n",
    "print(\"RF = \", NJ_RF)\n",
    "print(\"F1% = \", NJ_F1)\n",
    "print(\"\")"
   ]
  },
  {
   "cell_type": "markdown",
   "metadata": {},
   "source": [
    "### Deep spectal neighbor joining using NJ as subtree method\n"
   ]
  },
  {
   "cell_type": "code",
   "execution_count": 17,
   "metadata": {},
   "outputs": [],
   "source": [
    "thresholds = [35, 64, 128, 256]\n",
    "RFs = []\n",
    "F1s = []\n",
    "runtime = []\n",
    "\n",
    "spectral_method = reconstruct_tree.SpectralTreeReconstruction(reconstruct_tree.NeighborJoining,\n",
    "                                                              HKY_similarity_matrix)"
   ]
  },
  {
   "cell_type": "code",
   "execution_count": 18,
   "metadata": {},
   "outputs": [
    {
     "name": "stdout",
     "output_type": "stream",
     "text": [
      "35\n",
      "--- 195.26829886436462 seconds ---\n",
      "Spectral deep (35): \n",
      "RF =  212\n",
      "F1% =  90.60283687943263\n",
      "\n",
      "64\n",
      "--- 192.46099090576172 seconds ---\n",
      "Spectral deep (64): \n",
      "RF =  194\n",
      "F1% =  91.40070921985816\n",
      "\n",
      "128\n",
      "--- 188.89191031455994 seconds ---\n",
      "Spectral deep (128): \n",
      "RF =  190\n",
      "F1% =  91.57801418439716\n",
      "\n",
      "256\n",
      "--- 181.68484807014465 seconds ---\n",
      "Spectral deep (256): \n",
      "RF =  196\n",
      "F1% =  91.31205673758865\n",
      "\n"
     ]
    }
   ],
   "source": [
    "for threshold in thresholds:\n",
    "    print(threshold)\n",
    "    start_time = time.time()\n",
    "    tree_rec = spectral_method.deep_spectral_tree_reonstruction(ch_arr, HKY_similarity_matrix, \n",
    "                                                            taxon_namespace = H3N2_tree.taxon_namespace, \n",
    "                                                            threshhold = threshold)\n",
    "    deep_sp_time = time.time() - start_time\n",
    "    \n",
    "    print(\"--- %s seconds ---\" % deep_sp_time)\n",
    "    runtime.append(deep_sp_time)\n",
    "    \n",
    "    RF,F1 = reconstruct_tree.compare_trees(tree_rec, H3N2_tree)\n",
    "    RFs.append(RF)\n",
    "    F1s.append(F1)\n",
    "    print(\"Spectral deep (\" + str(threshold) + \"): \")\n",
    "    print(\"RF = \", RF)\n",
    "    print(\"F1% = \", F1)\n",
    "    print(\"\")"
   ]
  },
  {
   "cell_type": "markdown",
   "metadata": {},
   "source": [
    "## Summary"
   ]
  },
  {
   "cell_type": "code",
   "execution_count": 20,
   "metadata": {},
   "outputs": [
    {
     "data": {
      "text/html": [
       "<div>\n",
       "<style scoped>\n",
       "    .dataframe tbody tr th:only-of-type {\n",
       "        vertical-align: middle;\n",
       "    }\n",
       "\n",
       "    .dataframe tbody tr th {\n",
       "        vertical-align: top;\n",
       "    }\n",
       "\n",
       "    .dataframe thead th {\n",
       "        text-align: right;\n",
       "    }\n",
       "</style>\n",
       "<table border=\"1\" class=\"dataframe\">\n",
       "  <thead>\n",
       "    <tr style=\"text-align: right;\">\n",
       "      <th></th>\n",
       "      <th>method</th>\n",
       "      <th>run time</th>\n",
       "      <th>RF</th>\n",
       "      <th>F1 %</th>\n",
       "    </tr>\n",
       "  </thead>\n",
       "  <tbody>\n",
       "    <tr>\n",
       "      <th>0</th>\n",
       "      <td>RaxML</td>\n",
       "      <td>429.76</td>\n",
       "      <td>104</td>\n",
       "      <td>95.39</td>\n",
       "    </tr>\n",
       "    <tr>\n",
       "      <th>2</th>\n",
       "      <td>NJ</td>\n",
       "      <td>181.23</td>\n",
       "      <td>190</td>\n",
       "      <td>91.58</td>\n",
       "    </tr>\n",
       "    <tr>\n",
       "      <th>5</th>\n",
       "      <td>Spectral deep (NJ): 128</td>\n",
       "      <td>188.89</td>\n",
       "      <td>190</td>\n",
       "      <td>91.58</td>\n",
       "    </tr>\n",
       "    <tr>\n",
       "      <th>4</th>\n",
       "      <td>Spectral deep (NJ): 64</td>\n",
       "      <td>192.46</td>\n",
       "      <td>194</td>\n",
       "      <td>91.40</td>\n",
       "    </tr>\n",
       "    <tr>\n",
       "      <th>6</th>\n",
       "      <td>Spectral deep (NJ): 256</td>\n",
       "      <td>181.68</td>\n",
       "      <td>196</td>\n",
       "      <td>91.31</td>\n",
       "    </tr>\n",
       "    <tr>\n",
       "      <th>3</th>\n",
       "      <td>Spectral deep (NJ): 35</td>\n",
       "      <td>195.27</td>\n",
       "      <td>212</td>\n",
       "      <td>90.60</td>\n",
       "    </tr>\n",
       "    <tr>\n",
       "      <th>1</th>\n",
       "      <td>SNJ</td>\n",
       "      <td>186.76</td>\n",
       "      <td>570</td>\n",
       "      <td>74.73</td>\n",
       "    </tr>\n",
       "  </tbody>\n",
       "</table>\n",
       "</div>"
      ],
      "text/plain": [
       "                    method  run time   RF   F1 %\n",
       "0                    RaxML    429.76  104  95.39\n",
       "2                       NJ    181.23  190  91.58\n",
       "5  Spectral deep (NJ): 128    188.89  190  91.58\n",
       "4   Spectral deep (NJ): 64    192.46  194  91.40\n",
       "6  Spectral deep (NJ): 256    181.68  196  91.31\n",
       "3   Spectral deep (NJ): 35    195.27  212  90.60\n",
       "1                      SNJ    186.76  570  74.73"
      ]
     },
     "execution_count": 20,
     "metadata": {},
     "output_type": "execute_result"
    }
   ],
   "source": [
    "import pandas as pd\n",
    "pd.DataFrame({'method': [\"RaxML\", \"SNJ\", \"NJ\", \"Spectral deep (NJ): 35\", \"Spectral deep (NJ): 64\", \"Spectral deep (NJ): 128\", \"Spectral deep (NJ): 256\"],\n",
    "             'run time': [raxml_time, snj_time, nj_time] + runtime,\n",
    "             'RF': [RaxML_RF, SNJ_RF, NJ_RF] + RFs,\n",
    "             'F1 %': [RaxML_F1, SNJ_F1, NJ_F1] + F1s}).sort_values(\"F1 %\", ascending = False).round(2)"
   ]
  },
  {
   "cell_type": "markdown",
   "metadata": {},
   "source": [
    "## Full script to run simulation 10 times for each method\n"
   ]
  },
  {
   "cell_type": "code",
   "execution_count": 2,
   "metadata": {},
   "outputs": [],
   "source": [
    "import sys, os\n",
    "\n",
    "sys.path.append(\"/gpfs/ysm/project/kleinstein/mw957/repos/spectral-tree-inference/spectraltree\")\n",
    "\n",
    "import numpy as np\n",
    "import utils\n",
    "import generation\n",
    "import reconstruct_tree\n",
    "import dendropy\n",
    "import scipy\n",
    "import time\n",
    "from itertools import product\n",
    "import matplotlib.pyplot as plt\n",
    "import pandas as pd\n",
    "\n",
    "from dendropy.model.discrete import simulate_discrete_chars, Jc69, Hky85\n",
    "from dendropy.calculate.treecompare import symmetric_difference\n",
    "\n",
    "def HKY_similarity_matrix(observations, classes=None, verbose = False):\n",
    "    m, N = observations.shape\n",
    "    if classes is None:\n",
    "        classes = np.unique(observations)\n",
    "    k = len(classes)\n",
    "    # From Tamura, K., and M. Nei. 1993\n",
    "    # for each pair of sequences, \n",
    "    # 1. estimate the average base frequency for pairs of sequences\n",
    "    # 2. compute purine transition proportion P1 (A <-> G)\n",
    "    # 3. compute pyrimidine transition proportion P2 (T <-> C)\n",
    "    # 3. compute transversion proportion Q (A <-> C, A <-> T, G <-> C, G <-> T)\n",
    "\n",
    "    if verbose: print(\"Computing the average base frequency for each pair of sequences...\")\n",
    "    g = {}\n",
    "    for x in classes:\n",
    "        obs_x = observations == x\n",
    "        g[x] = np.array([np.mean(np.hstack([a, b])) for a, b in product(obs_x, repeat = 2)]).reshape((m, m))\n",
    "    \n",
    "    g[\"R\"] = g[\"A\"] + g[\"G\"]\n",
    "    g[\"Y\"] = g[\"T\"] + g[\"C\"]\n",
    "    \n",
    "    # compute transition and transversion proportion\n",
    "    if verbose: print(\"Computing transition and transversion proportion for each pair of sequences...\")\n",
    "    P = {}\n",
    "    for i, x in enumerate(classes):\n",
    "        other_classes = np.delete(classes, i)\n",
    "        for y in other_classes:\n",
    "            P_x_y = np.array([np.mean(np.logical_and(a == x, b == y)) for a, b in product(observations, repeat = 2)]).reshape((m, m))\n",
    "            P[x + y] = P_x_y\n",
    "            \n",
    "    P_1 = P['AG'] + P[\"GA\"]\n",
    "    P_2 = P['CT'] + P['TC']\n",
    "    Q = P['AC'] + P['CA'] + P['AT'] + P['TA'] +\\\n",
    "        P['GC'] + P['CG'] + P['GT'] + P['TG']\n",
    "\n",
    "    # compute the similarity (formula 7)\n",
    "    if verbose: print(\"Computing similarity matrix\")\n",
    "    R = (1 - g[\"R\"]/(2 * g[\"A\"] * g[\"G\"]) * P_1 - 1 / (2 * g[\"R\"]) * Q)\n",
    "    Y = (1 - g[\"Y\"]/(2 * g[\"T\"] * g[\"C\"]) * P_2 - 1 / (2 * g[\"Y\"]) * Q)\n",
    "    T = (1 - 1/(2 * g[\"R\"] * g[\"Y\"]) * Q)\n",
    "    S = np.sign(R) * (np.abs(R))**(2 * g[\"A\"] * g[\"G\"] / g[\"R\"])\n",
    "    S += np.sign(Y) * (np.abs(Y))**(2 * g[\"T\"] * g[\"C\"] / g[\"Y\"])\n",
    "    S += np.sign(T) * (np.abs(T))**(2 * (g[\"R\"] * g[\"Y\"] - g[\"A\"] * g[\"G\"] * g[\"Y\"] / g[\"R\"] - g[\"T\"] * g[\"C\"] * g[\"R\"] / g[\"Y\"]))\n",
    "\n",
    "    return S"
   ]
  },
  {
   "cell_type": "code",
   "execution_count": 1,
   "metadata": {},
   "outputs": [],
   "source": [
    "def run_method(method, tree, threshold = None):\n",
    "    data_HKY = simulate_discrete_chars(1000, tree, Hky85(kappa = 2), mutation_rate=0.1)\n",
    "    ch_list = list()\n",
    "    for t in data_HKY.taxon_namespace:\n",
    "        ch_list.append([x.symbol for x in data_HKY[t]])\n",
    "    ch_arr = np.array(ch_list)\n",
    "    \n",
    "    if method == \"raxml\":\n",
    "        raxml_HKY = reconstruct_tree.RAxML()\n",
    "        start_time = time.time()\n",
    "        tree_rec = raxml_HKY(data_HKY, raxml_args=\"-T 2 --HKY85 -c 1\")      \n",
    "    if method == \"snj\":\n",
    "        snj = reconstruct_tree.SpectralNeighborJoining(HKY_similarity_matrix)\n",
    "        start_time = time.time()\n",
    "        tree_rec = snj(ch_arr, tree.taxon_namespace)\n",
    "    if method == \"nj\":\n",
    "        nj = reconstruct_tree.NeighborJoining(HKY_similarity_matrix)\n",
    "        start_time = time.time()\n",
    "        tree_rec = nj(ch_arr, tree.taxon_namespace)\n",
    "    if method == \"sp deep\":\n",
    "        spectral_method = reconstruct_tree.SpectralTreeReconstruction(reconstruct_tree.NeighborJoining, HKY_similarity_matrix)\n",
    "        start_time = time.time()\n",
    "        tree_rec = spectral_method.deep_spectral_tree_reonstruction(ch_arr, HKY_similarity_matrix, \n",
    "                                                            taxon_namespace = tree.taxon_namespace, \n",
    "                                                            threshhold = threshold)\n",
    "    if method == \"raxml sp deep\":\n",
    "        spectral_method = reconstruct_tree.SpectralTreeReconstruction(reconstruct_tree.RAxML,\n",
    "                                                              HKY_similarity_matrix)\n",
    "        start_time = time.time()\n",
    "        tree_rec = spectral_method.deep_spectral_tree_reonstruction(ch_arr, HKY_similarity_matrix, \n",
    "                                                            taxon_namespace = tree.taxon_namespace, \n",
    "                                                            threshhold = threshold,\n",
    "                                                            raxml_args = \"-T 2 --HKY85 -c 1\")\n",
    "    runtime = time.time() - start_time\n",
    "    RF,F1 = reconstruct_tree.compare_trees(tree_rec, tree)\n",
    "    print(method)\n",
    "    if threshold is not None: print(threshold)\n",
    "    print(\"--- %s seconds ---\" % runtime)\n",
    "    print(\"RF = \",RF)\n",
    "    print(\"F1% = \",F1) \n",
    "    return([method, str(threshold), runtime, RF, F1])"
   ]
  },
  {
   "cell_type": "code",
   "execution_count": null,
   "metadata": {},
   "outputs": [],
   "source": [
    "tree_path = \"/home/mw957/project/repos/spec_tree/data/skygrid_J2.newick\"\n",
    "fasta_path = \"/home/mw957/project/repos/spec_tree/data/H3N2_NewYork.fasta\"\n",
    "\n",
    "H3N2_tree = dendropy.Tree.get(path=tree_path, schema=\"newick\")\n",
    "n_runs = 10\n",
    "\n",
    "methods = [\"raxml\", \"snj\", \"nj\", \"sp deep\", \"sp deep\", \"sp deep\", \"sp deep\", \"raxml sp deep\", \"raxml sp deep\"]\n",
    "thresholds = [None, None, None, 35, 64, 128, 256, 64, 128]\n",
    "\n",
    "ms = []\n",
    "ts = []\n",
    "rts = []\n",
    "rfs = []\n",
    "f1s = []\n",
    "\n",
    "for i in range(n_runs):\n",
    "    for j in range(7,len(methods)):\n",
    "        method = methods[j]\n",
    "        threshold = thresholds[j]\n",
    "        print(method, threshold)\n",
    "        res = run_method(method, H3N2_tree, threshold = threshold)\n",
    "        ms.append(res[0])\n",
    "        ts.append(res[1])\n",
    "        rts.append(res[2])\n",
    "        rfs.append(res[3])\n",
    "        f1s.append(res[4])\n",
    "\n",
    "perf_metrics = pd.DataFrame({'method': ms, 'threshold': ts, 'runtime': rts, 'RF': rfs, \"F1\": f1s})\n",
    "perf_metrics.to_csv(\"/gpfs/ysm/project/kleinstein/mw957/repos/spec_tree/script/metrics.csv\")"
   ]
  },
  {
   "cell_type": "code",
   "execution_count": 12,
   "metadata": {},
   "outputs": [
    {
     "data": {
      "text/html": [
       "<div>\n",
       "<style scoped>\n",
       "    .dataframe tbody tr th:only-of-type {\n",
       "        vertical-align: middle;\n",
       "    }\n",
       "\n",
       "    .dataframe tbody tr th {\n",
       "        vertical-align: top;\n",
       "    }\n",
       "\n",
       "    .dataframe thead tr th {\n",
       "        text-align: left;\n",
       "    }\n",
       "\n",
       "    .dataframe thead tr:last-of-type th {\n",
       "        text-align: right;\n",
       "    }\n",
       "</style>\n",
       "<table border=\"1\" class=\"dataframe\">\n",
       "  <thead>\n",
       "    <tr>\n",
       "      <th></th>\n",
       "      <th colspan=\"2\" halign=\"left\">runtime</th>\n",
       "      <th colspan=\"2\" halign=\"left\">RF</th>\n",
       "      <th colspan=\"2\" halign=\"left\">F1</th>\n",
       "    </tr>\n",
       "    <tr>\n",
       "      <th></th>\n",
       "      <th>mean</th>\n",
       "      <th>std</th>\n",
       "      <th>mean</th>\n",
       "      <th>std</th>\n",
       "      <th>mean</th>\n",
       "      <th>std</th>\n",
       "    </tr>\n",
       "    <tr>\n",
       "      <th>method</th>\n",
       "      <th></th>\n",
       "      <th></th>\n",
       "      <th></th>\n",
       "      <th></th>\n",
       "      <th></th>\n",
       "      <th></th>\n",
       "    </tr>\n",
       "  </thead>\n",
       "  <tbody>\n",
       "    <tr>\n",
       "      <th>raxml</th>\n",
       "      <td>454.66</td>\n",
       "      <td>12.40</td>\n",
       "      <td>95.8</td>\n",
       "      <td>7.08</td>\n",
       "      <td>95.75</td>\n",
       "      <td>0.31</td>\n",
       "    </tr>\n",
       "    <tr>\n",
       "      <th>sp deep 128</th>\n",
       "      <td>194.89</td>\n",
       "      <td>2.20</td>\n",
       "      <td>167.4</td>\n",
       "      <td>9.14</td>\n",
       "      <td>92.58</td>\n",
       "      <td>0.41</td>\n",
       "    </tr>\n",
       "    <tr>\n",
       "      <th>sp deep 256</th>\n",
       "      <td>186.22</td>\n",
       "      <td>0.50</td>\n",
       "      <td>173.6</td>\n",
       "      <td>21.45</td>\n",
       "      <td>92.30</td>\n",
       "      <td>0.95</td>\n",
       "    </tr>\n",
       "    <tr>\n",
       "      <th>sp deep 64</th>\n",
       "      <td>201.31</td>\n",
       "      <td>2.28</td>\n",
       "      <td>183.2</td>\n",
       "      <td>17.11</td>\n",
       "      <td>91.88</td>\n",
       "      <td>0.76</td>\n",
       "    </tr>\n",
       "    <tr>\n",
       "      <th>nj</th>\n",
       "      <td>196.09</td>\n",
       "      <td>1.33</td>\n",
       "      <td>188.2</td>\n",
       "      <td>14.47</td>\n",
       "      <td>91.66</td>\n",
       "      <td>0.64</td>\n",
       "    </tr>\n",
       "    <tr>\n",
       "      <th>sp deep 35</th>\n",
       "      <td>205.47</td>\n",
       "      <td>1.79</td>\n",
       "      <td>201.4</td>\n",
       "      <td>15.89</td>\n",
       "      <td>91.07</td>\n",
       "      <td>0.70</td>\n",
       "    </tr>\n",
       "    <tr>\n",
       "      <th>snj</th>\n",
       "      <td>198.09</td>\n",
       "      <td>0.73</td>\n",
       "      <td>571.2</td>\n",
       "      <td>9.94</td>\n",
       "      <td>74.68</td>\n",
       "      <td>0.44</td>\n",
       "    </tr>\n",
       "  </tbody>\n",
       "</table>\n",
       "</div>"
      ],
      "text/plain": [
       "            runtime            RF            F1      \n",
       "               mean    std   mean    std   mean   std\n",
       "method                                               \n",
       "raxml        454.66  12.40   95.8   7.08  95.75  0.31\n",
       "sp deep 128  194.89   2.20  167.4   9.14  92.58  0.41\n",
       "sp deep 256  186.22   0.50  173.6  21.45  92.30  0.95\n",
       "sp deep 64   201.31   2.28  183.2  17.11  91.88  0.76\n",
       "nj           196.09   1.33  188.2  14.47  91.66  0.64\n",
       "sp deep 35   205.47   1.79  201.4  15.89  91.07  0.70\n",
       "snj          198.09   0.73  571.2   9.94  74.68  0.44"
      ]
     },
     "execution_count": 12,
     "metadata": {},
     "output_type": "execute_result"
    }
   ],
   "source": [
    "import pandas as pd\n",
    "perf_metrics = pd.read_csv(\"/gpfs/ysm/project/kleinstein/mw957/repos/spec_tree/script/metrics.csv\")\n",
    "perf_metrics = perf_metrics.loc[:, [\"method\", \"threshold\", \"runtime\", \"RF\", \"F1\"]]\n",
    "has_threshold = perf_metrics.threshold != \"None\"\n",
    "perf_metrics.loc[has_threshold,'method'] = perf_metrics.loc[has_threshold,'method'] + \" \" + perf_metrics.loc[has_threshold,'threshold']\n",
    "perf_metrics.groupby(\"method\").agg(['mean', 'std']).round(2).sort_values([('F1', 'mean')], ascending=False)"
   ]
  }
 ],
 "metadata": {
  "kernelspec": {
   "display_name": "Python 3",
   "language": "python",
   "name": "python3"
  },
  "language_info": {
   "codemirror_mode": {
    "name": "ipython",
    "version": 3
   },
   "file_extension": ".py",
   "mimetype": "text/x-python",
   "name": "python",
   "nbconvert_exporter": "python",
   "pygments_lexer": "ipython3",
   "version": "3.7.6"
  }
 },
 "nbformat": 4,
 "nbformat_minor": 4
}
