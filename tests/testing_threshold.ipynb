{
 "cells": [
  {
   "cell_type": "code",
   "execution_count": 2,
   "metadata": {},
   "outputs": [],
   "source": [
    "import datetime\n",
    "import pickle\n",
    "import os.path\n",
    "\n",
    "import numpy as np\n",
    "import scipy\n",
    "import pandas as pd\n",
    "import seaborn as sns\n",
    "import matplotlib.pylab as plt\n",
    "import dendropy\n",
    "\n",
    "from spectraltree import *"
   ]
  },
  {
   "cell_type": "code",
   "execution_count": 5,
   "metadata": {},
   "outputs": [],
   "source": [
    "def unrooted_birth_death_tree(birth_rate, death_rate,  birth_rate_sd=0.0, death_rate_sd=0.0, **kwargs):\n",
    "    tree = birth_death_tree(birth_rate, death_rate, birth_rate_sd=birth_rate_sd, death_rate_sd=death_rate_sd, **kwargs)\n",
    "    tree.is_rooted = False\n",
    "    return tree"
   ]
  },
  {
   "cell_type": "code",
   "execution_count": 6,
   "metadata": {},
   "outputs": [],
   "source": [
    "\n",
    "def check_partition_in_tree(tree,partition):\n",
    "    \n",
    "    # UGLY!! The bipartitions in 'tree' is given by order of taxonomy (T1,T2 etc)\n",
    "    # The input 'partition' is via order of the appearnace in the matrix \n",
    "    # The first step is to switch partition such that it is of the same order of tree\n",
    "    ns = []\n",
    "    for leaf_ix, leaf in enumerate(tree.leaf_node_iter()):    \n",
    "        ns.append(int(leaf.taxon.label[0:]))\n",
    "    ns_idx = np.argsort(np.array(ns))\n",
    "    partition = partition[ns_idx]\n",
    "    partition_inv = [not i for i in partition]\n",
    "    \n",
    "\n",
    "    #print(\"*********************\")\n",
    "    tree_bipartitions = tree.bipartition_edge_map\n",
    "    flag = False\n",
    "    for bp in tree_bipartitions.keys():\n",
    "        bool_array =np.array(list(map(bool,[int(i) for i in bp.leafset_as_bitstring()]))[::-1])\n",
    "        #bool_array = bool_array[ns_idx]\n",
    "        #print(bool_array)\n",
    "        if np.array_equal(bool_array,partition) or np.array_equal(bool_array,partition_inv):\n",
    "            flag = True\n",
    "    return flag  \n",
    "    \n",
    "def partition_taxa(v):\n",
    "    m = len(v)\n",
    "    v_sort = np.sort(v)\n",
    "    gaps = v_sort[1:m]-v_sort[0:m-1]\n",
    "    max_idx = np.argmax(gaps)\n",
    "    threshold = (v_sort[max_idx]+v_sort[max_idx+1])/2\n",
    "    bool_bipartition = v<threshold\n",
    "    return bool_bipartition\n",
    "    "
   ]
  },
  {
   "cell_type": "code",
   "execution_count": 3,
   "metadata": {},
   "outputs": [],
   "source": [
    "\n",
    "class Experiment_Datum:\n",
    "    def __init__(self, sequence_model, n, method, mutation_rate, inferred_tree, reference_tree):\n",
    "        self.sequence_model = sequence_model\n",
    "        self.n = n\n",
    "        self.method = method\n",
    "        self.mutation_rate = mutation_rate\n",
    "        inferred_tree.update_bipartitions()\n",
    "        reference_tree.update_bipartitions()\n",
    "        self.ref_tree = reference_tree\n",
    "        # self.inf_tree = inferred_tree   # take this out for space/speed\n",
    "        self.false_positives, self.false_negatives = dendropy.calculate.treecompare.false_positives_and_negatives(reference_tree, inferred_tree, is_bipartitions_updated=True)\n",
    "        self.total_reference = len(reference_tree.bipartition_encoding)\n",
    "        self.total_inferred = len(inferred_tree.bipartition_encoding)\n",
    "        self.timestamp = datetime.datetime.now()\n",
    "\n",
    "    @property\n",
    "    def m(self):\n",
    "        return len(self.ref_tree.leaf_edges())\n",
    "\n",
    "    @property\n",
    "    def RF(self):\n",
    "        # source: https://dendropy.org/_modules/dendropy/calculate/treecompare.html#symmetric_difference\n",
    "        return self.false_positives + self.false_negatives\n",
    "\n",
    "    @property\n",
    "    def precision(self):\n",
    "        true_positives = self.total_inferred - self.false_positives\n",
    "        return true_positives / self.total_inferred\n",
    "\n",
    "    @property\n",
    "    def recall(self):\n",
    "        true_positives = self.total_inferred - self.false_positives\n",
    "        return true_positives / self.total_reference\n",
    "\n",
    "    @property\n",
    "    def F1(self):\n",
    "        return 2*(self.precision * self.recall)/(self.precision + self.recall)\n",
    "\n",
    "    @property\n",
    "    def correct(self):\n",
    "        return self.RF == 0\n",
    "\n",
    "    def to_row(self):\n",
    "        return {\n",
    "            \"transition\": self.sequence_model,\n",
    "            \"n\": self.n,\n",
    "            \"method\": str(self.method),\n",
    "            \"rate\": self.mutation_rate,\n",
    "            \"m\": self.m,\n",
    "            \"correct\": self.correct,\n",
    "            \"F1%\": 100*self.F1,\n",
    "            \"RF\": self.RF,\n",
    "        }\n",
    "\n",
    "    def __str__(self):\n",
    "        first_part = \"Method: {}\\tn={}\\ttransition= {}\".format(self.method, self.n, self.sequence_model)\n",
    "        rate_part = (\"\" if self.mutation_rate==1. else \"rate= {:.2f}\".format(self.mutation_rate))\n",
    "        last_part = \"m = {}\\tF1={:.2f}\".format(self.m, self.F1)\n",
    "        return \"\\t\".join([first_part, rate_part, last_part])\n",
    "\n",
    "def save_results(results, filename=None, folder=\"data\"):\n",
    "    if filename is None:\n",
    "        filename = datetime.datetime.now().strftime(\"results_%b%d_%-I:%-M%p.pkl\")\n",
    "    if folder:\n",
    "        filename = os.path.join(folder, filename)\n",
    "    with open(filename, \"wb\") as f:\n",
    "        pickle.dump(results, f)\n",
    "\n",
    "def load_results(*files, folder=\"data\", throw_error=True):\n",
    "    total_results = []\n",
    "    successful = 0\n",
    "    for filename in files:\n",
    "        successful += 1\n",
    "        fullpath = filename if folder is None else os.path.join(folder, filename)\n",
    "        try:\n",
    "            with open(fullpath, \"rb\") as f:\n",
    "                res = pickle.load(f)\n",
    "                total_results += res\n",
    "        except Exception as error:\n",
    "            successful -= 1\n",
    "            if throw_error:\n",
    "                raise error\n",
    "    if not throw_error:\n",
    "        print(\"Successfully read {} files.\".format(successful))\n",
    "    return total_results\n",
    "\n",
    "def experiment(tree_list, sequence_model, Ns, methods, mutation_rates=[1.], reps_per_tree=1, savepath=None, folder=\"data\", overwrite=False):\n",
    "\n",
    "    print(\"==== Beginning Experiment =====\")\n",
    "    print(\"\\t Transition: \", sequence_model)\n",
    "    print(\"\\t {} trees\".format(len(tree_list)))\n",
    "    print(\"\\t {} sample sizes:\".format(len(Ns)), *Ns)\n",
    "    print(\"\\t {} methods\".format(len(methods)), *methods)\n",
    "    print(\"\\t {} mutation rates:\".format(len(mutation_rates)), *(\"{0:.4f}\".format(rate) for rate in mutation_rates))\n",
    "    print(\"\\t {} reps\".format(reps_per_tree))\n",
    "\n",
    "    results = []\n",
    "    total_trials = len(tree_list) * reps_per_tree * len(mutation_rates) * len(Ns) * len(methods)\n",
    "    i = 0\n",
    "    for reference_tree in tree_list:\n",
    "        for _ in range(reps_per_tree):\n",
    "            for mutation_rate in mutation_rates:\n",
    "                observations = spectraltree.simulate_sequences(seq_len=max(Ns), tree_model=reference_tree, seq_model=sequence_model, mutation_rate=mutation_rate)\n",
    "                for n in Ns:\n",
    "                    for method in methods:\n",
    "                        inferred_tree = method(observations[:,:n], namespace=reference_tree.taxon_namespace)\n",
    "                        results.append(Experiment_Datum(sequence_model, n, method, mutation_rate, inferred_tree, reference_tree))\n",
    "                        i += 1\n",
    "                        print(\"{0} / {1}\".format(i, total_trials))\n",
    "\n",
    "    if savepath:\n",
    "        previous_results = [] if overwrite else load_results(savepath, folder=folder, throw_error=False)\n",
    "        save_results(previous_results+results, filename=savepath, folder=folder)\n",
    "        print(\"Saved to\", os.path.join(folder, savepath) if folder else savepath)\n",
    "\n",
    "    return results\n",
    "\n",
    "# Plotting functions\n",
    "def results2frame(results):\n",
    "    return pd.DataFrame(result.to_row() for result in results)\n",
    "\n",
    "def violin(result_frame, x=\"n\", y=\"F1%\", hue=\"method\"):\n",
    "    sns.catplot(data=result_frame, x=hue, y=y, inner=\"stick\", col=x, bw=.8, scale=\"count\", kind=\"violin\", col_wrap=3)\n",
    "\n",
    "def box(result_frame, x=\"n\", y=\"F1%\", hue=\"method\"):\n",
    "    return accuracy(result_frame, x=x, y=y, hue=hue, col=col, kind=\"box\")\n",
    "\n",
    "def accuracy(result_frame, x=\"n\", y=\"F1%\", hue=\"method\", col=None, kind=\"point\"):\n",
    "    dodge = 0.1*(result_frame['method'].nunique() - 1)\n",
    "    return sns.catplot(data=result_frame, x=x, y=y, kind=\"point\", hue=hue, col=col, dodge=dodge, col_wrap=(None if col is None else 3))\n",
    "\n",
    "def correct(result_frame, x=\"n\", y=\"correct\", hue=\"method\", col=None):\n",
    "    return accuracy(result_frame, x=x, y=y, hue=hue, col=col)\n",
    "    #dodge = 0.1*(result_frame['method'].nunique() - 1)\n",
    "    #sns.pointplot(data=result_frame, x=x, y=y, hue=hue, dodge=dodge)\n",
    "\n",
    "# %%\n",
    "def weird1(A1, A2, M):\n",
    "    A = A1 | A2\n",
    "    M1 = M[np.ix_(A1, ~A)]\n",
    "    M2 = M[np.ix_(A2, ~A)]\n",
    "    U1, S1, Vh1 = np.linalg.svd(M1, compute_uv=True)\n",
    "    vh1 = Vh1[1,:]\n",
    "    U2, S2, Vh2 = np.linalg.svd(M2, compute_uv=True)\n",
    "    vh2 = Vh2[1,:]\n",
    "    return 1. - np.inner(vh1/np.linalg.norm(vh1), vh2/np.linalg.norm(vh2))\n",
    "\n",
    "def weird2(A1, A2, M):\n",
    "    A = A1 | A2\n",
    "    M1 = M[np.ix_(A1, ~A)]\n",
    "    M2 = M[np.ix_(A2, ~A)]\n",
    "\n",
    "    M1 = M1/np.linalg.norm(M1, axis=1, keepdims=True)\n",
    "    M2 = M2/np.linalg.norm(M2, axis=1, keepdims=True)\n",
    "    return -np.linalg.norm(M1.dot(M2.T))/np.sqrt(len(A1)*len(A2))\n",
    "\n",
    "def JC_similarity_matrix(observations, classes=None):\n",
    "    \"\"\"Jukes-Cantor Corrected Similarity\"\"\"\n",
    "    assert classes is None\n",
    "    if classes is None:\n",
    "        classes = np.unique(observations)\n",
    "    k = len(classes)\n",
    "    hamming_matrix = scipy.spatial.distance.squareform(scipy.spatial.distance.pdist(observations, metric='hamming'))\n",
    "    inside_log = 1 - hamming_matrix*k/(k-1)\n",
    "    return inside_log**(k-1)\n"
   ]
  },
  {
   "cell_type": "markdown",
   "metadata": {},
   "source": [
    "We test for a balanced tree the number of samples required for accurate partition"
   ]
  },
  {
   "cell_type": "code",
   "execution_count": 6,
   "metadata": {},
   "outputs": [
    {
     "name": "stdout",
     "output_type": "stream",
     "text": [
      "(5, 4)\n"
     ]
    },
    {
     "ename": "KeyboardInterrupt",
     "evalue": "",
     "output_type": "error",
     "traceback": [
      "\u001b[1;31m---------------------------------------------------------------------------\u001b[0m",
      "\u001b[1;31mKeyboardInterrupt\u001b[0m                         Traceback (most recent call last)",
      "\u001b[1;32m<ipython-input-6-94f8590e6b91>\u001b[0m in \u001b[0;36m<module>\u001b[1;34m\u001b[0m\n\u001b[0;32m     14\u001b[0m \u001b[1;32mfor\u001b[0m \u001b[0mtree_idx\u001b[0m\u001b[1;33m,\u001b[0m\u001b[0mtree\u001b[0m \u001b[1;32min\u001b[0m \u001b[0menumerate\u001b[0m\u001b[1;33m(\u001b[0m\u001b[0mtree_list\u001b[0m\u001b[1;33m)\u001b[0m\u001b[1;33m:\u001b[0m\u001b[1;33m\u001b[0m\u001b[1;33m\u001b[0m\u001b[0m\n\u001b[0;32m     15\u001b[0m         \u001b[1;32mfor\u001b[0m \u001b[0m_\u001b[0m \u001b[1;32min\u001b[0m \u001b[0mrange\u001b[0m\u001b[1;33m(\u001b[0m\u001b[0mnum_itr\u001b[0m\u001b[1;33m)\u001b[0m\u001b[1;33m:\u001b[0m\u001b[1;33m\u001b[0m\u001b[1;33m\u001b[0m\u001b[0m\n\u001b[1;32m---> 16\u001b[1;33m             \u001b[0mobservations\u001b[0m \u001b[1;33m=\u001b[0m \u001b[0msimulate_sequences\u001b[0m\u001b[1;33m(\u001b[0m\u001b[0mseq_len\u001b[0m\u001b[1;33m=\u001b[0m\u001b[0mmax\u001b[0m\u001b[1;33m(\u001b[0m\u001b[0mN_vec\u001b[0m\u001b[1;33m)\u001b[0m\u001b[1;33m,\u001b[0m \u001b[0mtree_model\u001b[0m\u001b[1;33m=\u001b[0m\u001b[0mtree\u001b[0m\u001b[1;33m,\u001b[0m \u001b[0mseq_model\u001b[0m\u001b[1;33m=\u001b[0m\u001b[0mjc\u001b[0m\u001b[1;33m,\u001b[0m \u001b[0mmutation_rate\u001b[0m\u001b[1;33m=\u001b[0m\u001b[0mmutation_rate\u001b[0m\u001b[1;33m)\u001b[0m\u001b[1;33m\u001b[0m\u001b[1;33m\u001b[0m\u001b[0m\n\u001b[0m\u001b[0;32m     17\u001b[0m             \u001b[1;32mfor\u001b[0m \u001b[0mn_idx\u001b[0m\u001b[1;33m,\u001b[0m\u001b[0mn\u001b[0m \u001b[1;32min\u001b[0m \u001b[0menumerate\u001b[0m\u001b[1;33m(\u001b[0m\u001b[0mN_vec\u001b[0m\u001b[1;33m)\u001b[0m\u001b[1;33m:\u001b[0m\u001b[1;33m\u001b[0m\u001b[1;33m\u001b[0m\u001b[0m\n\u001b[0;32m     18\u001b[0m                 \u001b[0mX\u001b[0m \u001b[1;33m=\u001b[0m \u001b[0mobservations\u001b[0m\u001b[1;33m[\u001b[0m\u001b[1;33m:\u001b[0m\u001b[1;33m,\u001b[0m\u001b[1;36m0\u001b[0m\u001b[1;33m:\u001b[0m\u001b[0mn\u001b[0m\u001b[1;33m]\u001b[0m\u001b[1;33m\u001b[0m\u001b[1;33m\u001b[0m\u001b[0m\n",
      "\u001b[1;32m~\\Dropbox\\ongoing_projects\\trees_het\\Python code\\spectraltree\\generation.py\u001b[0m in \u001b[0;36msimulate_sequences\u001b[1;34m(seq_len, tree_model, seq_model, mutation_rate, root_states, retain_sequences_on_tree, rng)\u001b[0m\n\u001b[0;32m    228\u001b[0m         \u001b[0mseq_len\u001b[0m\u001b[1;33m=\u001b[0m\u001b[0mseq_len\u001b[0m\u001b[1;33m,\u001b[0m\u001b[1;33m\u001b[0m\u001b[1;33m\u001b[0m\u001b[0m\n\u001b[0;32m    229\u001b[0m         \u001b[0mroot_states\u001b[0m\u001b[1;33m=\u001b[0m\u001b[0mroot_states\u001b[0m\u001b[1;33m,\u001b[0m\u001b[1;33m\u001b[0m\u001b[1;33m\u001b[0m\u001b[0m\n\u001b[1;32m--> 230\u001b[1;33m         rng=rng)\n\u001b[0m\u001b[0;32m    231\u001b[0m     \u001b[0mchar_matrix\u001b[0m \u001b[1;33m=\u001b[0m \u001b[0mnumpy_matrix_with_characters_on_tree\u001b[0m\u001b[1;33m(\u001b[0m\u001b[0mseq_evolver\u001b[0m\u001b[1;33m.\u001b[0m\u001b[0mseq_attr\u001b[0m\u001b[1;33m,\u001b[0m \u001b[0mtree_model\u001b[0m\u001b[1;33m)\u001b[0m\u001b[1;33m\u001b[0m\u001b[1;33m\u001b[0m\u001b[0m\n\u001b[0;32m    232\u001b[0m     \u001b[1;32mif\u001b[0m \u001b[1;32mnot\u001b[0m \u001b[0mretain_sequences_on_tree\u001b[0m\u001b[1;33m:\u001b[0m\u001b[1;33m\u001b[0m\u001b[1;33m\u001b[0m\u001b[0m\n",
      "\u001b[1;32m~\\AppData\\Local\\Continuum\\anaconda3\\lib\\site-packages\\dendropy\\model\\discrete.py\u001b[0m in \u001b[0;36mevolve_states\u001b[1;34m(self, tree, seq_len, root_states, simulate_root_states, in_place, rng)\u001b[0m\n\u001b[0;32m    131\u001b[0m                 \u001b[0mlength\u001b[0m \u001b[1;33m=\u001b[0m \u001b[0mgetattr\u001b[0m\u001b[1;33m(\u001b[0m\u001b[0medge\u001b[0m\u001b[1;33m,\u001b[0m \u001b[0mself\u001b[0m\u001b[1;33m.\u001b[0m\u001b[0medge_length_attr\u001b[0m\u001b[1;33m)\u001b[0m\u001b[1;33m\u001b[0m\u001b[1;33m\u001b[0m\u001b[0m\n\u001b[0;32m    132\u001b[0m                 \u001b[0mmutation_rate\u001b[0m \u001b[1;33m=\u001b[0m \u001b[0mgetattr\u001b[0m\u001b[1;33m(\u001b[0m\u001b[0medge\u001b[0m\u001b[1;33m,\u001b[0m \u001b[0mself\u001b[0m\u001b[1;33m.\u001b[0m\u001b[0medge_rate_attr\u001b[0m\u001b[1;33m,\u001b[0m \u001b[1;32mNone\u001b[0m\u001b[1;33m)\u001b[0m \u001b[1;32mor\u001b[0m \u001b[0mself\u001b[0m\u001b[1;33m.\u001b[0m\u001b[0mmutation_rate\u001b[0m\u001b[1;33m\u001b[0m\u001b[1;33m\u001b[0m\u001b[0m\n\u001b[1;32m--> 133\u001b[1;33m                 \u001b[0mseq_list\u001b[0m\u001b[1;33m.\u001b[0m\u001b[0mappend\u001b[0m\u001b[1;33m(\u001b[0m\u001b[0mseq_model\u001b[0m\u001b[1;33m.\u001b[0m\u001b[0msimulate_descendant_states\u001b[0m\u001b[1;33m(\u001b[0m\u001b[0mpar_seq\u001b[0m\u001b[1;33m,\u001b[0m \u001b[0mlength\u001b[0m\u001b[1;33m,\u001b[0m \u001b[0mmutation_rate\u001b[0m\u001b[1;33m)\u001b[0m\u001b[1;33m)\u001b[0m\u001b[1;33m\u001b[0m\u001b[1;33m\u001b[0m\u001b[0m\n\u001b[0m\u001b[0;32m    134\u001b[0m             \u001b[1;32melse\u001b[0m\u001b[1;33m:\u001b[0m\u001b[1;33m\u001b[0m\u001b[1;33m\u001b[0m\u001b[0m\n\u001b[0;32m    135\u001b[0m                 \u001b[1;31m# no tail node: root\u001b[0m\u001b[1;33m\u001b[0m\u001b[1;33m\u001b[0m\u001b[1;33m\u001b[0m\u001b[0m\n",
      "\u001b[1;32m~\\Dropbox\\ongoing_projects\\trees_het\\Python code\\spectraltree\\generation.py\u001b[0m in \u001b[0;36msimulate_descendant_states\u001b[1;34m(self, ancestral_states, edge_length, mutation_rate)\u001b[0m\n\u001b[0;32m     59\u001b[0m \u001b[1;33m\u001b[0m\u001b[0m\n\u001b[0;32m     60\u001b[0m     \u001b[1;32mdef\u001b[0m \u001b[0msimulate_descendant_states\u001b[0m\u001b[1;33m(\u001b[0m\u001b[0mself\u001b[0m\u001b[1;33m,\u001b[0m \u001b[0mancestral_states\u001b[0m\u001b[1;33m,\u001b[0m \u001b[0medge_length\u001b[0m\u001b[1;33m,\u001b[0m \u001b[0mmutation_rate\u001b[0m\u001b[1;33m=\u001b[0m\u001b[1;36m1.\u001b[0m\u001b[1;33m)\u001b[0m\u001b[1;33m:\u001b[0m\u001b[1;33m\u001b[0m\u001b[1;33m\u001b[0m\u001b[0m\n\u001b[1;32m---> 61\u001b[1;33m         \u001b[0mT\u001b[0m \u001b[1;33m=\u001b[0m \u001b[0mself\u001b[0m\u001b[1;33m.\u001b[0m\u001b[0mpmatrix\u001b[0m\u001b[1;33m(\u001b[0m\u001b[0medge_length\u001b[0m\u001b[1;33m,\u001b[0m \u001b[0mmutation_rate\u001b[0m\u001b[1;33m)\u001b[0m\u001b[1;33m\u001b[0m\u001b[1;33m\u001b[0m\u001b[0m\n\u001b[0m\u001b[0;32m     62\u001b[0m         \u001b[1;32mreturn\u001b[0m \u001b[0mself\u001b[0m\u001b[1;33m.\u001b[0m\u001b[0mtransition\u001b[0m\u001b[1;33m(\u001b[0m\u001b[0mT\u001b[0m\u001b[1;33m,\u001b[0m \u001b[0mancestral_states\u001b[0m\u001b[1;33m)\u001b[0m\u001b[1;33m\u001b[0m\u001b[1;33m\u001b[0m\u001b[0m\n\u001b[0;32m     63\u001b[0m \u001b[1;33m\u001b[0m\u001b[0m\n",
      "\u001b[1;32m~\\Dropbox\\ongoing_projects\\trees_het\\Python code\\spectraltree\\generation.py\u001b[0m in \u001b[0;36mpmatrix\u001b[1;34m(self, t, mutation_rate)\u001b[0m\n\u001b[0;32m    107\u001b[0m \u001b[1;33m\u001b[0m\u001b[0m\n\u001b[0;32m    108\u001b[0m     \u001b[1;32mdef\u001b[0m \u001b[0mpmatrix\u001b[0m\u001b[1;33m(\u001b[0m\u001b[0mself\u001b[0m\u001b[1;33m,\u001b[0m \u001b[0mt\u001b[0m\u001b[1;33m,\u001b[0m \u001b[0mmutation_rate\u001b[0m\u001b[1;33m=\u001b[0m\u001b[1;36m1.\u001b[0m\u001b[1;33m)\u001b[0m\u001b[1;33m:\u001b[0m\u001b[1;33m\u001b[0m\u001b[1;33m\u001b[0m\u001b[0m\n\u001b[1;32m--> 109\u001b[1;33m         \u001b[1;32mreturn\u001b[0m \u001b[0mscipy\u001b[0m\u001b[1;33m.\u001b[0m\u001b[0mlinalg\u001b[0m\u001b[1;33m.\u001b[0m\u001b[0mexpm\u001b[0m\u001b[1;33m(\u001b[0m\u001b[0mself\u001b[0m\u001b[1;33m.\u001b[0m\u001b[0mQ\u001b[0m \u001b[1;33m*\u001b[0m \u001b[0mt\u001b[0m \u001b[1;33m*\u001b[0m \u001b[0mmutation_rate\u001b[0m\u001b[1;33m)\u001b[0m\u001b[1;33m\u001b[0m\u001b[1;33m\u001b[0m\u001b[0m\n\u001b[0m\u001b[0;32m    110\u001b[0m \u001b[1;33m\u001b[0m\u001b[0m\n\u001b[0;32m    111\u001b[0m     \u001b[1;32mdef\u001b[0m \u001b[0mparalinear_distance\u001b[0m\u001b[1;33m(\u001b[0m\u001b[0mself\u001b[0m\u001b[1;33m,\u001b[0m \u001b[0mt\u001b[0m\u001b[1;33m,\u001b[0m \u001b[0mmutation_rate\u001b[0m\u001b[1;33m=\u001b[0m\u001b[1;36m1.\u001b[0m\u001b[1;33m)\u001b[0m\u001b[1;33m:\u001b[0m\u001b[1;33m\u001b[0m\u001b[1;33m\u001b[0m\u001b[0m\n",
      "\u001b[1;32m~\\AppData\\Local\\Continuum\\anaconda3\\lib\\site-packages\\scipy\\linalg\\matfuncs.py\u001b[0m in \u001b[0;36mexpm\u001b[1;34m(A)\u001b[0m\n\u001b[0;32m    254\u001b[0m     \u001b[1;31m# Input checking and conversion is provided by sparse.linalg.expm().\u001b[0m\u001b[1;33m\u001b[0m\u001b[1;33m\u001b[0m\u001b[1;33m\u001b[0m\u001b[0m\n\u001b[0;32m    255\u001b[0m     \u001b[1;32mimport\u001b[0m \u001b[0mscipy\u001b[0m\u001b[1;33m.\u001b[0m\u001b[0msparse\u001b[0m\u001b[1;33m.\u001b[0m\u001b[0mlinalg\u001b[0m\u001b[1;33m\u001b[0m\u001b[1;33m\u001b[0m\u001b[0m\n\u001b[1;32m--> 256\u001b[1;33m     \u001b[1;32mreturn\u001b[0m \u001b[0mscipy\u001b[0m\u001b[1;33m.\u001b[0m\u001b[0msparse\u001b[0m\u001b[1;33m.\u001b[0m\u001b[0mlinalg\u001b[0m\u001b[1;33m.\u001b[0m\u001b[0mexpm\u001b[0m\u001b[1;33m(\u001b[0m\u001b[0mA\u001b[0m\u001b[1;33m)\u001b[0m\u001b[1;33m\u001b[0m\u001b[1;33m\u001b[0m\u001b[0m\n\u001b[0m\u001b[0;32m    257\u001b[0m \u001b[1;33m\u001b[0m\u001b[0m\n\u001b[0;32m    258\u001b[0m \u001b[1;33m\u001b[0m\u001b[0m\n",
      "\u001b[1;32m~\\AppData\\Local\\Continuum\\anaconda3\\lib\\site-packages\\scipy\\sparse\\linalg\\matfuncs.py\u001b[0m in \u001b[0;36mexpm\u001b[1;34m(A)\u001b[0m\n\u001b[0;32m    604\u001b[0m             [  0.        ,   0.        ,  20.08553692]])\n\u001b[0;32m    605\u001b[0m     \"\"\"\n\u001b[1;32m--> 606\u001b[1;33m     \u001b[1;32mreturn\u001b[0m \u001b[0m_expm\u001b[0m\u001b[1;33m(\u001b[0m\u001b[0mA\u001b[0m\u001b[1;33m,\u001b[0m \u001b[0muse_exact_onenorm\u001b[0m\u001b[1;33m=\u001b[0m\u001b[1;34m'auto'\u001b[0m\u001b[1;33m)\u001b[0m\u001b[1;33m\u001b[0m\u001b[1;33m\u001b[0m\u001b[0m\n\u001b[0m\u001b[0;32m    607\u001b[0m \u001b[1;33m\u001b[0m\u001b[0m\n\u001b[0;32m    608\u001b[0m \u001b[1;33m\u001b[0m\u001b[0m\n",
      "\u001b[1;32m~\\AppData\\Local\\Continuum\\anaconda3\\lib\\site-packages\\scipy\\sparse\\linalg\\matfuncs.py\u001b[0m in \u001b[0;36m_expm\u001b[1;34m(A, use_exact_onenorm)\u001b[0m\n\u001b[0;32m    654\u001b[0m     \u001b[1;32mif\u001b[0m \u001b[0meta_2\u001b[0m \u001b[1;33m<\u001b[0m \u001b[1;36m2.539398330063230e-001\u001b[0m \u001b[1;32mand\u001b[0m \u001b[0m_ell\u001b[0m\u001b[1;33m(\u001b[0m\u001b[0mh\u001b[0m\u001b[1;33m.\u001b[0m\u001b[0mA\u001b[0m\u001b[1;33m,\u001b[0m \u001b[1;36m5\u001b[0m\u001b[1;33m)\u001b[0m \u001b[1;33m==\u001b[0m \u001b[1;36m0\u001b[0m\u001b[1;33m:\u001b[0m\u001b[1;33m\u001b[0m\u001b[1;33m\u001b[0m\u001b[0m\n\u001b[0;32m    655\u001b[0m         \u001b[0mU\u001b[0m\u001b[1;33m,\u001b[0m \u001b[0mV\u001b[0m \u001b[1;33m=\u001b[0m \u001b[0mh\u001b[0m\u001b[1;33m.\u001b[0m\u001b[0mpade5\u001b[0m\u001b[1;33m(\u001b[0m\u001b[1;33m)\u001b[0m\u001b[1;33m\u001b[0m\u001b[1;33m\u001b[0m\u001b[0m\n\u001b[1;32m--> 656\u001b[1;33m         \u001b[1;32mreturn\u001b[0m \u001b[0m_solve_P_Q\u001b[0m\u001b[1;33m(\u001b[0m\u001b[0mU\u001b[0m\u001b[1;33m,\u001b[0m \u001b[0mV\u001b[0m\u001b[1;33m,\u001b[0m \u001b[0mstructure\u001b[0m\u001b[1;33m=\u001b[0m\u001b[0mstructure\u001b[0m\u001b[1;33m)\u001b[0m\u001b[1;33m\u001b[0m\u001b[1;33m\u001b[0m\u001b[0m\n\u001b[0m\u001b[0;32m    657\u001b[0m \u001b[1;33m\u001b[0m\u001b[0m\n\u001b[0;32m    658\u001b[0m     \u001b[1;31m# Try Pade orders 7 and 9.\u001b[0m\u001b[1;33m\u001b[0m\u001b[1;33m\u001b[0m\u001b[1;33m\u001b[0m\u001b[0m\n",
      "\u001b[1;32m~\\AppData\\Local\\Continuum\\anaconda3\\lib\\site-packages\\scipy\\sparse\\linalg\\matfuncs.py\u001b[0m in \u001b[0;36m_solve_P_Q\u001b[1;34m(U, V, structure)\u001b[0m\n\u001b[0;32m    714\u001b[0m         \u001b[1;32mreturn\u001b[0m \u001b[0mspsolve\u001b[0m\u001b[1;33m(\u001b[0m\u001b[0mQ\u001b[0m\u001b[1;33m,\u001b[0m \u001b[0mP\u001b[0m\u001b[1;33m)\u001b[0m\u001b[1;33m\u001b[0m\u001b[1;33m\u001b[0m\u001b[0m\n\u001b[0;32m    715\u001b[0m     \u001b[1;32melif\u001b[0m \u001b[0mstructure\u001b[0m \u001b[1;32mis\u001b[0m \u001b[1;32mNone\u001b[0m\u001b[1;33m:\u001b[0m\u001b[1;33m\u001b[0m\u001b[1;33m\u001b[0m\u001b[0m\n\u001b[1;32m--> 716\u001b[1;33m         \u001b[1;32mreturn\u001b[0m \u001b[0msolve\u001b[0m\u001b[1;33m(\u001b[0m\u001b[0mQ\u001b[0m\u001b[1;33m,\u001b[0m \u001b[0mP\u001b[0m\u001b[1;33m)\u001b[0m\u001b[1;33m\u001b[0m\u001b[1;33m\u001b[0m\u001b[0m\n\u001b[0m\u001b[0;32m    717\u001b[0m     \u001b[1;32melif\u001b[0m \u001b[0mstructure\u001b[0m \u001b[1;33m==\u001b[0m \u001b[0mUPPER_TRIANGULAR\u001b[0m\u001b[1;33m:\u001b[0m\u001b[1;33m\u001b[0m\u001b[1;33m\u001b[0m\u001b[0m\n\u001b[0;32m    718\u001b[0m         \u001b[1;32mreturn\u001b[0m \u001b[0msolve_triangular\u001b[0m\u001b[1;33m(\u001b[0m\u001b[0mQ\u001b[0m\u001b[1;33m,\u001b[0m \u001b[0mP\u001b[0m\u001b[1;33m)\u001b[0m\u001b[1;33m\u001b[0m\u001b[1;33m\u001b[0m\u001b[0m\n",
      "\u001b[1;32m~\\AppData\\Local\\Continuum\\anaconda3\\lib\\site-packages\\scipy\\linalg\\basic.py\u001b[0m in \u001b[0;36msolve\u001b[1;34m(a, b, sym_pos, lower, overwrite_a, overwrite_b, debug, check_finite, assume_a, transposed)\u001b[0m\n\u001b[0;32m    218\u001b[0m                         trans=trans, overwrite_b=overwrite_b)\n\u001b[0;32m    219\u001b[0m         \u001b[0m_solve_check\u001b[0m\u001b[1;33m(\u001b[0m\u001b[0mn\u001b[0m\u001b[1;33m,\u001b[0m \u001b[0minfo\u001b[0m\u001b[1;33m)\u001b[0m\u001b[1;33m\u001b[0m\u001b[1;33m\u001b[0m\u001b[0m\n\u001b[1;32m--> 220\u001b[1;33m         \u001b[0mrcond\u001b[0m\u001b[1;33m,\u001b[0m \u001b[0minfo\u001b[0m \u001b[1;33m=\u001b[0m \u001b[0mgecon\u001b[0m\u001b[1;33m(\u001b[0m\u001b[0mlu\u001b[0m\u001b[1;33m,\u001b[0m \u001b[0manorm\u001b[0m\u001b[1;33m,\u001b[0m \u001b[0mnorm\u001b[0m\u001b[1;33m=\u001b[0m\u001b[0mnorm\u001b[0m\u001b[1;33m)\u001b[0m\u001b[1;33m\u001b[0m\u001b[1;33m\u001b[0m\u001b[0m\n\u001b[0m\u001b[0;32m    221\u001b[0m     \u001b[1;31m# Hermitian case 'hesv'\u001b[0m\u001b[1;33m\u001b[0m\u001b[1;33m\u001b[0m\u001b[1;33m\u001b[0m\u001b[0m\n\u001b[0;32m    222\u001b[0m     \u001b[1;32melif\u001b[0m \u001b[0massume_a\u001b[0m \u001b[1;33m==\u001b[0m \u001b[1;34m'her'\u001b[0m\u001b[1;33m:\u001b[0m\u001b[1;33m\u001b[0m\u001b[1;33m\u001b[0m\u001b[0m\n",
      "\u001b[1;31mKeyboardInterrupt\u001b[0m: "
     ]
    }
   ],
   "source": [
    "# Testing parameters\n",
    "N_vec = np.arange(50,250,50)\n",
    "m_vec = np.power(2,[6,7,8,9,10])\n",
    "#m_vec = np.power(2,[6])\n",
    "num_itr = 10\n",
    "jc = Jukes_Cantor()\n",
    "mutation_rate = [jc.p2t(0.98)]\n",
    "\n",
    "# Construct data of type 'tree' from class dendropy\n",
    "tree_list = [balanced_binary(num_taxa=m) for m in m_vec] \n",
    "\n",
    "Res = np.zeros((len(m_vec),len(N_vec)))\n",
    "print(Res.shape)\n",
    "for tree_idx,tree in enumerate(tree_list):\n",
    "        for _ in range(num_itr):            \n",
    "            observations = simulate_sequences(seq_len=max(N_vec), tree_model=tree, seq_model=jc, mutation_rate=mutation_rate)\n",
    "            for n_idx,n in enumerate(N_vec):\n",
    "                X = observations[:,0:n]\n",
    "                m = X.shape[0]                \n",
    "                S = JC_similarity_matrix(X)\n",
    "                [D,V] = np.linalg.eigh(S)\n",
    "                I = np.argsort(V[:,-2])                \n",
    "                split_a,split_b=I[:round(len(I)/2)],I[round(len(I)/2):]\n",
    "                if np.array_equal(np.sort(split_a),np.arange(0,m/2,1)) or np.array_equal(np.sort(split_b),np.arange(0,m/2,1)):\n",
    "                    Res[tree_idx,n_idx] +=1\n"
   ]
  },
  {
   "cell_type": "code",
   "execution_count": 28,
   "metadata": {},
   "outputs": [
    {
     "name": "stdout",
     "output_type": "stream",
     "text": [
      "[[ 7.  8. 10. 10.]\n",
      " [ 7. 10.  9. 10.]\n",
      " [ 6.  6.  9. 10.]\n",
      " [ 1.  6.  9. 10.]\n",
      " [ 2.  8.  9.  9.]]\n"
     ]
    },
    {
     "data": {
      "text/plain": [
       "<matplotlib.image.AxesImage at 0x21b7c652630>"
      ]
     },
     "execution_count": 28,
     "metadata": {},
     "output_type": "execute_result"
    },
    {
     "data": {
      "image/png": "[encoded data removed]",
      "text/plain": [
       "<Figure size 432x288 with 1 Axes>"
      ]
     },
     "metadata": {
      "needs_background": "light"
     },
     "output_type": "display_data"
    }
   ],
   "source": [
    "print(Res)\n",
    "plt.imshow((1/num_itr)*Res)"
   ]
  },
  {
   "cell_type": "markdown",
   "metadata": {},
   "source": [
    "In the following block we test the caterpillar tree "
   ]
  },
  {
   "cell_type": "code",
   "execution_count": 54,
   "metadata": {},
   "outputs": [],
   "source": [
    "# Testing parameters\n",
    "N_vec = np.arange(500,5500,500)\n",
    "m_vec = np.power(2,[6,7,8,9,10])\n",
    "#m_vec = np.power(2,[6])\n",
    "num_itr = 10\n",
    "jc = Jukes_Cantor()\n",
    "mutation_rate = [jc.p2t(0.95)]\n",
    "\n",
    "# Construct data of type 'tree' from class dendropy\n",
    "tree_list = [lopsided_tree(num_taxa=m) for m in m_vec] \n",
    "\n",
    "Res_cat = np.zeros((len(m_vec),len(N_vec)))\n",
    "for tree_idx,tree in enumerate(tree_list):\n",
    "        for _ in range(num_itr):            \n",
    "            observations,evolver = simulate_sequences(seq_len=max(N_vec), tree_model=tree, seq_model=jc, mutation_rate=mutation_rate)\n",
    "            for n_idx,n in enumerate(N_vec):\n",
    "                X = observations[:,0:n]\n",
    "                m = X.shape[0]                \n",
    "                S = JC_similarity_matrix(X)\n",
    "                [D,V] = np.linalg.eigh(S)\n",
    "                I = np.argsort(V[:,-2])                \n",
    "                split_a,split_b=I[:round(len(I)/2)],I[round(len(I)/2):]\n",
    "                if np.array_equal(np.sort(split_a),np.arange(0,m/2,1)) or np.array_equal(np.sort(split_b),np.arange(0,m/2,1)):\n",
    "                    Res_cat[tree_idx,n_idx] +=1\n"
   ]
  },
  {
   "cell_type": "code",
   "execution_count": 14,
   "metadata": {},
   "outputs": [
    {
     "ename": "NameError",
     "evalue": "name 'Res_cat' is not defined",
     "output_type": "error",
     "traceback": [
      "\u001b[1;31m---------------------------------------------------------------------------\u001b[0m",
      "\u001b[1;31mNameError\u001b[0m                                 Traceback (most recent call last)",
      "\u001b[1;32m<ipython-input-14-2f832a84939f>\u001b[0m in \u001b[0;36m<module>\u001b[1;34m\u001b[0m\n\u001b[1;32m----> 1\u001b[1;33m \u001b[0mprint\u001b[0m\u001b[1;33m(\u001b[0m\u001b[0mRes_cat\u001b[0m\u001b[1;33m)\u001b[0m\u001b[1;33m\u001b[0m\u001b[1;33m\u001b[0m\u001b[0m\n\u001b[0m",
      "\u001b[1;31mNameError\u001b[0m: name 'Res_cat' is not defined"
     ]
    }
   ],
   "source": [
    "print(Res_cat)"
   ]
  },
  {
   "cell_type": "code",
   "execution_count": 7,
   "metadata": {},
   "outputs": [
    {
     "ename": "ValueError",
     "evalue": "invalid literal for int() with base 10: 'T9'",
     "output_type": "error",
     "traceback": [
      "\u001b[1;31m---------------------------------------------------------------------------\u001b[0m",
      "\u001b[1;31mValueError\u001b[0m                                Traceback (most recent call last)",
      "\u001b[1;32m<ipython-input-7-e8281035158c>\u001b[0m in \u001b[0;36m<module>\u001b[1;34m\u001b[0m\n\u001b[0;32m     22\u001b[0m             \u001b[1;33m[\u001b[0m\u001b[0mD\u001b[0m\u001b[1;33m,\u001b[0m\u001b[0mV\u001b[0m\u001b[1;33m]\u001b[0m \u001b[1;33m=\u001b[0m \u001b[0mnp\u001b[0m\u001b[1;33m.\u001b[0m\u001b[0mlinalg\u001b[0m\u001b[1;33m.\u001b[0m\u001b[0meigh\u001b[0m\u001b[1;33m(\u001b[0m\u001b[0mS\u001b[0m\u001b[1;33m)\u001b[0m\u001b[1;33m\u001b[0m\u001b[1;33m\u001b[0m\u001b[0m\n\u001b[0;32m     23\u001b[0m             \u001b[0mbool_bipartition\u001b[0m \u001b[1;33m=\u001b[0m \u001b[0mpartition_taxa\u001b[0m\u001b[1;33m(\u001b[0m\u001b[0mV\u001b[0m\u001b[1;33m[\u001b[0m\u001b[1;33m:\u001b[0m\u001b[1;33m,\u001b[0m\u001b[1;33m-\u001b[0m\u001b[1;36m2\u001b[0m\u001b[1;33m]\u001b[0m\u001b[1;33m)\u001b[0m\u001b[1;33m\u001b[0m\u001b[1;33m\u001b[0m\u001b[0m\n\u001b[1;32m---> 24\u001b[1;33m             \u001b[1;32mif\u001b[0m \u001b[1;33m(\u001b[0m\u001b[0mcheck_partition_in_tree\u001b[0m\u001b[1;33m(\u001b[0m\u001b[0mtree\u001b[0m\u001b[1;33m,\u001b[0m\u001b[0mbool_bipartition\u001b[0m\u001b[1;33m)\u001b[0m\u001b[1;33m)\u001b[0m\u001b[1;33m:\u001b[0m\u001b[1;33m\u001b[0m\u001b[1;33m\u001b[0m\u001b[0m\n\u001b[0m\u001b[0;32m     25\u001b[0m                 \u001b[0mRes\u001b[0m\u001b[1;33m[\u001b[0m\u001b[0mm_idx\u001b[0m\u001b[1;33m,\u001b[0m\u001b[0mn_idx\u001b[0m\u001b[1;33m]\u001b[0m\u001b[1;33m+=\u001b[0m\u001b[1;36m1\u001b[0m\u001b[1;33m\u001b[0m\u001b[1;33m\u001b[0m\u001b[0m\n\u001b[0;32m     26\u001b[0m \u001b[1;33m\u001b[0m\u001b[0m\n",
      "\u001b[1;32m<ipython-input-6-488c35ce8a58>\u001b[0m in \u001b[0;36mcheck_partition_in_tree\u001b[1;34m(tree, partition)\u001b[0m\n\u001b[0;32m      7\u001b[0m     \u001b[0mns\u001b[0m \u001b[1;33m=\u001b[0m \u001b[1;33m[\u001b[0m\u001b[1;33m]\u001b[0m\u001b[1;33m\u001b[0m\u001b[1;33m\u001b[0m\u001b[0m\n\u001b[0;32m      8\u001b[0m     \u001b[1;32mfor\u001b[0m \u001b[0mleaf_ix\u001b[0m\u001b[1;33m,\u001b[0m \u001b[0mleaf\u001b[0m \u001b[1;32min\u001b[0m \u001b[0menumerate\u001b[0m\u001b[1;33m(\u001b[0m\u001b[0mtree\u001b[0m\u001b[1;33m.\u001b[0m\u001b[0mleaf_node_iter\u001b[0m\u001b[1;33m(\u001b[0m\u001b[1;33m)\u001b[0m\u001b[1;33m)\u001b[0m\u001b[1;33m:\u001b[0m\u001b[1;33m\u001b[0m\u001b[1;33m\u001b[0m\u001b[0m\n\u001b[1;32m----> 9\u001b[1;33m         \u001b[0mns\u001b[0m\u001b[1;33m.\u001b[0m\u001b[0mappend\u001b[0m\u001b[1;33m(\u001b[0m\u001b[0mint\u001b[0m\u001b[1;33m(\u001b[0m\u001b[0mleaf\u001b[0m\u001b[1;33m.\u001b[0m\u001b[0mtaxon\u001b[0m\u001b[1;33m.\u001b[0m\u001b[0mlabel\u001b[0m\u001b[1;33m[\u001b[0m\u001b[1;36m0\u001b[0m\u001b[1;33m:\u001b[0m\u001b[1;33m]\u001b[0m\u001b[1;33m)\u001b[0m\u001b[1;33m)\u001b[0m\u001b[1;33m\u001b[0m\u001b[1;33m\u001b[0m\u001b[0m\n\u001b[0m\u001b[0;32m     10\u001b[0m     \u001b[0mns_idx\u001b[0m \u001b[1;33m=\u001b[0m \u001b[0mnp\u001b[0m\u001b[1;33m.\u001b[0m\u001b[0margsort\u001b[0m\u001b[1;33m(\u001b[0m\u001b[0mnp\u001b[0m\u001b[1;33m.\u001b[0m\u001b[0marray\u001b[0m\u001b[1;33m(\u001b[0m\u001b[0mns\u001b[0m\u001b[1;33m)\u001b[0m\u001b[1;33m)\u001b[0m\u001b[1;33m\u001b[0m\u001b[1;33m\u001b[0m\u001b[0m\n\u001b[0;32m     11\u001b[0m     \u001b[0mpartition\u001b[0m \u001b[1;33m=\u001b[0m \u001b[0mpartition\u001b[0m\u001b[1;33m[\u001b[0m\u001b[0mns_idx\u001b[0m\u001b[1;33m]\u001b[0m\u001b[1;33m\u001b[0m\u001b[1;33m\u001b[0m\u001b[0m\n",
      "\u001b[1;31mValueError\u001b[0m: invalid literal for int() with base 10: 'T9'"
     ]
    }
   ],
   "source": [
    "# Testing parameters\n",
    "#n_vec = np.arange(200,2200,200)\n",
    "#m_vec = np.arange(50,650,50)\n",
    "m_vec = np.power(2,[6])\n",
    "#m_vec = np.arange(10,110,10)\n",
    "n_vec = np.arange(100,1100,100)\n",
    "jc = Jukes_Cantor()\n",
    "mutation_rate = [jc.p2t(0.95)]\n",
    "num_itr = 10\n",
    "\n",
    "# Construct a matrix of trees\n",
    "tree_mat = [[unrooted_birth_death_tree(birth_rate=.4, death_rate=0, num_total_tips=m) for c in np.arange(num_itr)] for m in m_vec]\n",
    "#tree_mat = [[lopsided_tree(num_taxa=m) for c in np.arange(num_itr)] for m in m_vec]\n",
    "Res = np.zeros((len(m_vec),len(n_vec)))\n",
    "\n",
    "for m_idx,m in enumerate(m_vec):\n",
    "    for tree_idx,tree in enumerate(tree_mat[m_idx]):\n",
    "        observations = simulate_sequences(seq_len=max(n_vec), tree_model=tree, seq_model=jc, mutation_rate=mutation_rate)\n",
    "        for n_idx,n in enumerate(n_vec):                    \n",
    "            X = observations[:,0:n]              \n",
    "            S = JC_similarity_matrix(X)\n",
    "            [D,V] = np.linalg.eigh(S)            \n",
    "            bool_bipartition = partition_taxa(V[:,-2])\n",
    "            if (check_partition_in_tree(tree,bool_bipartition)):\n",
    "                Res[m_idx,n_idx]+=1\n",
    "\n",
    "                \n"
   ]
  },
  {
   "cell_type": "code",
   "execution_count": 25,
   "metadata": {},
   "outputs": [
    {
     "name": "stdout",
     "output_type": "stream",
     "text": [
      "[[ 7.  6.  6.  6.  9.  8.  9.  9.  9. 10.]]\n"
     ]
    }
   ],
   "source": [
    "print(Res)"
   ]
  },
  {
   "cell_type": "code",
   "execution_count": null,
   "metadata": {},
   "outputs": [],
   "source": [
    "print(Res_cat)"
   ]
  },
  {
   "cell_type": "code",
   "execution_count": 12,
   "metadata": {},
   "outputs": [
    {
     "name": "stdout",
     "output_type": "stream",
     "text": [
      "True\n",
      "hurray!\n"
     ]
    },
    {
     "data": {
      "image/png": "[encoded data removed]",
      "text/plain": [
       "<Figure size 432x288 with 1 Axes>"
      ]
     },
     "metadata": {
      "needs_background": "light"
     },
     "output_type": "display_data"
    }
   ],
   "source": [
    "m_vec = np.arange(100,600,100)\n",
    "n_vec = np.arange(100,1000,100)\n",
    "num_itr = 10\n",
    "jc = Jukes_Cantor()\n",
    "mutation_rate = jc.p2t(0.85)\n",
    "tree = unrooted_birth_death_tree(birth_rate=1., death_rate=0, num_total_tips=m)\n",
    "#tree = lopsided_tree(num_taxa=m)\n",
    "#tree.taxon_namespace = default_namespace(m)\n",
    "#print(tree.taxon_namespace)\n",
    "#tree.print_plot(width=60)\n",
    "\n",
    "\n",
    "observations,evolver = simulate_sequences(seq_len=n, tree_model=tree, seq_model=jc, mutation_rate=mutation_rate)\n",
    "\n",
    "S = JC_similarity_matrix(observations)\n",
    "[D,V] = np.linalg.eigh(S)\n",
    "fiedler_v2 = V[:,-2]\n",
    "v_sort = np.sort(V[:,-2])\n",
    "#plt.plot(V[:,-2],'s')\n",
    "#plt.plot(V[:,-3],'s')\n",
    "plt.scatter(V[:,-2],V[:,-3])\n",
    "gaps = v_sort[1:m]-v_sort[0:m-1]\n",
    "max_idx = np.argmax(gaps)\n",
    "threshold = (v_sort[max_idx]+v_sort[max_idx+1])/2\n",
    "bool_bipartition = fiedler_v2<threshold\n",
    "print(check_partition_in_tree(tree,bool_bipartition))\n",
    "\n"
   ]
  },
  {
   "cell_type": "code",
   "execution_count": 3,
   "metadata": {},
   "outputs": [
    {
     "name": "stdout",
     "output_type": "stream",
     "text": [
      "[False, True, False]\n"
     ]
    }
   ],
   "source": [
    "a = [True,False,True]\n",
    "b = [not i for i in a]\n",
    "print(b)"
   ]
  },
  {
   "cell_type": "code",
   "execution_count": 41,
   "metadata": {},
   "outputs": [
    {
     "name": "stdout",
     "output_type": "stream",
     "text": [
      "[6, 4, 7, 2, 1, 8, 3, 5]\n",
      "[4 3 6 1 7 0 2 5]\n"
     ]
    }
   ],
   "source": [
    "ns = []\n",
    "for leaf_ix, leaf in enumerate(tree.leaf_node_iter()):    \n",
    "    ns.append(int(leaf.taxon.label[1:]))\n",
    "print(ns)\n",
    "\n",
    "#tree.print_plot(width=60)\n",
    "ns_idx = np.argsort(np.array(ns))\n",
    "print(ns_idx)\n",
    "\n",
    "\n"
   ]
  },
  {
   "cell_type": "code",
   "execution_count": 13,
   "metadata": {},
   "outputs": [
    {
     "name": "stdout",
     "output_type": "stream",
     "text": [
      "<class 'numpy.ndarray'>\n"
     ]
    }
   ],
   "source": [
    "print(type(observations))"
   ]
  },
  {
   "cell_type": "code",
   "execution_count": 12,
   "metadata": {},
   "outputs": [
    {
     "name": "stdout",
     "output_type": "stream",
     "text": [
      "[[1 0 2 ... 1 3 0]\n",
      " [1 3 1 ... 0 2 1]\n",
      " [1 3 1 ... 0 2 1]\n",
      " ...\n",
      " [1 0 2 ... 1 2 1]\n",
      " [1 0 2 ... 1 2 1]\n",
      " [1 0 2 ... 1 2 1]]\n"
     ]
    }
   ],
   "source": [
    "print(observations)"
   ]
  },
  {
   "cell_type": "code",
   "execution_count": 11,
   "metadata": {},
   "outputs": [
    {
     "name": "stdout",
     "output_type": "stream",
     "text": [
      "/------------------------------------------------------- T7 \n",
      "|                                                           \n",
      "|                               /----------------------- T15\n",
      "|                       /-------+                           \n",
      "|                       |       |       /--------------- T16\n",
      "|                       |       \\-------+                   \n",
      "|                       |               |       /------- T8 \n",
      "|                       |               \\-------+           \n",
      "|               /-------+                       \\------- T3 \n",
      "+               |       |                                   \n",
      "|               |       |                       /------- T13\n",
      "|               |       |               /-------+           \n",
      "|               |       |               |       \\------- T4 \n",
      "|       /-------+       \\---------------+                   \n",
      "|       |       |                       |       /------- T10\n",
      "|       |       |                       \\-------+           \n",
      "|       |       |                               \\------- T12\n",
      "|       |       |                                           \n",
      "\\-------+       |                               /------- T1 \n",
      "        |       \\-------------------------------+           \n",
      "        |                                       \\------- T11\n",
      "        |                                                   \n",
      "        |               /------------------------------- T2 \n",
      "        \\---------------+                                   \n",
      "                        |       /----------------------- T9 \n",
      "                        \\-------+                           \n",
      "                                |       /--------------- T5 \n",
      "                                \\-------+                   \n",
      "                                        |       /------- T14\n",
      "                                        \\-------+           \n",
      "                                                \\------- T6 \n",
      "                                                            \n",
      "                                                            \n"
     ]
    }
   ],
   "source": [
    "tree.print_plot(width=60)"
   ]
  },
  {
   "cell_type": "code",
   "execution_count": 31,
   "metadata": {},
   "outputs": [
    {
     "data": {
      "text/plain": [
       "[<matplotlib.lines.Line2D at 0x19baaa9f828>]"
      ]
     },
     "execution_count": 31,
     "metadata": {},
     "output_type": "execute_result"
    },
    {
     "data": {
      "image/png": "[encoded data removed]",
      "text/plain": [
       "<Figure size 432x288 with 1 Axes>"
      ]
     },
     "metadata": {
      "needs_background": "light"
     },
     "output_type": "display_data"
    }
   ],
   "source": [
    "plt.plot(V[:,-],'s')"
   ]
  }
 ],
 "metadata": {
  "kernelspec": {
   "display_name": "Python 3",
   "language": "python",
   "name": "python3"
  },
  "language_info": {
   "codemirror_mode": {
    "name": "ipython",
    "version": 3
   },
   "file_extension": ".py",
   "mimetype": "text/x-python",
   "name": "python",
   "nbconvert_exporter": "python",
   "pygments_lexer": "ipython3",
   "version": "3.7.3-final"
  }
 },
 "nbformat": 4,
 "nbformat_minor": 2
}