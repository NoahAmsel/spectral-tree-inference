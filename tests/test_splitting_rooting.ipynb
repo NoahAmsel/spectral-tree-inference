{
 "cells": [
  {
   "cell_type": "markdown",
   "metadata": {},
   "source": [
    "## Test the splitting approach performance"
   ]
  },
  {
   "cell_type": "code",
   "execution_count": 1,
   "metadata": {},
   "outputs": [],
   "source": [
    "import sys, os\n",
    "\n",
    "sys.path.append(\"../spectraltree\")\n",
    "\n",
    "import copy\n",
    "import numpy as np\n",
    "import utils\n",
    "import generation\n",
    "import reconstruct_tree\n",
    "import dendropy\n",
    "import scipy\n",
    "import time\n",
    "from itertools import product\n",
    "import matplotlib.pyplot as plt\n",
    "import pandas as pd\n",
    "import pickle\n",
    "\n",
    "from dendropy.model.discrete import simulate_discrete_chars, Jc69, Hky85\n",
    "from dendropy.calculate.treecompare import symmetric_difference\n",
    "from sklearn.decomposition import TruncatedSVD\n",
    "\n",
    "def HKY_similarity_matrix(observations, classes=None, verbose = False):\n",
    "    m, N = observations.shape\n",
    "    if classes is None:\n",
    "        classes = np.unique(observations)\n",
    "    k = len(classes)\n",
    "    # From Tamura, K., and M. Nei. 1993\n",
    "    # for each pair of sequences, \n",
    "    # 1. estimate the average base frequency for pairs of sequences\n",
    "    # 2. compute purine transition proportion P1 (A <-> G)\n",
    "    # 3. compute pyrimidine transition proportion P2 (T <-> C)\n",
    "    # 3. compute transversion proportion Q (A <-> C, A <-> T, G <-> C, G <-> T)\n",
    "\n",
    "    if verbose: print(\"Computing the average base frequency for each pair of sequences...\")\n",
    "    g = {}\n",
    "    for x in classes:\n",
    "        obs_x = observations == x\n",
    "        g[x] = np.array([np.mean(np.hstack([a, b])) for a, b in product(obs_x, repeat = 2)]).reshape((m, m))\n",
    "    \n",
    "    g[\"R\"] = g[\"A\"] + g[\"G\"]\n",
    "    g[\"Y\"] = g[\"T\"] + g[\"C\"]\n",
    "    \n",
    "    # compute transition and transversion proportion\n",
    "    if verbose: print(\"Computing transition and transversion proportion for each pair of sequences...\")\n",
    "    P = {}\n",
    "    for i, x in enumerate(classes):\n",
    "        other_classes = np.delete(classes, i)\n",
    "        for y in other_classes:\n",
    "            P_x_y = np.array([np.mean(np.logical_and(a == x, b == y)) for a, b in product(observations, repeat = 2)]).reshape((m, m))\n",
    "            P[x + y] = P_x_y\n",
    "            \n",
    "    P_1 = P['AG'] + P[\"GA\"]\n",
    "    P_2 = P['CT'] + P['TC']\n",
    "    Q = P['AC'] + P['CA'] + P['AT'] + P['TA'] +\\\n",
    "        P['GC'] + P['CG'] + P['GT'] + P['TG']\n",
    "\n",
    "    # compute the similarity (formula 7)\n",
    "    if verbose: print(\"Computing similarity matrix\")\n",
    "    R = (1 - g[\"R\"]/(2 * g[\"A\"] * g[\"G\"]) * P_1 - 1 / (2 * g[\"R\"]) * Q)\n",
    "    Y = (1 - g[\"Y\"]/(2 * g[\"T\"] * g[\"C\"]) * P_2 - 1 / (2 * g[\"Y\"]) * Q)\n",
    "    T = (1 - 1/(2 * g[\"R\"] * g[\"Y\"]) * Q)\n",
    "    S = np.sign(R) * (np.abs(R))**(2 * g[\"A\"] * g[\"G\"] / g[\"R\"])\n",
    "    S += np.sign(Y) * (np.abs(Y))**(2 * g[\"T\"] * g[\"C\"] / g[\"Y\"])\n",
    "    S += np.sign(T) * (np.abs(T))**(2 * (g[\"R\"] * g[\"Y\"] - g[\"A\"] * g[\"G\"] * g[\"Y\"] / g[\"R\"] - g[\"T\"] * g[\"C\"] * g[\"R\"] / g[\"Y\"]))\n",
    "\n",
    "    return S\n",
    "\n",
    "def check_is_bipartition(tree, bool_partition):\n",
    "    bipartitions = [str(x)[::-1] for x in tree.encode_bipartitions()]\n",
    "    partition_1 = \"\".join(list(bool_partition.astype('int').astype('str')))\n",
    "    partition_2 = \"\".join(list((1 - bool_partition).astype('int').astype('str')))\n",
    "    is_bipartition = (partition_1 in bipartitions) or (partition_2 in bipartitions)\n",
    "    return is_bipartition"
   ]
  },
  {
   "cell_type": "code",
   "execution_count": 2,
   "metadata": {},
   "outputs": [],
   "source": [
    "tree_path = \"../../spec_tree/data/skygrid_J2.newick\"\n",
    "fasta_path = \"../../spec_tree/data/H3N2_NewYork.fasta\"\n",
    "\n",
    "H3N2_tree = dendropy.Tree.get(path=tree_path, schema=\"newick\")"
   ]
  },
  {
   "cell_type": "code",
   "execution_count": null,
   "metadata": {},
   "outputs": [],
   "source": [
    "B = 50\n",
    "N = [20, 50, 100, 1000]\n",
    "mean_is_bipartition = []\n",
    "\n",
    "for n in N:\n",
    "    print(n)\n",
    "    bipartitions = []\n",
    "    start_time = time.time()\n",
    "    for b in range(B):\n",
    "        print(b)\n",
    "        data_HKY = simulate_discrete_chars(n, H3N2_tree, Hky85(kappa = 2), mutation_rate=0.1)\n",
    "        ch_list = list()\n",
    "        for t in data_HKY.taxon_namespace: \n",
    "            ch_list.append([x.symbol for x in data_HKY[t]])\n",
    "        ch_arr = np.array(ch_list)\n",
    "        \n",
    "        HKY_sim = HKY_similarity_matrix(ch_arr)\n",
    "        _, eigvec = np.linalg.eigh(HKY_sim)\n",
    "        partition = reconstruct_tree.partition_taxa(eigvec[:,-2], HKY_sim, 1)\n",
    "        is_bipartition = check_is_bipartition(H3N2_tree, partition)\n",
    "        bipartitions.append(int(is_bipartition))\n",
    "    runtime = time.time() - start_time\n",
    "    print(\"--- %s seconds ---\" % runtime)\n",
    "\n",
    "    mean_is_bipartition.append(np.mean(bipartitions))\n",
    "\n",
    "metrics = pd.DataFrame({\"N\": N, \"valid partition freq\": mean_is_bipartition})\n",
    "metrics.to_csv(\"/gpfs/ysm/project/kleinstein/mw957/repos/spec_tree/script/split_metrics.csv\")"
   ]
  },
  {
   "cell_type": "code",
   "execution_count": 2,
   "metadata": {},
   "outputs": [
    {
     "data": {
      "text/html": [
       "<div>\n",
       "<style scoped>\n",
       "    .dataframe tbody tr th:only-of-type {\n",
       "        vertical-align: middle;\n",
       "    }\n",
       "\n",
       "    .dataframe tbody tr th {\n",
       "        vertical-align: top;\n",
       "    }\n",
       "\n",
       "    .dataframe thead th {\n",
       "        text-align: right;\n",
       "    }\n",
       "</style>\n",
       "<table border=\"1\" class=\"dataframe\">\n",
       "  <thead>\n",
       "    <tr style=\"text-align: right;\">\n",
       "      <th></th>\n",
       "      <th>N</th>\n",
       "      <th>valid partition freq</th>\n",
       "    </tr>\n",
       "  </thead>\n",
       "  <tbody>\n",
       "    <tr>\n",
       "      <th>0</th>\n",
       "      <td>50</td>\n",
       "      <td>0.66</td>\n",
       "    </tr>\n",
       "    <tr>\n",
       "      <th>1</th>\n",
       "      <td>100</td>\n",
       "      <td>0.82</td>\n",
       "    </tr>\n",
       "    <tr>\n",
       "      <th>2</th>\n",
       "      <td>400</td>\n",
       "      <td>1.00</td>\n",
       "    </tr>\n",
       "    <tr>\n",
       "      <th>3</th>\n",
       "      <td>600</td>\n",
       "      <td>1.00</td>\n",
       "    </tr>\n",
       "    <tr>\n",
       "      <th>4</th>\n",
       "      <td>800</td>\n",
       "      <td>1.00</td>\n",
       "    </tr>\n",
       "    <tr>\n",
       "      <th>5</th>\n",
       "      <td>1000</td>\n",
       "      <td>1.00</td>\n",
       "    </tr>\n",
       "  </tbody>\n",
       "</table>\n",
       "</div>"
      ],
      "text/plain": [
       "      N  valid partition freq\n",
       "0    50                  0.66\n",
       "1   100                  0.82\n",
       "2   400                  1.00\n",
       "3   600                  1.00\n",
       "4   800                  1.00\n",
       "5  1000                  1.00"
      ]
     },
     "execution_count": 2,
     "metadata": {},
     "output_type": "execute_result"
    }
   ],
   "source": [
    "metrics = pd.read_csv(\"/gpfs/ysm/project/kleinstein/mw957/repos/spec_tree/script/split_metrics.csv\")\n",
    "metrics.iloc[:,1:3]"
   ]
  },
  {
   "cell_type": "code",
   "execution_count": 3,
   "metadata": {},
   "outputs": [
    {
     "data": {
      "image/png": "[encoded data removed]",
      "text/plain": [
       "<Figure size 432x288 with 1 Axes>"
      ]
     },
     "metadata": {
      "needs_background": "light"
     },
     "output_type": "display_data"
    }
   ],
   "source": [
    "plt.scatter(metrics.N, metrics[\"valid partition freq\"])\n",
    "plt.xlabel(\"sequence length N\")\n",
    "plt.ylabel(\"freq of valid partition\")\n",
    "plt.show()"
   ]
  },
  {
   "cell_type": "markdown",
   "metadata": {},
   "source": [
    "## Test the rooting approach"
   ]
  },
  {
   "cell_type": "code",
   "execution_count": 4,
   "metadata": {},
   "outputs": [],
   "source": [
    "all_bipartitions = np.array([str(x)[::-1] for x in H3N2_tree.encode_bipartitions()][0:-1])\n",
    "\n",
    "taxon_namespace_label = np.array([x.label for x in H3N2_tree.taxon_namespace])\n",
    "\n",
    "def to_bool(partition_str):\n",
    "    return np.array(list(partition_str)) == '1'\n",
    "\n",
    "def min_partition_size(bipartition_encoding):\n",
    "    n_ones = np.sum(np.array(list(bipartition_encoding)) == '1')\n",
    "    n_zeros = np.sum(np.array(list(bipartition_encoding)) == '0')\n",
    "    return(min(n_ones, n_zeros))\n",
    "\n",
    "min_bipar = np.array([min_partition_size(x) for x in all_bipartitions])\n",
    "filtered_bipar = all_bipartitions[np.where(min_bipar > 50)[0]]"
   ]
  },
  {
   "cell_type": "code",
   "execution_count": 5,
   "metadata": {},
   "outputs": [
    {
     "data": {
      "text/plain": [
       "1127"
      ]
     },
     "execution_count": 5,
     "metadata": {},
     "output_type": "execute_result"
    }
   ],
   "source": [
    "len(all_bipartitions)"
   ]
  },
  {
   "cell_type": "code",
   "execution_count": 6,
   "metadata": {},
   "outputs": [
    {
     "data": {
      "text/plain": [
       "43"
      ]
     },
     "execution_count": 6,
     "metadata": {},
     "output_type": "execute_result"
    }
   ],
   "source": [
    "len(filtered_bipar)"
   ]
  },
  {
   "cell_type": "markdown",
   "metadata": {},
   "source": [
    "43 out of 1127 bipartitions have minimum partition size > 50. Tested all 43 bipartitions. "
   ]
  },
  {
   "cell_type": "code",
   "execution_count": null,
   "metadata": {},
   "outputs": [],
   "source": [
    "N = [50, 100, 400, 600, 800, 1000]\n",
    "Ns = []\n",
    "par1s = []\n",
    "par2s = []\n",
    "RFs = []\n",
    "F1s = []\n",
    "rts = []\n",
    "\n",
    "for n in N:\n",
    "    print(n)\n",
    "    data_HKY = simulate_discrete_chars(n, H3N2_tree, Hky85(kappa = 2), mutation_rate=0.1)\n",
    "    ch_list = list()\n",
    "    for t in data_HKY.taxon_namespace: \n",
    "        ch_list.append([x.symbol for x in data_HKY[t]])\n",
    "    ch_arr = np.array(ch_list)\n",
    "    HKY_sim = HKY_similarity_matrix(ch_arr)\n",
    "    \n",
    "    for partition in filtered_bipar:\n",
    "        partition = to_bool(partition)\n",
    "        par1_size = np.sum(partition)\n",
    "        par2_size = np.sum(np.logical_not(partition))\n",
    "        print(\"Partition size: \", par1_size, \" vs \", par2_size)\n",
    "        left_namespace = list(taxon_namespace_label[np.where(partition)[0]])\n",
    "        left_taxa = dendropy.TaxonNamespace([taxon for taxon in H3N2_tree.taxon_namespace\n",
    "            if taxon.label in left_namespace])\n",
    "\n",
    "        T_left = copy.deepcopy(H3N2_tree).extract_tree_with_taxa_labels(labels = left_namespace)\n",
    "        T_left.purge_taxon_namespace()\n",
    "        s = T_left.as_string(schema = \"newick\")\n",
    "        T_left = dendropy.Tree.get(data=s, schema=\"newick\", taxon_namespace = left_taxa)\n",
    "        right_namespace = list(taxon_namespace_label[np.where(np.logical_not(partition))[0]])\n",
    "        right_taxa = dendropy.TaxonNamespace([taxon for taxon in H3N2_tree.taxon_namespace\n",
    "            if taxon.label in right_namespace])\n",
    "        T_right = copy.deepcopy(H3N2_tree).extract_tree_with_taxa_labels(labels = right_namespace)\n",
    "        T_right.purge_taxon_namespace()\n",
    "        s = T_right.as_string(schema = \"newick\")\n",
    "        T_right = dendropy.Tree.get(data=s,\n",
    "        schema=\"newick\", taxon_namespace = right_taxa)\n",
    "        \n",
    "        start_time = time.time()\n",
    "        joined_tree = reconstruct_tree.join_trees_with_spectral_root_finding(\n",
    "            HKY_sim, T_left, T_right, taxon_namespace = H3N2_tree.taxon_namespace)\n",
    "        runtime = time.time() - start_time\n",
    "        \n",
    "        RF,F1 = reconstruct_tree.compare_trees(joined_tree, H3N2_tree)\n",
    "        \n",
    "        Ns.append(n)\n",
    "        par1s.append(par1_size)\n",
    "        par2s.append(par2_size)\n",
    "        RFs.append(RF)\n",
    "        F1s.append(F1)\n",
    "        rts.append(runtime)\n",
    "        \n",
    "perf_metrics = pd.DataFrame({'seqlength': Ns, 'par1_size': par1s, 'par2_size': par2s, \n",
    "                             'RF': RFs, \"F1\": F1s, \"runtime\": rts})\n",
    "perf_metrics.to_csv(\"/gpfs/ysm/project/kleinstein/mw957/repos/spec_tree/script/rooting_metrics_normalized.csv\")"
   ]
  },
  {
   "cell_type": "code",
   "execution_count": 3,
   "metadata": {},
   "outputs": [],
   "source": [
    "perf_metrics = pd.read_csv(\"/gpfs/ysm/project/kleinstein/mw957/repos/spec_tree/script/rooting_metrics.csv\")\n",
    "perf_metrics = perf_metrics.drop(columns = \"Unnamed: 0\")"
   ]
  },
  {
   "cell_type": "code",
   "execution_count": 5,
   "metadata": {},
   "outputs": [],
   "source": [
    "perf_metrics_normed = pd.read_csv(\"/gpfs/ysm/project/kleinstein/mw957/repos/spec_tree/script/rooting_metrics_normalized.csv\")\n",
    "perf_metrics_normed = perf_metrics_normed.drop(columns = \"Unnamed: 0\")"
   ]
  },
  {
   "cell_type": "markdown",
   "metadata": {},
   "source": [
    "## partition size distribution"
   ]
  },
  {
   "cell_type": "code",
   "execution_count": 18,
   "metadata": {},
   "outputs": [],
   "source": [
    "min_par_size = perf_metrics.loc[:, [\"par1_size\", \"par2_size\"]].min(axis = 1)"
   ]
  },
  {
   "cell_type": "code",
   "execution_count": 19,
   "metadata": {},
   "outputs": [
    {
     "data": {
      "image/png": "[encoded data removed]",
      "text/plain": [
       "<Figure size 432x288 with 1 Axes>"
      ]
     },
     "metadata": {
      "needs_background": "light"
     },
     "output_type": "display_data"
    }
   ],
   "source": [
    "_ = plt.hist(min_par_size, log = True)"
   ]
  },
  {
   "cell_type": "markdown",
   "metadata": {},
   "source": [
    "performance metrics for merging a partition with only a single node with the rest"
   ]
  },
  {
   "cell_type": "code",
   "execution_count": 11,
   "metadata": {},
   "outputs": [
    {
     "data": {
      "text/html": [
       "<div>\n",
       "<style scoped>\n",
       "    .dataframe tbody tr th:only-of-type {\n",
       "        vertical-align: middle;\n",
       "    }\n",
       "\n",
       "    .dataframe tbody tr th {\n",
       "        vertical-align: top;\n",
       "    }\n",
       "\n",
       "    .dataframe thead tr th {\n",
       "        text-align: left;\n",
       "    }\n",
       "\n",
       "    .dataframe thead tr:last-of-type th {\n",
       "        text-align: right;\n",
       "    }\n",
       "</style>\n",
       "<table border=\"1\" class=\"dataframe\">\n",
       "  <thead>\n",
       "    <tr>\n",
       "      <th></th>\n",
       "      <th colspan=\"4\" halign=\"left\">RF</th>\n",
       "      <th colspan=\"4\" halign=\"left\">runtime</th>\n",
       "    </tr>\n",
       "    <tr>\n",
       "      <th></th>\n",
       "      <th>min</th>\n",
       "      <th>max</th>\n",
       "      <th>median</th>\n",
       "      <th>std</th>\n",
       "      <th>min</th>\n",
       "      <th>max</th>\n",
       "      <th>median</th>\n",
       "      <th>std</th>\n",
       "    </tr>\n",
       "    <tr>\n",
       "      <th>seqlength</th>\n",
       "      <th></th>\n",
       "      <th></th>\n",
       "      <th></th>\n",
       "      <th></th>\n",
       "      <th></th>\n",
       "      <th></th>\n",
       "      <th></th>\n",
       "      <th></th>\n",
       "    </tr>\n",
       "  </thead>\n",
       "  <tbody>\n",
       "    <tr>\n",
       "      <th>50</th>\n",
       "      <td>8</td>\n",
       "      <td>62</td>\n",
       "      <td>22</td>\n",
       "      <td>16.919063</td>\n",
       "      <td>8.914303</td>\n",
       "      <td>12.489810</td>\n",
       "      <td>10.495854</td>\n",
       "      <td>1.145755</td>\n",
       "    </tr>\n",
       "    <tr>\n",
       "      <th>100</th>\n",
       "      <td>10</td>\n",
       "      <td>72</td>\n",
       "      <td>26</td>\n",
       "      <td>15.555424</td>\n",
       "      <td>9.001953</td>\n",
       "      <td>12.563638</td>\n",
       "      <td>10.391983</td>\n",
       "      <td>1.148289</td>\n",
       "    </tr>\n",
       "    <tr>\n",
       "      <th>400</th>\n",
       "      <td>0</td>\n",
       "      <td>48</td>\n",
       "      <td>20</td>\n",
       "      <td>10.847172</td>\n",
       "      <td>8.907304</td>\n",
       "      <td>12.582769</td>\n",
       "      <td>10.459752</td>\n",
       "      <td>1.168563</td>\n",
       "    </tr>\n",
       "    <tr>\n",
       "      <th>600</th>\n",
       "      <td>4</td>\n",
       "      <td>48</td>\n",
       "      <td>16</td>\n",
       "      <td>10.724993</td>\n",
       "      <td>8.914942</td>\n",
       "      <td>12.546468</td>\n",
       "      <td>10.363778</td>\n",
       "      <td>1.167978</td>\n",
       "    </tr>\n",
       "    <tr>\n",
       "      <th>800</th>\n",
       "      <td>4</td>\n",
       "      <td>46</td>\n",
       "      <td>20</td>\n",
       "      <td>10.763747</td>\n",
       "      <td>8.960029</td>\n",
       "      <td>12.613173</td>\n",
       "      <td>10.510476</td>\n",
       "      <td>1.184875</td>\n",
       "    </tr>\n",
       "    <tr>\n",
       "      <th>1000</th>\n",
       "      <td>4</td>\n",
       "      <td>44</td>\n",
       "      <td>14</td>\n",
       "      <td>10.537283</td>\n",
       "      <td>8.946734</td>\n",
       "      <td>12.528035</td>\n",
       "      <td>10.402806</td>\n",
       "      <td>1.173976</td>\n",
       "    </tr>\n",
       "  </tbody>\n",
       "</table>\n",
       "</div>"
      ],
      "text/plain": [
       "           RF                         runtime                                \n",
       "          min max median        std       min        max     median       std\n",
       "seqlength                                                                    \n",
       "50          8  62     22  16.919063  8.914303  12.489810  10.495854  1.145755\n",
       "100        10  72     26  15.555424  9.001953  12.563638  10.391983  1.148289\n",
       "400         0  48     20  10.847172  8.907304  12.582769  10.459752  1.168563\n",
       "600         4  48     16  10.724993  8.914942  12.546468  10.363778  1.167978\n",
       "800         4  46     20  10.763747  8.960029  12.613173  10.510476  1.184875\n",
       "1000        4  44     14  10.537283  8.946734  12.528035  10.402806  1.173976"
      ]
     },
     "execution_count": 11,
     "metadata": {},
     "output_type": "execute_result"
    }
   ],
   "source": [
    "perf_metrics.\\\n",
    "  drop(columns = [\"par1_size\", \"par2_size\", \"F1\"]).groupby([\"seqlength\"]).agg([\"min\", \"max\", \"mean\", \"std\"])"
   ]
  },
  {
   "cell_type": "code",
   "execution_count": 16,
   "metadata": {},
   "outputs": [
    {
     "data": {
      "text/html": [
       "<div>\n",
       "<style scoped>\n",
       "    .dataframe tbody tr th:only-of-type {\n",
       "        vertical-align: middle;\n",
       "    }\n",
       "\n",
       "    .dataframe tbody tr th {\n",
       "        vertical-align: top;\n",
       "    }\n",
       "\n",
       "    .dataframe thead tr th {\n",
       "        text-align: left;\n",
       "    }\n",
       "\n",
       "    .dataframe thead tr:last-of-type th {\n",
       "        text-align: right;\n",
       "    }\n",
       "</style>\n",
       "<table border=\"1\" class=\"dataframe\">\n",
       "  <thead>\n",
       "    <tr>\n",
       "      <th></th>\n",
       "      <th colspan=\"4\" halign=\"left\">RF</th>\n",
       "      <th colspan=\"4\" halign=\"left\">runtime</th>\n",
       "    </tr>\n",
       "    <tr>\n",
       "      <th></th>\n",
       "      <th>min</th>\n",
       "      <th>max</th>\n",
       "      <th>mean</th>\n",
       "      <th>std</th>\n",
       "      <th>min</th>\n",
       "      <th>max</th>\n",
       "      <th>mean</th>\n",
       "      <th>std</th>\n",
       "    </tr>\n",
       "    <tr>\n",
       "      <th>seqlength</th>\n",
       "      <th></th>\n",
       "      <th></th>\n",
       "      <th></th>\n",
       "      <th></th>\n",
       "      <th></th>\n",
       "      <th></th>\n",
       "      <th></th>\n",
       "      <th></th>\n",
       "    </tr>\n",
       "  </thead>\n",
       "  <tbody>\n",
       "    <tr>\n",
       "      <th>50</th>\n",
       "      <td>2</td>\n",
       "      <td>54</td>\n",
       "      <td>37.116279</td>\n",
       "      <td>14.377908</td>\n",
       "      <td>9.655290</td>\n",
       "      <td>13.101711</td>\n",
       "      <td>11.464496</td>\n",
       "      <td>1.101388</td>\n",
       "    </tr>\n",
       "    <tr>\n",
       "      <th>100</th>\n",
       "      <td>14</td>\n",
       "      <td>74</td>\n",
       "      <td>41.720930</td>\n",
       "      <td>20.658592</td>\n",
       "      <td>9.775056</td>\n",
       "      <td>13.302094</td>\n",
       "      <td>11.562207</td>\n",
       "      <td>1.133300</td>\n",
       "    </tr>\n",
       "    <tr>\n",
       "      <th>400</th>\n",
       "      <td>6</td>\n",
       "      <td>40</td>\n",
       "      <td>23.627907</td>\n",
       "      <td>9.281377</td>\n",
       "      <td>9.725750</td>\n",
       "      <td>13.188796</td>\n",
       "      <td>11.533988</td>\n",
       "      <td>1.131945</td>\n",
       "    </tr>\n",
       "    <tr>\n",
       "      <th>600</th>\n",
       "      <td>4</td>\n",
       "      <td>50</td>\n",
       "      <td>20.930233</td>\n",
       "      <td>12.300591</td>\n",
       "      <td>9.875435</td>\n",
       "      <td>13.432615</td>\n",
       "      <td>11.678574</td>\n",
       "      <td>1.149267</td>\n",
       "    </tr>\n",
       "    <tr>\n",
       "      <th>800</th>\n",
       "      <td>4</td>\n",
       "      <td>58</td>\n",
       "      <td>22.418605</td>\n",
       "      <td>12.832683</td>\n",
       "      <td>9.860095</td>\n",
       "      <td>13.332609</td>\n",
       "      <td>11.637845</td>\n",
       "      <td>1.143191</td>\n",
       "    </tr>\n",
       "    <tr>\n",
       "      <th>1000</th>\n",
       "      <td>2</td>\n",
       "      <td>36</td>\n",
       "      <td>16.000000</td>\n",
       "      <td>8.406347</td>\n",
       "      <td>9.572313</td>\n",
       "      <td>13.435120</td>\n",
       "      <td>11.513642</td>\n",
       "      <td>1.059607</td>\n",
       "    </tr>\n",
       "  </tbody>\n",
       "</table>\n",
       "</div>"
      ],
      "text/plain": [
       "           RF                             runtime                        \\\n",
       "          min max       mean        std       min        max       mean   \n",
       "seqlength                                                                 \n",
       "50          2  54  37.116279  14.377908  9.655290  13.101711  11.464496   \n",
       "100        14  74  41.720930  20.658592  9.775056  13.302094  11.562207   \n",
       "400         6  40  23.627907   9.281377  9.725750  13.188796  11.533988   \n",
       "600         4  50  20.930233  12.300591  9.875435  13.432615  11.678574   \n",
       "800         4  58  22.418605  12.832683  9.860095  13.332609  11.637845   \n",
       "1000        2  36  16.000000   8.406347  9.572313  13.435120  11.513642   \n",
       "\n",
       "                     \n",
       "                std  \n",
       "seqlength            \n",
       "50         1.101388  \n",
       "100        1.133300  \n",
       "400        1.131945  \n",
       "600        1.149267  \n",
       "800        1.143191  \n",
       "1000       1.059607  "
      ]
     },
     "execution_count": 16,
     "metadata": {},
     "output_type": "execute_result"
    }
   ],
   "source": [
    "perf_metrics_normed.\\\n",
    "  drop(columns = [\"par1_size\", \"par2_size\", \"F1\"]).groupby([\"seqlength\"]).agg([\"min\", \"max\", \"mean\", \"std\"])"
   ]
  },
  {
   "cell_type": "markdown",
   "metadata": {},
   "source": [
    "## Histogram of RF"
   ]
  },
  {
   "cell_type": "code",
   "execution_count": 44,
   "metadata": {},
   "outputs": [
    {
     "data": {
      "image/png": "[encoded data removed]",
      "text/plain": [
       "<Figure size 432x432 with 6 Axes>"
      ]
     },
     "metadata": {
      "needs_background": "light"
     },
     "output_type": "display_data"
    }
   ],
   "source": [
    "fig, axes = plt.subplots(3, 2, figsize = (6, 6), sharex = True, sharey = True)\n",
    "for i, seqlen in enumerate(np.unique(perf_metrics.seqlength)):\n",
    "    #print(\"seqlength:\", i)\n",
    "    perf_metrics_sub = perf_metrics.loc[(perf_metrics.seqlength == seqlen),:]\n",
    "    axes[i%3, i//3].hist(perf_metrics_sub.RF)\n",
    "    axes[i%3, i//3].set_title(\"N = \" + str(seqlen))"
   ]
  },
  {
   "cell_type": "code",
   "execution_count": 10,
   "metadata": {},
   "outputs": [
    {
     "data": {
      "image/png": "[encoded data removed]",
      "text/plain": [
       "<Figure size 432x432 with 6 Axes>"
      ]
     },
     "metadata": {
      "needs_background": "light"
     },
     "output_type": "display_data"
    }
   ],
   "source": [
    "fig, axes = plt.subplots(3, 2, figsize = (6, 6), sharex = True, sharey = True)\n",
    "for i, seqlen in enumerate(np.unique(perf_metrics.seqlength)):\n",
    "    #print(\"seqlength:\", i)\n",
    "    perf_metrics_sub = perf_metrics.loc[(perf_metrics_normed.seqlength == seqlen),:]\n",
    "    axes[i%3, i//3].hist(perf_metrics_sub.RF)\n",
    "    axes[i%3, i//3].set_title(\"N = \" + str(seqlen))"
   ]
  },
  {
   "cell_type": "markdown",
   "metadata": {},
   "source": [
    "## Examining the distribution of eigenvalues"
   ]
  },
  {
   "cell_type": "markdown",
   "metadata": {},
   "source": [
    "1. Compute a submatrix S(A,B) of some random legitimate partition of the tree to A and B. Let |A|,|B| be the corresponding subset size of A and B.\n",
    "The submatrix should be computed with a long sequence (say 10^5 or if possible 10^6) and for short sequences of length 10^3 and 500. Let S^ast be the\n",
    "submatrix computed with a long sequence and S^til be the matrix computed with the short sequence\n",
    "2. Compute the singular values of (S^ast - S^til)  (say lambda_1,.... lambda_p) where p is equal to the minimum of |A|,|B|\n",
    "3. plot a histogram of lambda_i^2, together with the Marchenko Pastur distribution with parameters |A| and |B|\n",
    "See example here:\n",
    "http://www.bnikolic.co.uk/blog/python/2019/11/28/marchenko-pastur.html"
   ]
  },
  {
   "cell_type": "code",
   "execution_count": 7,
   "metadata": {},
   "outputs": [],
   "source": [
    "test_partition = filtered_bipar[0]\n",
    "partition = to_bool(test_partition)[::-1]\n",
    "A_size = np.sum(partition)\n",
    "B_size = np.sum(np.logical_not(partition))"
   ]
  },
  {
   "cell_type": "code",
   "execution_count": 8,
   "metadata": {},
   "outputs": [],
   "source": [
    "def simulate_sim_mat(N, tree):\n",
    "    data_HKY = simulate_discrete_chars(N, tree, Hky85(kappa = 2), mutation_rate=0.1)\n",
    "    ch_list = list()\n",
    "    for t in data_HKY.taxon_namespace: \n",
    "        ch_list.append([x.symbol for x in data_HKY[t]])\n",
    "    ch_arr = np.array(ch_list)\n",
    "    HKY_sim = HKY_similarity_matrix(ch_arr)\n",
    "    return(HKY_sim)"
   ]
  },
  {
   "cell_type": "code",
   "execution_count": 9,
   "metadata": {},
   "outputs": [
    {
     "name": "stdout",
     "output_type": "stream",
     "text": [
      "66 499\n"
     ]
    }
   ],
   "source": [
    "print(A_size, B_size)"
   ]
  },
  {
   "cell_type": "code",
   "execution_count": 10,
   "metadata": {},
   "outputs": [],
   "source": [
    "p = min(A_size, B_size)\n",
    "N_long = 10**5\n",
    "N_short = [500, 1000]"
   ]
  },
  {
   "cell_type": "code",
   "execution_count": 14,
   "metadata": {},
   "outputs": [],
   "source": [
    "S_til_1 = simulate_sim_mat(N_short[0], H3N2_tree)\n",
    "with open(\"/gpfs/ysm/project/kleinstein/mw957/repos/spec_tree/script/sim_S_500.pkl\", \"wb\") as f:\n",
    "    pickle.dump(S_til_1, file =f)"
   ]
  },
  {
   "cell_type": "code",
   "execution_count": 11,
   "metadata": {},
   "outputs": [],
   "source": [
    "with open(\"../../spec_tree/script/sim_S_500.pkl\", \"rb\") as f:\n",
    "    S_til_1 = pickle.load(f)"
   ]
  },
  {
   "cell_type": "code",
   "execution_count": 21,
   "metadata": {},
   "outputs": [],
   "source": [
    "S_til_2 = simulate_sim_mat(N_short[1], H3N2_tree)\n",
    "with open(\"/gpfs/ysm/project/kleinstein/mw957/repos/spec_tree/script/sim_S_1000.pkl\", \"wb\") as f:\n",
    "    pickle.dump(S_til_2, file =f)"
   ]
  },
  {
   "cell_type": "code",
   "execution_count": 12,
   "metadata": {},
   "outputs": [],
   "source": [
    "with open(\"../../spec_tree/script/sim_S_1000.pkl\", \"rb\") as f:\n",
    "    S_til_2 = pickle.load(f)"
   ]
  },
  {
   "cell_type": "code",
   "execution_count": 29,
   "metadata": {},
   "outputs": [],
   "source": [
    "S_ast = simulate_sim_mat(N_long, H3N2_tree)\n",
    "with open(\"/gpfs/ysm/project/kleinstein/mw957/repos/spec_tree/script/sim_S_100000.pkl\", \"wb\") as f:\n",
    "    pickle.dump(S_ast, file =f)"
   ]
  },
  {
   "cell_type": "code",
   "execution_count": 13,
   "metadata": {},
   "outputs": [],
   "source": [
    "with open(\"../../spec_tree/script/sim_S_100000.pkl\", \"rb\") as f:\n",
    "    S_ast = pickle.load(f)"
   ]
  },
  {
   "cell_type": "code",
   "execution_count": 14,
   "metadata": {},
   "outputs": [],
   "source": [
    "# difference between similarity matrix\n",
    "S_diff_1 = S_ast - S_til_1\n",
    "S_diff_2 = S_ast - S_til_2\n",
    "\n",
    "S_AB_1 = S_diff_1[partition, :][:, ~partition]\n",
    "S_AB_2 = S_diff_2[partition, :][:, ~partition]"
   ]
  },
  {
   "cell_type": "code",
   "execution_count": 22,
   "metadata": {},
   "outputs": [],
   "source": [
    "# compute signular values\n",
    "SVD2_OBJ = TruncatedSVD(n_components=p)\n",
    "sigmas_1 = SVD2_OBJ.fit(S_AB_1).singular_values_\n",
    "sigmas_2 = SVD2_OBJ.fit(S_AB_2).singular_values_"
   ]
  },
  {
   "cell_type": "code",
   "execution_count": 16,
   "metadata": {},
   "outputs": [],
   "source": [
    "sigmas = [sigmas_1, sigmas_2]"
   ]
  },
  {
   "cell_type": "code",
   "execution_count": 17,
   "metadata": {},
   "outputs": [],
   "source": [
    "# http://www.bnikolic.co.uk/blog/python/2019/11/28/marchenko-pastur.html\n",
    "def marchpast(l, g):\n",
    "    \"\"\"\n",
    "    Marchenko-Pastur distribution\n",
    "    Arguments:\n",
    "    - l: the range you want to compute the distribution\n",
    "    - g: n/p \n",
    "    \"\"\"\n",
    "    def m0(a):\n",
    "        \"Element wise maximum of (a,0)\"\n",
    "        return np.maximum(a, np.zeros_like(a))\n",
    "    gplus=(1+g**0.5)**2\n",
    "    gminus=(1-g**0.5)**2\n",
    "    return np.sqrt(  m0(gplus  - l) *  m0(l- gminus)) / ( 2*np.pi*g*l)"
   ]
  },
  {
   "cell_type": "code",
   "execution_count": 18,
   "metadata": {},
   "outputs": [
    {
     "data": {
      "text/plain": [
       "0.13226452905811623"
      ]
     },
     "execution_count": 18,
     "metadata": {},
     "output_type": "execute_result"
    }
   ],
   "source": [
    "g = A_size/B_size\n",
    "g"
   ]
  },
  {
   "cell_type": "code",
   "execution_count": 24,
   "metadata": {},
   "outputs": [
    {
     "data": {
      "image/png": "[encoded data removed]",
      "text/plain": [
       "<Figure size 432x432 with 2 Axes>"
      ]
     },
     "metadata": {
      "needs_background": "light"
     },
     "output_type": "display_data"
    }
   ],
   "source": [
    "fig, axes = plt.subplots(2, 1, figsize = (6, 6), sharex = True)\n",
    "for i, n in enumerate(N_short):\n",
    "    nn, bb, patches = axes[i].hist(sigmas[i].ravel()**2, \n",
    "                                   bins = np.logspace(np.log10(0.1),np.log10(20), 50), \n",
    "                                   density=True, log = True)\n",
    "    x = np.arange(bb[0], bb[-1], 0.003)\n",
    "    axes[i].plot(x, marchpast(x, g))\n",
    "    axes[i].set_ylim(top=nn[1:].max() * 1.1)\n",
    "    axes[i].set_title(\"seqlength = \" + str(n))"
   ]
  },
  {
   "cell_type": "code",
   "execution_count": null,
   "metadata": {},
   "outputs": [],
   "source": []
  }
 ],
 "metadata": {
  "kernelspec": {
   "display_name": "Python 3",
   "language": "python",
   "name": "python3"
  },
  "language_info": {
   "codemirror_mode": {
    "name": "ipython",
    "version": 3
   },
   "file_extension": ".py",
   "mimetype": "text/x-python",
   "name": "python",
   "nbconvert_exporter": "python",
   "pygments_lexer": "ipython3",
   "version": "3.7.3"
  }
 },
 "nbformat": 4,
 "nbformat_minor": 4
}
