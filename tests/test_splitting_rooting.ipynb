{
 "cells": [
  {
   "cell_type": "markdown",
   "metadata": {},
   "source": [
    "## Test the splitting approach performance"
   ]
  },
  {
   "cell_type": "code",
   "execution_count": 1,
   "metadata": {},
   "outputs": [],
   "source": [
    "import sys, os\n",
    "\n",
    "sys.path.append(\"/gpfs/ysm/project/kleinstein/mw957/repos/spectral-tree-inference/spectraltree\")\n",
    "\n",
    "import copy\n",
    "import numpy as np\n",
    "import utils\n",
    "import generation\n",
    "import reconstruct_tree\n",
    "import dendropy\n",
    "import scipy\n",
    "import time\n",
    "from itertools import product\n",
    "import matplotlib.pyplot as plt\n",
    "import pandas as pd\n",
    "\n",
    "from dendropy.model.discrete import simulate_discrete_chars, Jc69, Hky85\n",
    "from dendropy.calculate.treecompare import symmetric_difference\n",
    "from sklearn.decomposition import TruncatedSVD\n",
    "\n",
    "def HKY_similarity_matrix(observations, classes=None, verbose = False):\n",
    "    m, N = observations.shape\n",
    "    if classes is None:\n",
    "        classes = np.unique(observations)\n",
    "    k = len(classes)\n",
    "    # From Tamura, K., and M. Nei. 1993\n",
    "    # for each pair of sequences, \n",
    "    # 1. estimate the average base frequency for pairs of sequences\n",
    "    # 2. compute purine transition proportion P1 (A <-> G)\n",
    "    # 3. compute pyrimidine transition proportion P2 (T <-> C)\n",
    "    # 3. compute transversion proportion Q (A <-> C, A <-> T, G <-> C, G <-> T)\n",
    "\n",
    "    if verbose: print(\"Computing the average base frequency for each pair of sequences...\")\n",
    "    g = {}\n",
    "    for x in classes:\n",
    "        obs_x = observations == x\n",
    "        g[x] = np.array([np.mean(np.hstack([a, b])) for a, b in product(obs_x, repeat = 2)]).reshape((m, m))\n",
    "    \n",
    "    g[\"R\"] = g[\"A\"] + g[\"G\"]\n",
    "    g[\"Y\"] = g[\"T\"] + g[\"C\"]\n",
    "    \n",
    "    # compute transition and transversion proportion\n",
    "    if verbose: print(\"Computing transition and transversion proportion for each pair of sequences...\")\n",
    "    P = {}\n",
    "    for i, x in enumerate(classes):\n",
    "        other_classes = np.delete(classes, i)\n",
    "        for y in other_classes:\n",
    "            P_x_y = np.array([np.mean(np.logical_and(a == x, b == y)) for a, b in product(observations, repeat = 2)]).reshape((m, m))\n",
    "            P[x + y] = P_x_y\n",
    "            \n",
    "    P_1 = P['AG'] + P[\"GA\"]\n",
    "    P_2 = P['CT'] + P['TC']\n",
    "    Q = P['AC'] + P['CA'] + P['AT'] + P['TA'] +\\\n",
    "        P['GC'] + P['CG'] + P['GT'] + P['TG']\n",
    "\n",
    "    # compute the similarity (formula 7)\n",
    "    if verbose: print(\"Computing similarity matrix\")\n",
    "    R = (1 - g[\"R\"]/(2 * g[\"A\"] * g[\"G\"]) * P_1 - 1 / (2 * g[\"R\"]) * Q)\n",
    "    Y = (1 - g[\"Y\"]/(2 * g[\"T\"] * g[\"C\"]) * P_2 - 1 / (2 * g[\"Y\"]) * Q)\n",
    "    T = (1 - 1/(2 * g[\"R\"] * g[\"Y\"]) * Q)\n",
    "    S = np.sign(R) * (np.abs(R))**(2 * g[\"A\"] * g[\"G\"] / g[\"R\"])\n",
    "    S += np.sign(Y) * (np.abs(Y))**(2 * g[\"T\"] * g[\"C\"] / g[\"Y\"])\n",
    "    S += np.sign(T) * (np.abs(T))**(2 * (g[\"R\"] * g[\"Y\"] - g[\"A\"] * g[\"G\"] * g[\"Y\"] / g[\"R\"] - g[\"T\"] * g[\"C\"] * g[\"R\"] / g[\"Y\"]))\n",
    "\n",
    "    return S\n",
    "\n",
    "def check_is_bipartition(tree, bool_partition):\n",
    "    bipartitions = [str(x)[::-1] for x in tree.encode_bipartitions()]\n",
    "    partition_1 = \"\".join(list(bool_partition.astype('int').astype('str')))\n",
    "    partition_2 = \"\".join(list((1 - bool_partition).astype('int').astype('str')))\n",
    "    is_bipartition = (partition_1 in bipartitions) or (partition_2 in bipartitions)\n",
    "    return is_bipartition\n",
    "\n",
    "\n",
    "SVD2_OBJ = TruncatedSVD(n_components=2, n_iter=7)\n",
    "def svd2(mat):\n",
    "    if (mat.shape[0] == 1) | (mat.shape[1] == 1):\n",
    "        return 0\n",
    "    elif (mat.shape[0] == 2) | (mat.shape[1] == 2):\n",
    "        return np.linalg.svd(mat,False,False)[1]\n",
    "    else:\n",
    "        return SVD2_OBJ.fit(mat).singular_values_[1]\n",
    "\n",
    "def partition_taxa(v,similarity,num_gaps):\n",
    "    m = len(v)\n",
    "    v_sort = np.sort(v)\n",
    "    gaps = v_sort[1:m]-v_sort[0:m-1]\n",
    "    ind_partition = np.argpartition(gaps, -num_gaps)[-num_gaps:]\n",
    "    smin = 1000\n",
    "    for p_idx in ind_partition:        \n",
    "        threshold = (v_sort[p_idx]+v_sort[p_idx+1])/2\n",
    "        if (p_idx>0) & (p_idx<m-2):\n",
    "            bool_bipartition = v<threshold\n",
    "            s_sliced = similarity[bool_bipartition,:]\n",
    "            s_sliced = s_sliced[:,~bool_bipartition]\n",
    "            s2 = svd2(s_sliced)\n",
    "            if s2<smin:\n",
    "                partition_min = bool_bipartition\n",
    "                smin = s2\n",
    "        elif p_idx == 0: partition_min = v <= v_sort[0]\n",
    "        elif p_idx == m - 2: partition_min = v < v_sort[m-1]\n",
    "    return partition_min"
   ]
  },
  {
   "cell_type": "code",
   "execution_count": 33,
   "metadata": {},
   "outputs": [],
   "source": [
    "tree_path = \"/home/mw957/project/repos/spec_tree/data/skygrid_J2.newick\"\n",
    "fasta_path = \"/home/mw957/project/repos/spec_tree/data/H3N2_NewYork.fasta\"\n",
    "\n",
    "H3N2_tree = dendropy.Tree.get(path=tree_path, schema=\"newick\")"
   ]
  },
  {
   "cell_type": "code",
   "execution_count": null,
   "metadata": {},
   "outputs": [],
   "source": [
    "B = 50\n",
    "N = [20, 50, 100, 1000]\n",
    "mean_is_bipartition = []\n",
    "\n",
    "for n in N:\n",
    "    print(n)\n",
    "    bipartitions = []\n",
    "    start_time = time.time()\n",
    "    for b in range(B):\n",
    "        print(b)\n",
    "        data_HKY = simulate_discrete_chars(n, H3N2_tree, Hky85(kappa = 2), mutation_rate=0.1)\n",
    "        ch_list = list()\n",
    "        for t in data_HKY.taxon_namespace: \n",
    "            ch_list.append([x.symbol for x in data_HKY[t]])\n",
    "        ch_arr = np.array(ch_list)\n",
    "        \n",
    "        HKY_sim = HKY_similarity_matrix(ch_arr)\n",
    "        _, eigvec = np.linalg.eigh(HKY_sim)\n",
    "        partition = partition_taxa(eigvec[:,-2], HKY_sim, 1)\n",
    "        is_bipartition = check_is_bipartition(H3N2_tree, partition)\n",
    "        bipartitions.append(int(is_bipartition))\n",
    "    runtime = time.time() - start_time\n",
    "    print(\"--- %s seconds ---\" % runtime)\n",
    "\n",
    "    mean_is_bipartition.append(np.mean(bipartitions))\n",
    "\n",
    "metrics = pd.DataFrame({\"N\": N, \"valid partition freq\": mean_is_bipartition})\n",
    "metrics.to_csv(\"/gpfs/ysm/project/kleinstein/mw957/repos/spec_tree/script/split_metrics.csv\")"
   ]
  },
  {
   "cell_type": "code",
   "execution_count": 2,
   "metadata": {},
   "outputs": [
    {
     "data": {
      "text/html": [
       "<div>\n",
       "<style scoped>\n",
       "    .dataframe tbody tr th:only-of-type {\n",
       "        vertical-align: middle;\n",
       "    }\n",
       "\n",
       "    .dataframe tbody tr th {\n",
       "        vertical-align: top;\n",
       "    }\n",
       "\n",
       "    .dataframe thead th {\n",
       "        text-align: right;\n",
       "    }\n",
       "</style>\n",
       "<table border=\"1\" class=\"dataframe\">\n",
       "  <thead>\n",
       "    <tr style=\"text-align: right;\">\n",
       "      <th></th>\n",
       "      <th>N</th>\n",
       "      <th>valid partition freq</th>\n",
       "    </tr>\n",
       "  </thead>\n",
       "  <tbody>\n",
       "    <tr>\n",
       "      <th>0</th>\n",
       "      <td>50</td>\n",
       "      <td>0.66</td>\n",
       "    </tr>\n",
       "    <tr>\n",
       "      <th>1</th>\n",
       "      <td>100</td>\n",
       "      <td>0.82</td>\n",
       "    </tr>\n",
       "    <tr>\n",
       "      <th>2</th>\n",
       "      <td>400</td>\n",
       "      <td>1.00</td>\n",
       "    </tr>\n",
       "    <tr>\n",
       "      <th>3</th>\n",
       "      <td>600</td>\n",
       "      <td>1.00</td>\n",
       "    </tr>\n",
       "    <tr>\n",
       "      <th>4</th>\n",
       "      <td>800</td>\n",
       "      <td>1.00</td>\n",
       "    </tr>\n",
       "    <tr>\n",
       "      <th>5</th>\n",
       "      <td>1000</td>\n",
       "      <td>1.00</td>\n",
       "    </tr>\n",
       "  </tbody>\n",
       "</table>\n",
       "</div>"
      ],
      "text/plain": [
       "      N  valid partition freq\n",
       "0    50                  0.66\n",
       "1   100                  0.82\n",
       "2   400                  1.00\n",
       "3   600                  1.00\n",
       "4   800                  1.00\n",
       "5  1000                  1.00"
      ]
     },
     "execution_count": 2,
     "metadata": {},
     "output_type": "execute_result"
    }
   ],
   "source": [
    "metrics = pd.read_csv(\"/gpfs/ysm/project/kleinstein/mw957/repos/spec_tree/script/split_metrics.csv\")\n",
    "metrics.iloc[:,1:3]"
   ]
  },
  {
   "cell_type": "code",
   "execution_count": 3,
   "metadata": {},
   "outputs": [
    {
     "data": {
      "image/png": "[encoded data removed]",
      "text/plain": [
       "<Figure size 432x288 with 1 Axes>"
      ]
     },
     "metadata": {
      "needs_background": "light"
     },
     "output_type": "display_data"
    }
   ],
   "source": [
    "plt.scatter(metrics.N, metrics[\"valid partition freq\"])\n",
    "plt.xlabel(\"sequence length N\")\n",
    "plt.ylabel(\"freq of valid partition\")\n",
    "plt.show()"
   ]
  },
  {
   "cell_type": "markdown",
   "metadata": {},
   "source": [
    "## Test the rooting approach"
   ]
  },
  {
   "cell_type": "code",
   "execution_count": 4,
   "metadata": {},
   "outputs": [],
   "source": [
    "tree_path = \"/home/mw957/project/repos/spec_tree/data/skygrid_J2.newick\"\n",
    "fasta_path = \"/home/mw957/project/repos/spec_tree/data/H3N2_NewYork.fasta\"\n",
    "\n",
    "H3N2_tree = dendropy.Tree.get(path=tree_path, schema=\"newick\")\n",
    "all_bipartitions = np.array([str(x)[::-1] for x in H3N2_tree.encode_bipartitions()][0:-1])\n",
    "\n",
    "taxon_namespace_label = np.array([x.label for x in H3N2_tree.taxon_namespace])\n",
    "\n",
    "def to_bool(partition_str):\n",
    "    return np.array(list(partition_str)) == '1'\n",
    "\n",
    "def min_partition_size(bipartition_encoding):\n",
    "    n_ones = np.sum(np.array(list(bipartition_encoding)) == '1')\n",
    "    n_zeros = np.sum(np.array(list(bipartition_encoding)) == '0')\n",
    "    return(min(n_ones, n_zeros))\n",
    "\n",
    "min_bipar = np.array([min_partition_size(x) for x in all_bipartitions])\n",
    "filtered_bipar = all_bipartitions[np.where(min_bipar > 50)[0]]"
   ]
  },
  {
   "cell_type": "code",
   "execution_count": 7,
   "metadata": {},
   "outputs": [
    {
     "data": {
      "text/plain": [
       "1127"
      ]
     },
     "execution_count": 7,
     "metadata": {},
     "output_type": "execute_result"
    }
   ],
   "source": [
    "len(all_bipartitions)"
   ]
  },
  {
   "cell_type": "code",
   "execution_count": 6,
   "metadata": {},
   "outputs": [
    {
     "data": {
      "text/plain": [
       "43"
      ]
     },
     "execution_count": 6,
     "metadata": {},
     "output_type": "execute_result"
    }
   ],
   "source": [
    "len(filtered_bipar)"
   ]
  },
  {
   "cell_type": "markdown",
   "metadata": {},
   "source": [
    "43 out of 1127 bipartitions have minimum partition size > 50. Tested all 43 bipartitions. "
   ]
  },
  {
   "cell_type": "code",
   "execution_count": null,
   "metadata": {},
   "outputs": [],
   "source": [
    "N = [50, 100, 400, 600, 800, 1000]\n",
    "Ns = []\n",
    "par1s = []\n",
    "par2s = []\n",
    "RFs = []\n",
    "F1s = []\n",
    "rts = []\n",
    "\n",
    "for n in N:\n",
    "    print(n)\n",
    "    data_HKY = simulate_discrete_chars(n, H3N2_tree, Hky85(kappa = 2), mutation_rate=0.1)\n",
    "    ch_list = list()\n",
    "    for t in data_HKY.taxon_namespace: \n",
    "        ch_list.append([x.symbol for x in data_HKY[t]])\n",
    "    ch_arr = np.array(ch_list)\n",
    "    HKY_sim = HKY_similarity_matrix(ch_arr)\n",
    "    \n",
    "    for partition in filtered_bipar:\n",
    "        partition = to_bool(partition)\n",
    "        par1_size = np.sum(partition)\n",
    "        par2_size = np.sum(np.logical_not(partition))\n",
    "        print(\"Partition size: \", par1_size, \" vs \", par2_size)\n",
    "        left_namespace = list(taxon_namespace_label[np.where(partition)[0]])\n",
    "        left_taxa = dendropy.TaxonNamespace([taxon for taxon in H3N2_tree.taxon_namespace\n",
    "            if taxon.label in left_namespace])\n",
    "\n",
    "        T_left = copy.deepcopy(H3N2_tree).extract_tree_with_taxa_labels(labels = left_namespace)\n",
    "        T_left.purge_taxon_namespace()\n",
    "        s = T_left.as_string(schema = \"newick\")\n",
    "        T_left = dendropy.Tree.get(data=s, schema=\"newick\", taxon_namespace = left_taxa)\n",
    "        right_namespace = list(taxon_namespace_label[np.where(np.logical_not(partition))[0]])\n",
    "        right_taxa = dendropy.TaxonNamespace([taxon for taxon in H3N2_tree.taxon_namespace\n",
    "            if taxon.label in right_namespace])\n",
    "        T_right = copy.deepcopy(H3N2_tree).extract_tree_with_taxa_labels(labels = right_namespace)\n",
    "        T_right.purge_taxon_namespace()\n",
    "        s = T_right.as_string(schema = \"newick\")\n",
    "        T_right = dendropy.Tree.get(data=s,\n",
    "        schema=\"newick\", taxon_namespace = right_taxa)\n",
    "        \n",
    "        start_time = time.time()\n",
    "        joined_tree = reconstruct_tree.join_trees_with_spectral_root_finding(\n",
    "            HKY_sim, T_left, T_right, taxon_namespace = H3N2_tree.taxon_namespace)\n",
    "        runtime = time.time() - start_time\n",
    "        \n",
    "        RF,F1 = reconstruct_tree.compare_trees(joined_tree, H3N2_tree)\n",
    "        \n",
    "        Ns.append(n)\n",
    "        par1s.append(par1_size)\n",
    "        par2s.append(par2_size)\n",
    "        RFs.append(RF)\n",
    "        F1s.append(F1)\n",
    "        rts.append(runtime)\n",
    "        \n",
    "perf_metrics = pd.DataFrame({'seqlength': Ns, 'par1_size': par1s, 'par2_size': par2s, \n",
    "                             'RF': RFs, \"F1\": F1s, \"runtime\": rts})\n",
    "perf_metrics.to_csv(\"/gpfs/ysm/project/kleinstein/mw957/repos/spec_tree/script/rooting_metrics.csv\")"
   ]
  },
  {
   "cell_type": "code",
   "execution_count": 10,
   "metadata": {},
   "outputs": [],
   "source": [
    "perf_metrics = pd.read_csv(\"/gpfs/ysm/project/kleinstein/mw957/repos/spec_tree/script/rooting_metrics.csv\")\n",
    "perf_metrics = perf_metrics.drop(columns = \"Unnamed: 0\")"
   ]
  },
  {
   "cell_type": "markdown",
   "metadata": {},
   "source": [
    "partition size distribution"
   ]
  },
  {
   "cell_type": "code",
   "execution_count": 18,
   "metadata": {},
   "outputs": [],
   "source": [
    "min_par_size = perf_metrics.loc[:, [\"par1_size\", \"par2_size\"]].min(axis = 1)"
   ]
  },
  {
   "cell_type": "code",
   "execution_count": 19,
   "metadata": {},
   "outputs": [
    {
     "data": {
      "image/png": "[encoded data removed]",
      "text/plain": [
       "<Figure size 432x288 with 1 Axes>"
      ]
     },
     "metadata": {
      "needs_background": "light"
     },
     "output_type": "display_data"
    }
   ],
   "source": [
    "_ = plt.hist(min_par_size, log = True)"
   ]
  },
  {
   "cell_type": "markdown",
   "metadata": {},
   "source": [
    "performance metrics for merging a partition with only a single node with the rest"
   ]
  },
  {
   "cell_type": "code",
   "execution_count": 51,
   "metadata": {},
   "outputs": [
    {
     "data": {
      "text/html": [
       "<div>\n",
       "<style scoped>\n",
       "    .dataframe tbody tr th:only-of-type {\n",
       "        vertical-align: middle;\n",
       "    }\n",
       "\n",
       "    .dataframe tbody tr th {\n",
       "        vertical-align: top;\n",
       "    }\n",
       "\n",
       "    .dataframe thead tr th {\n",
       "        text-align: left;\n",
       "    }\n",
       "\n",
       "    .dataframe thead tr:last-of-type th {\n",
       "        text-align: right;\n",
       "    }\n",
       "</style>\n",
       "<table border=\"1\" class=\"dataframe\">\n",
       "  <thead>\n",
       "    <tr>\n",
       "      <th></th>\n",
       "      <th colspan=\"4\" halign=\"left\">RF</th>\n",
       "      <th colspan=\"4\" halign=\"left\">runtime</th>\n",
       "    </tr>\n",
       "    <tr>\n",
       "      <th></th>\n",
       "      <th>min</th>\n",
       "      <th>max</th>\n",
       "      <th>mean</th>\n",
       "      <th>std</th>\n",
       "      <th>min</th>\n",
       "      <th>max</th>\n",
       "      <th>mean</th>\n",
       "      <th>std</th>\n",
       "    </tr>\n",
       "    <tr>\n",
       "      <th>seqlength</th>\n",
       "      <th></th>\n",
       "      <th></th>\n",
       "      <th></th>\n",
       "      <th></th>\n",
       "      <th></th>\n",
       "      <th></th>\n",
       "      <th></th>\n",
       "      <th></th>\n",
       "    </tr>\n",
       "  </thead>\n",
       "  <tbody>\n",
       "    <tr>\n",
       "      <th>50</th>\n",
       "      <td>8</td>\n",
       "      <td>62</td>\n",
       "      <td>29.534884</td>\n",
       "      <td>16.919063</td>\n",
       "      <td>8.914303</td>\n",
       "      <td>12.489810</td>\n",
       "      <td>10.732290</td>\n",
       "      <td>1.145755</td>\n",
       "    </tr>\n",
       "    <tr>\n",
       "      <th>100</th>\n",
       "      <td>10</td>\n",
       "      <td>72</td>\n",
       "      <td>28.930233</td>\n",
       "      <td>15.555424</td>\n",
       "      <td>9.001953</td>\n",
       "      <td>12.563638</td>\n",
       "      <td>10.677157</td>\n",
       "      <td>1.148289</td>\n",
       "    </tr>\n",
       "    <tr>\n",
       "      <th>400</th>\n",
       "      <td>0</td>\n",
       "      <td>48</td>\n",
       "      <td>20.651163</td>\n",
       "      <td>10.847172</td>\n",
       "      <td>8.907304</td>\n",
       "      <td>12.582769</td>\n",
       "      <td>10.717590</td>\n",
       "      <td>1.168563</td>\n",
       "    </tr>\n",
       "    <tr>\n",
       "      <th>600</th>\n",
       "      <td>4</td>\n",
       "      <td>48</td>\n",
       "      <td>18.697674</td>\n",
       "      <td>10.724993</td>\n",
       "      <td>8.914942</td>\n",
       "      <td>12.546468</td>\n",
       "      <td>10.678425</td>\n",
       "      <td>1.167978</td>\n",
       "    </tr>\n",
       "    <tr>\n",
       "      <th>800</th>\n",
       "      <td>4</td>\n",
       "      <td>46</td>\n",
       "      <td>21.627907</td>\n",
       "      <td>10.763747</td>\n",
       "      <td>8.960029</td>\n",
       "      <td>12.613173</td>\n",
       "      <td>10.753825</td>\n",
       "      <td>1.184875</td>\n",
       "    </tr>\n",
       "    <tr>\n",
       "      <th>1000</th>\n",
       "      <td>4</td>\n",
       "      <td>44</td>\n",
       "      <td>15.674419</td>\n",
       "      <td>10.537283</td>\n",
       "      <td>8.946734</td>\n",
       "      <td>12.528035</td>\n",
       "      <td>10.737069</td>\n",
       "      <td>1.173976</td>\n",
       "    </tr>\n",
       "  </tbody>\n",
       "</table>\n",
       "</div>"
      ],
      "text/plain": [
       "           RF                             runtime                        \\\n",
       "          min max       mean        std       min        max       mean   \n",
       "seqlength                                                                 \n",
       "50          8  62  29.534884  16.919063  8.914303  12.489810  10.732290   \n",
       "100        10  72  28.930233  15.555424  9.001953  12.563638  10.677157   \n",
       "400         0  48  20.651163  10.847172  8.907304  12.582769  10.717590   \n",
       "600         4  48  18.697674  10.724993  8.914942  12.546468  10.678425   \n",
       "800         4  46  21.627907  10.763747  8.960029  12.613173  10.753825   \n",
       "1000        4  44  15.674419  10.537283  8.946734  12.528035  10.737069   \n",
       "\n",
       "                     \n",
       "                std  \n",
       "seqlength            \n",
       "50         1.145755  \n",
       "100        1.148289  \n",
       "400        1.168563  \n",
       "600        1.167978  \n",
       "800        1.184875  \n",
       "1000       1.173976  "
      ]
     },
     "execution_count": 51,
     "metadata": {},
     "output_type": "execute_result"
    }
   ],
   "source": [
    "perf_metrics.\\\n",
    "  drop(columns = [\"par1_size\", \"par2_size\", \"F1\"]).groupby([\"seqlength\"]).agg([\"min\", \"max\", \"mean\", \"std\"])"
   ]
  },
  {
   "cell_type": "markdown",
   "metadata": {},
   "source": [
    "## Histogram of RF"
   ]
  },
  {
   "cell_type": "code",
   "execution_count": 44,
   "metadata": {},
   "outputs": [
    {
     "data": {
      "image/png": "[encoded data removed]",
      "text/plain": [
       "<Figure size 432x432 with 6 Axes>"
      ]
     },
     "metadata": {
      "needs_background": "light"
     },
     "output_type": "display_data"
    }
   ],
   "source": [
    "fig, axes = plt.subplots(3, 2, figsize = (6, 6), sharex = True, sharey = True)\n",
    "for i, seqlen in enumerate(np.unique(perf_metrics.seqlength)):\n",
    "    #print(\"seqlength:\", i)\n",
    "    perf_metrics_sub = perf_metrics.loc[(perf_metrics.seqlength == seqlen),:]\n",
    "    axes[i%3, i//3].hist(perf_metrics_sub.RF)\n",
    "    axes[i%3, i//3].set_title(\"N = \" + str(seqlen))"
   ]
  },
  {
   "cell_type": "code",
   "execution_count": 49,
   "metadata": {},
   "outputs": [
    {
     "data": {
      "text/html": [
       "<div>\n",
       "<style scoped>\n",
       "    .dataframe tbody tr th:only-of-type {\n",
       "        vertical-align: middle;\n",
       "    }\n",
       "\n",
       "    .dataframe tbody tr th {\n",
       "        vertical-align: top;\n",
       "    }\n",
       "\n",
       "    .dataframe thead th {\n",
       "        text-align: right;\n",
       "    }\n",
       "</style>\n",
       "<table border=\"1\" class=\"dataframe\">\n",
       "  <thead>\n",
       "    <tr style=\"text-align: right;\">\n",
       "      <th></th>\n",
       "      <th>seqlength</th>\n",
       "      <th>% RF = 0</th>\n",
       "    </tr>\n",
       "  </thead>\n",
       "  <tbody>\n",
       "    <tr>\n",
       "      <th>0</th>\n",
       "      <td>50</td>\n",
       "      <td>0.00</td>\n",
       "    </tr>\n",
       "    <tr>\n",
       "      <th>1</th>\n",
       "      <td>100</td>\n",
       "      <td>0.00</td>\n",
       "    </tr>\n",
       "    <tr>\n",
       "      <th>2</th>\n",
       "      <td>400</td>\n",
       "      <td>2.33</td>\n",
       "    </tr>\n",
       "    <tr>\n",
       "      <th>3</th>\n",
       "      <td>600</td>\n",
       "      <td>0.00</td>\n",
       "    </tr>\n",
       "    <tr>\n",
       "      <th>4</th>\n",
       "      <td>800</td>\n",
       "      <td>0.00</td>\n",
       "    </tr>\n",
       "    <tr>\n",
       "      <th>5</th>\n",
       "      <td>1000</td>\n",
       "      <td>0.00</td>\n",
       "    </tr>\n",
       "  </tbody>\n",
       "</table>\n",
       "</div>"
      ],
      "text/plain": [
       "   seqlength  % RF = 0\n",
       "0         50      0.00\n",
       "1        100      0.00\n",
       "2        400      2.33\n",
       "3        600      0.00\n",
       "4        800      0.00\n",
       "5       1000      0.00"
      ]
     },
     "execution_count": 49,
     "metadata": {},
     "output_type": "execute_result"
    }
   ],
   "source": [
    "RFs_eq_0 = []\n",
    "for i in np.unique(perf_metrics.seqlength):\n",
    "    perf_metrics_sub = perf_metrics.loc[(perf_metrics.seqlength == i),:]\n",
    "    RFs_eq_0.append(np.mean(perf_metrics_sub.RF == 0) * 100)\n",
    "    \n",
    "pd.DataFrame({\"seqlength\": np.unique(perf_metrics.seqlength), \n",
    "              \"% RF = 0\": RFs_eq_0}).round(2)"
   ]
  },
  {
   "cell_type": "code",
   "execution_count": 50,
   "metadata": {},
   "outputs": [
    {
     "data": {
      "text/html": [
       "<div>\n",
       "<style scoped>\n",
       "    .dataframe tbody tr th:only-of-type {\n",
       "        vertical-align: middle;\n",
       "    }\n",
       "\n",
       "    .dataframe tbody tr th {\n",
       "        vertical-align: top;\n",
       "    }\n",
       "\n",
       "    .dataframe thead th {\n",
       "        text-align: right;\n",
       "    }\n",
       "</style>\n",
       "<table border=\"1\" class=\"dataframe\">\n",
       "  <thead>\n",
       "    <tr style=\"text-align: right;\">\n",
       "      <th></th>\n",
       "      <th>seqlength</th>\n",
       "      <th>% RF &lt; 10</th>\n",
       "    </tr>\n",
       "  </thead>\n",
       "  <tbody>\n",
       "    <tr>\n",
       "      <th>0</th>\n",
       "      <td>50</td>\n",
       "      <td>11.63</td>\n",
       "    </tr>\n",
       "    <tr>\n",
       "      <th>1</th>\n",
       "      <td>100</td>\n",
       "      <td>0.00</td>\n",
       "    </tr>\n",
       "    <tr>\n",
       "      <th>2</th>\n",
       "      <td>400</td>\n",
       "      <td>11.63</td>\n",
       "    </tr>\n",
       "    <tr>\n",
       "      <th>3</th>\n",
       "      <td>600</td>\n",
       "      <td>11.63</td>\n",
       "    </tr>\n",
       "    <tr>\n",
       "      <th>4</th>\n",
       "      <td>800</td>\n",
       "      <td>16.28</td>\n",
       "    </tr>\n",
       "    <tr>\n",
       "      <th>5</th>\n",
       "      <td>1000</td>\n",
       "      <td>25.58</td>\n",
       "    </tr>\n",
       "  </tbody>\n",
       "</table>\n",
       "</div>"
      ],
      "text/plain": [
       "   seqlength  % RF < 10\n",
       "0         50      11.63\n",
       "1        100       0.00\n",
       "2        400      11.63\n",
       "3        600      11.63\n",
       "4        800      16.28\n",
       "5       1000      25.58"
      ]
     },
     "execution_count": 50,
     "metadata": {},
     "output_type": "execute_result"
    }
   ],
   "source": [
    "RFs_eq_0 = []\n",
    "for i in np.unique(perf_metrics.seqlength):\n",
    "    perf_metrics_sub = perf_metrics.loc[(perf_metrics.seqlength == i),:]\n",
    "    RFs_eq_0.append(np.mean(perf_metrics_sub.RF < 10) * 100)\n",
    "    \n",
    "pd.DataFrame({\"seqlength\": np.unique(perf_metrics.seqlength), \n",
    "              \"% RF < 10\": RFs_eq_0}).round(2)"
   ]
  }
 ],
 "metadata": {
  "kernelspec": {
   "display_name": "Python 3",
   "language": "python",
   "name": "python3"
  },
  "language_info": {
   "codemirror_mode": {
    "name": "ipython",
    "version": 3
   },
   "file_extension": ".py",
   "mimetype": "text/x-python",
   "name": "python",
   "nbconvert_exporter": "python",
   "pygments_lexer": "ipython3",
   "version": "3.7.6"
  }
 },
 "nbformat": 4,
 "nbformat_minor": 4
}
