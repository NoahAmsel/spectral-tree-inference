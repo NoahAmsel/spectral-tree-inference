{
 "cells": [
  {
   "cell_type": "code",
   "execution_count": 1,
   "metadata": {},
   "outputs": [],
   "source": [
    "%load_ext autoreload\n",
    "%autoreload 2\n",
    "from spectraltree import *"
   ]
  },
  {
   "cell_type": "code",
   "execution_count": 2,
   "metadata": {},
   "outputs": [],
   "source": [
    "import numpy as np\n",
    "import dendropy"
   ]
  },
  {
   "cell_type": "code",
   "execution_count": 3,
   "metadata": {},
   "outputs": [],
   "source": [
    "jc = Jukes_Cantor()\n",
    "tree = balanced_binary(2**5, edge_length=jc.p2t(0.85))\n",
    "observations = simulate_sequences(1_000, tree, jc)"
   ]
  },
  {
   "cell_type": "code",
   "execution_count": 4,
   "metadata": {},
   "outputs": [],
   "source": [
    "distance_matrix = JC_distance_matrix(observations)\n",
    "recovered_tree = estimate_tree_topology(distance_matrix)"
   ]
  },
  {
   "cell_type": "code",
   "execution_count": 5,
   "metadata": {},
   "outputs": [
    {
     "name": "stdout",
     "output_type": "stream",
     "text": [
      "/--------------------------------------------------------------------------- 2 \n",
      "|                                                                              \n",
      "|--------------------------------------------------------------------------- 3 \n",
      "|                                                                              \n",
      "|                                                                 /--------- 0 \n",
      "|        /--------------------------------------------------------+            \n",
      "|        |                                                        \\--------- 1 \n",
      "|        |                                                                     \n",
      "+        |                                                        /--------- 6 \n",
      "|        |                                               /--------+            \n",
      "|        |                                               |        \\--------- 7 \n",
      "|        |         /-------------------------------------+                     \n",
      "|        |         |                                     |        /--------- 4 \n",
      "|        |         |                                     \\--------+            \n",
      "|        |         |                                              \\--------- 5 \n",
      "|        |         |                                                           \n",
      "\\--------+         |                                              /--------- 16\n",
      "         |         |                                     /--------+            \n",
      "         |         |                                     |        \\--------- 17\n",
      "         |         |                           /---------+                     \n",
      "         |         |                           |         |        /--------- 18\n",
      "         |         |                           |         \\--------+            \n",
      "         |         |                           |                  \\--------- 19\n",
      "         |         |                  /--------+                               \n",
      "         |         |                  |        |                  /--------- 20\n",
      "         |         |                  |        |         /--------+            \n",
      "         |         |                  |        |         |        \\--------- 21\n",
      "         \\---------+                  |        \\---------+                     \n",
      "                   |                  |                  |        /--------- 22\n",
      "                   |                  |                  \\--------+            \n",
      "                   |                  |                           \\--------- 23\n",
      "                   |        /---------+                                        \n",
      "                   |        |         |                           /--------- 26\n",
      "                   |        |         |                  /--------+            \n",
      "                   |        |         |                  |        \\--------- 27\n",
      "                   |        |         |        /---------+                     \n",
      "                   |        |         |        |         |        /--------- 24\n",
      "                   |        |         |        |         \\--------+            \n",
      "                   |        |         |        |                  \\--------- 25\n",
      "                   |        |         \\--------+                               \n",
      "                   |        |                  |                  /--------- 28\n",
      "                   |        |                  |         /--------+            \n",
      "                   |        |                  |         |        \\--------- 29\n",
      "                   \\--------+                  \\---------+                     \n",
      "                            |                            |        /--------- 30\n",
      "                            |                            \\--------+            \n",
      "                            |                                     \\--------- 31\n",
      "                            |                                                  \n",
      "                            |                                     /--------- 10\n",
      "                            |                            /--------+            \n",
      "                            |                            |        \\--------- 11\n",
      "                            |                  /---------+                     \n",
      "                            |                  |         |        /--------- 8 \n",
      "                            |                  |         \\--------+            \n",
      "                            |                  |                  \\--------- 9 \n",
      "                            \\------------------+                               \n",
      "                                               |                  /--------- 14\n",
      "                                               |         /--------+            \n",
      "                                               |         |        \\--------- 15\n",
      "                                               \\---------+                     \n",
      "                                                         |        /--------- 12\n",
      "                                                         \\--------+            \n",
      "                                                                  \\--------- 13\n",
      "                                                                               \n",
      "                                                                               \n"
     ]
    }
   ],
   "source": [
    "print(recovered_tree.as_ascii_plot())"
   ]
  },
  {
   "cell_type": "code",
   "execution_count": 94,
   "metadata": {},
   "outputs": [],
   "source": [
    "jc = Jukes_Cantor()"
   ]
  },
  {
   "cell_type": "code",
   "execution_count": 97,
   "metadata": {},
   "outputs": [
    {
     "data": {
      "text/plain": [
       "0.2536209624953736"
      ]
     },
     "execution_count": 97,
     "metadata": {},
     "output_type": "execute_result"
    }
   ],
   "source": [
    "ttt = 4.\n",
    "0.25 + 0.75 * np.exp(-4.*ttt/3.)"
   ]
  },
  {
   "cell_type": "code",
   "execution_count": 101,
   "metadata": {},
   "outputs": [
    {
     "data": {
      "text/plain": [
       "array([[0.44769785, 0.18410072, 0.18410072, 0.18410072],\n",
       "       [0.18410072, 0.44769785, 0.18410072, 0.18410072],\n",
       "       [0.18410072, 0.18410072, 0.44769785, 0.18410072],\n",
       "       [0.18410072, 0.18410072, 0.18410072, 0.44769785]])"
      ]
     },
     "execution_count": 101,
     "metadata": {},
     "output_type": "execute_result"
    }
   ],
   "source": [
    "jc.pmatrix(1)"
   ]
  },
  {
   "cell_type": "code",
   "execution_count": 100,
   "metadata": {},
   "outputs": [
    {
     "data": {
      "text/plain": [
       "4.0"
      ]
     },
     "execution_count": 100,
     "metadata": {},
     "output_type": "execute_result"
    }
   ],
   "source": [
    "jc.paralinear_distance(1)"
   ]
  },
  {
   "cell_type": "code",
   "execution_count": 103,
   "metadata": {},
   "outputs": [
    {
     "ename": "TypeError",
     "evalue": "unsupported operand type(s) for /: 'float' and 'method'",
     "output_type": "error",
     "traceback": [
      "\u001b[0;31m---------------------------------------------------------------------------\u001b[0m",
      "\u001b[0;31mTypeError\u001b[0m                                 Traceback (most recent call last)",
      "\u001b[0;32m<ipython-input-103-221fbf44db7e>\u001b[0m in \u001b[0;36m<module>\u001b[0;34m\u001b[0m\n\u001b[0;32m----> 1\u001b[0;31m \u001b[0mjc\u001b[0m\u001b[0;34m.\u001b[0m\u001b[0mt2p\u001b[0m\u001b[0;34m(\u001b[0m\u001b[0;36m3\u001b[0m\u001b[0;34m,\u001b[0m \u001b[0;36m2.\u001b[0m\u001b[0;34m)\u001b[0m\u001b[0;34m\u001b[0m\u001b[0;34m\u001b[0m\u001b[0m\n\u001b[0m",
      "\u001b[0;32m~/Documents/Summer_restored/spectral-tree-inference/spectraltree/generation.py\u001b[0m in \u001b[0;36mt2p\u001b[0;34m(self, t, mutation_rate)\u001b[0m\n\u001b[1;32m    208\u001b[0m         \u001b[0;31m#return self.pmatrix(t, mutation_rate)[0,0]\u001b[0m\u001b[0;34m\u001b[0m\u001b[0;34m\u001b[0m\u001b[0;34m\u001b[0m\u001b[0m\n\u001b[1;32m    209\u001b[0m         \u001b[0;31m#return 0.25 + 0.75 * np.exp(-4.*t/3.)\u001b[0m\u001b[0;34m\u001b[0m\u001b[0;34m\u001b[0m\u001b[0;34m\u001b[0m\u001b[0m\n\u001b[0;32m--> 210\u001b[0;31m         \u001b[0;32mreturn\u001b[0m \u001b[0;36m1.\u001b[0m\u001b[0;34m/\u001b[0m\u001b[0mself\u001b[0m\u001b[0;34m.\u001b[0m\u001b[0mk\u001b[0m \u001b[0;34m+\u001b[0m \u001b[0mself\u001b[0m\u001b[0;34m.\u001b[0m\u001b[0mk_ratio\u001b[0m \u001b[0;34m*\u001b[0m \u001b[0mnp\u001b[0m\u001b[0;34m.\u001b[0m\u001b[0mexp\u001b[0m\u001b[0;34m(\u001b[0m\u001b[0;34m-\u001b[0m \u001b[0mt\u001b[0m\u001b[0;34m*\u001b[0m\u001b[0mmutation_rate\u001b[0m \u001b[0;34m/\u001b[0m \u001b[0mself\u001b[0m\u001b[0;34m.\u001b[0m\u001b[0mk_ratio\u001b[0m\u001b[0;34m)\u001b[0m\u001b[0;34m\u001b[0m\u001b[0;34m\u001b[0m\u001b[0m\n\u001b[0m\u001b[1;32m    211\u001b[0m \u001b[0;34m\u001b[0m\u001b[0m\n\u001b[1;32m    212\u001b[0m     \u001b[0;32mdef\u001b[0m \u001b[0mp2t\u001b[0m\u001b[0;34m(\u001b[0m\u001b[0mself\u001b[0m\u001b[0;34m,\u001b[0m \u001b[0mp\u001b[0m\u001b[0;34m,\u001b[0m \u001b[0mmutation_rate\u001b[0m\u001b[0;34m=\u001b[0m\u001b[0;36m1.\u001b[0m\u001b[0;34m)\u001b[0m\u001b[0;34m:\u001b[0m\u001b[0;34m\u001b[0m\u001b[0;34m\u001b[0m\u001b[0m\n",
      "\u001b[0;31mTypeError\u001b[0m: unsupported operand type(s) for /: 'float' and 'method'"
     ]
    }
   ],
   "source": [
    "jc.t2p(3, 2.)"
   ]
  },
  {
   "cell_type": "code",
   "execution_count": 106,
   "metadata": {},
   "outputs": [
    {
     "data": {
      "text/plain": [
       "0.029999999999999964"
      ]
     },
     "execution_count": 106,
     "metadata": {},
     "output_type": "execute_result"
    }
   ],
   "source": [
    "jc.p2t(jc.t2p(0.03, 2.), 2.)"
   ]
  },
  {
   "cell_type": "code",
   "execution_count": 91,
   "metadata": {},
   "outputs": [
    {
     "data": {
      "text/plain": [
       "array([0.42 , 0.392, 0.397, 0.   ])"
      ]
     },
     "execution_count": 91,
     "metadata": {},
     "output_type": "execute_result"
    }
   ],
   "source": [
    "simulate_sequences(1000, my_tree, my_trans).mean(axis=1)"
   ]
  },
  {
   "cell_type": "code",
   "execution_count": 144,
   "metadata": {},
   "outputs": [],
   "source": [
    "cvec.append(1.2)"
   ]
  },
  {
   "cell_type": "code",
   "execution_count": 131,
   "metadata": {},
   "outputs": [
    {
     "data": {
      "text/plain": [
       "<dendropy.datamodel.charmatrixmodel.CharacterDataSequence at 0xa576ce9b0>"
      ]
     },
     "execution_count": 131,
     "metadata": {},
     "output_type": "execute_result"
    }
   ],
   "source": [
    "char_matrix[0]"
   ]
  },
  {
   "cell_type": "code",
   "execution_count": 107,
   "metadata": {},
   "outputs": [],
   "source": [
    "simulate_sequences?"
   ]
  },
  {
   "cell_type": "code",
   "execution_count": null,
   "metadata": {},
   "outputs": [],
   "source": []
  },
  {
   "cell_type": "code",
   "execution_count": 121,
   "metadata": {},
   "outputs": [
    {
     "data": {
      "text/plain": [
       "'results_12-31-2019_18:21:20'"
      ]
     },
     "execution_count": 121,
     "metadata": {},
     "output_type": "execute_result"
    }
   ],
   "source": [
    "datetime.datetime.now().strftime(\"results_%m-%d-%Y_%H:%M:%S\")"
   ]
  },
  {
   "cell_type": "code",
   "execution_count": 6,
   "metadata": {},
   "outputs": [],
   "source": [
    "from compare_methods import load_results, save_results, experiment, Experiment_Datum"
   ]
  },
  {
   "cell_type": "code",
   "execution_count": 15,
   "metadata": {},
   "outputs": [
    {
     "ename": "FileNotFoundError",
     "evalue": "[Errno 2] No such file or directory: 'data/example_run.pkl'",
     "output_type": "error",
     "traceback": [
      "\u001b[0;31m---------------------------------------------------------------------------\u001b[0m",
      "\u001b[0;31mFileNotFoundError\u001b[0m                         Traceback (most recent call last)",
      "\u001b[0;32m<ipython-input-15-000b147da49b>\u001b[0m in \u001b[0;36m<module>\u001b[0;34m\u001b[0m\n\u001b[0;32m----> 1\u001b[0;31m \u001b[0mresu\u001b[0m \u001b[0;34m=\u001b[0m \u001b[0mload_results\u001b[0m\u001b[0;34m(\u001b[0m\u001b[0;34m\"example_run.pkl\"\u001b[0m\u001b[0;34m)\u001b[0m\u001b[0;34m\u001b[0m\u001b[0;34m\u001b[0m\u001b[0m\n\u001b[0m",
      "\u001b[0;32m~/Documents/Summer_restored/spectral-tree-inference/compare_methods.py\u001b[0m in \u001b[0;36mload_results\u001b[0;34m(folder, throw_error, *files)\u001b[0m\n\u001b[1;32m     83\u001b[0m             \u001b[0msuccessful\u001b[0m \u001b[0;34m-=\u001b[0m \u001b[0;36m1\u001b[0m\u001b[0;34m\u001b[0m\u001b[0;34m\u001b[0m\u001b[0m\n\u001b[1;32m     84\u001b[0m             \u001b[0;32mif\u001b[0m \u001b[0mthrow_error\u001b[0m\u001b[0;34m:\u001b[0m\u001b[0;34m\u001b[0m\u001b[0;34m\u001b[0m\u001b[0m\n\u001b[0;32m---> 85\u001b[0;31m                 \u001b[0;32mraise\u001b[0m \u001b[0merror\u001b[0m\u001b[0;34m\u001b[0m\u001b[0;34m\u001b[0m\u001b[0m\n\u001b[0m\u001b[1;32m     86\u001b[0m     \u001b[0;32mif\u001b[0m \u001b[0;32mnot\u001b[0m \u001b[0mthrow_error\u001b[0m\u001b[0;34m:\u001b[0m\u001b[0;34m\u001b[0m\u001b[0;34m\u001b[0m\u001b[0m\n\u001b[1;32m     87\u001b[0m         \u001b[0mprint\u001b[0m\u001b[0;34m(\u001b[0m\u001b[0;34m\"Successfully read {} files.\"\u001b[0m\u001b[0;34m.\u001b[0m\u001b[0mformat\u001b[0m\u001b[0;34m(\u001b[0m\u001b[0msuccessful\u001b[0m\u001b[0;34m)\u001b[0m\u001b[0;34m)\u001b[0m\u001b[0;34m\u001b[0m\u001b[0;34m\u001b[0m\u001b[0m\n",
      "\u001b[0;32m~/Documents/Summer_restored/spectral-tree-inference/compare_methods.py\u001b[0m in \u001b[0;36mload_results\u001b[0;34m(folder, throw_error, *files)\u001b[0m\n\u001b[1;32m     77\u001b[0m         \u001b[0mfullpath\u001b[0m \u001b[0;34m=\u001b[0m \u001b[0mfilename\u001b[0m \u001b[0;32mif\u001b[0m \u001b[0mfolder\u001b[0m \u001b[0;32mis\u001b[0m \u001b[0;32mNone\u001b[0m \u001b[0;32melse\u001b[0m \u001b[0mos\u001b[0m\u001b[0;34m.\u001b[0m\u001b[0mpath\u001b[0m\u001b[0;34m.\u001b[0m\u001b[0mjoin\u001b[0m\u001b[0;34m(\u001b[0m\u001b[0mfolder\u001b[0m\u001b[0;34m,\u001b[0m \u001b[0mfilename\u001b[0m\u001b[0;34m)\u001b[0m\u001b[0;34m\u001b[0m\u001b[0;34m\u001b[0m\u001b[0m\n\u001b[1;32m     78\u001b[0m         \u001b[0;32mtry\u001b[0m\u001b[0;34m:\u001b[0m\u001b[0;34m\u001b[0m\u001b[0;34m\u001b[0m\u001b[0m\n\u001b[0;32m---> 79\u001b[0;31m             \u001b[0;32mwith\u001b[0m \u001b[0mopen\u001b[0m\u001b[0;34m(\u001b[0m\u001b[0mfullpath\u001b[0m\u001b[0;34m,\u001b[0m \u001b[0;34m\"rb\"\u001b[0m\u001b[0;34m)\u001b[0m \u001b[0;32mas\u001b[0m \u001b[0mf\u001b[0m\u001b[0;34m:\u001b[0m\u001b[0;34m\u001b[0m\u001b[0;34m\u001b[0m\u001b[0m\n\u001b[0m\u001b[1;32m     80\u001b[0m                 \u001b[0mres\u001b[0m \u001b[0;34m=\u001b[0m \u001b[0mpickle\u001b[0m\u001b[0;34m.\u001b[0m\u001b[0mload\u001b[0m\u001b[0;34m(\u001b[0m\u001b[0mf\u001b[0m\u001b[0;34m)\u001b[0m\u001b[0;34m\u001b[0m\u001b[0;34m\u001b[0m\u001b[0m\n\u001b[1;32m     81\u001b[0m                 \u001b[0mtotal_results\u001b[0m \u001b[0;34m+=\u001b[0m \u001b[0mres\u001b[0m\u001b[0;34m\u001b[0m\u001b[0;34m\u001b[0m\u001b[0m\n",
      "\u001b[0;31mFileNotFoundError\u001b[0m: [Errno 2] No such file or directory: 'data/example_run.pkl'"
     ]
    }
   ],
   "source": [
    "resu = load_results(\"example_run.pkl\")"
   ]
  },
  {
   "cell_type": "code",
   "execution_count": 16,
   "metadata": {},
   "outputs": [],
   "source": [
    "binary_trees = [balanced_binary(m) for m in [64, 128, 256]]\n",
    "lopsided = [lopsided_tree(m) for m in [64, 128]]\n",
    "jc = Jukes_Cantor()\n",
    "Ns = [100, 400, 1600]\n",
    "methods = [Reconstruction_Method(neighbor_joining), Reconstruction_Method()] #, Reconstruction_Method(scorer=reconstruct_tree.sum_squared_quartets), Reconstruction_Method(scorer=weird2)]\n",
    "mutation_rates = [jc.similarity2t(np.sqrt(1/2)), jc.p2t(0.85)]\n"
   ]
  },
  {
   "cell_type": "code",
   "execution_count": 45,
   "metadata": {},
   "outputs": [
    {
     "name": "stdout",
     "output_type": "stream",
     "text": [
      "==== Beginning Experiment =====\n",
      "\t Transition:  Jukes Cantor (k=4)\n",
      "\t 5 trees\n",
      "\t 3 sample sizes: 100 400 1600\n",
      "\t 2 methods NJ sv2\n",
      "\t 2 mutation rates: 0.0866 0.1674\n",
      "\t 0 reps\n"
     ]
    }
   ],
   "source": [
    "results = experiment(tree_list=binary_trees+lopsided, sequence_model=jc, Ns=Ns, methods=methods, mutation_rates=mutation_rates, reps_per_tree=0)\n"
   ]
  },
  {
   "cell_type": "code",
   "execution_count": 19,
   "metadata": {},
   "outputs": [
    {
     "name": "stdout",
     "output_type": "stream",
     "text": [
      "==== Beginning Experiment =====\n",
      "\t Transition:  <spectraltree.generation.Jukes_Cantor object at 0x1a24b25a58>\n",
      "\t 5 trees\n",
      "\t [100, 400, 1600] samples\n",
      "\t 2 methods [<spectraltree.reconstruct_tree.Reconstruction_Method object at 0x1a235b2780>, <spectraltree.reconstruct_tree.Reconstruction_Method object at 0x1a235b25f8>]\n",
      "\t 2 mutation rates: [0.08664339756999315, 0.16735766348565728]\n",
      "\t 1 reps\n",
      "1 / 60\n",
      "2 / 60\n",
      "3 / 60\n",
      "4 / 60\n",
      "5 / 60\n",
      "6 / 60\n",
      "7 / 60\n",
      "8 / 60\n",
      "9 / 60\n",
      "10 / 60\n",
      "11 / 60\n",
      "12 / 60\n",
      "13 / 60\n",
      "14 / 60\n",
      "15 / 60\n",
      "16 / 60\n",
      "17 / 60\n",
      "18 / 60\n",
      "19 / 60\n",
      "20 / 60\n",
      "21 / 60\n",
      "22 / 60\n",
      "23 / 60\n",
      "24 / 60\n",
      "25 / 60\n",
      "26 / 60\n",
      "27 / 60\n",
      "28 / 60\n",
      "29 / 60\n",
      "30 / 60\n",
      "31 / 60\n",
      "32 / 60\n",
      "33 / 60\n",
      "34 / 60\n",
      "35 / 60\n",
      "36 / 60\n",
      "37 / 60\n",
      "38 / 60\n",
      "39 / 60\n",
      "40 / 60\n",
      "41 / 60\n",
      "42 / 60\n",
      "43 / 60\n",
      "44 / 60\n",
      "45 / 60\n",
      "46 / 60\n",
      "47 / 60\n",
      "48 / 60\n",
      "49 / 60\n",
      "50 / 60\n",
      "51 / 60\n",
      "52 / 60\n",
      "53 / 60\n",
      "54 / 60\n",
      "55 / 60\n",
      "56 / 60\n",
      "57 / 60\n",
      "58 / 60\n",
      "59 / 60\n",
      "60 / 60\n",
      "Successfully read 1 files.\n",
      "Saved to  data/example_run.pkl\n"
     ]
    }
   ],
   "source": [
    "results = experiment(tree_list=binary_trees+lopsided, sequence_model=jc, Ns=Ns, methods=methods, mutation_rates=mutation_rates, savepath=\"example_run.pkl\")\n"
   ]
  },
  {
   "cell_type": "code",
   "execution_count": 23,
   "metadata": {},
   "outputs": [],
   "source": [
    "loaded = load_results(\"example_run.pkl\")\n"
   ]
  },
  {
   "cell_type": "code",
   "execution_count": 25,
   "metadata": {},
   "outputs": [
    {
     "data": {
      "text/plain": [
       "<compare_methods.Experiment_Datum at 0x1a1ff0b278>"
      ]
     },
     "execution_count": 25,
     "metadata": {},
     "output_type": "execute_result"
    }
   ],
   "source": [
    "results[3]"
   ]
  },
  {
   "cell_type": "code",
   "execution_count": 34,
   "metadata": {},
   "outputs": [],
   "source": [
    "r1 = results[0]\n",
    "r2 = loaded[60]"
   ]
  },
  {
   "cell_type": "code",
   "execution_count": 35,
   "metadata": {},
   "outputs": [
    {
     "data": {
      "text/plain": [
       "False"
      ]
     },
     "execution_count": 35,
     "metadata": {},
     "output_type": "execute_result"
    }
   ],
   "source": [
    "r1.sequence_model == r2.sequence_model"
   ]
  },
  {
   "cell_type": "code",
   "execution_count": 37,
   "metadata": {},
   "outputs": [
    {
     "data": {
      "text/plain": [
       "<spectraltree.generation.Jukes_Cantor at 0x1a1fd50ef0>"
      ]
     },
     "execution_count": 37,
     "metadata": {},
     "output_type": "execute_result"
    }
   ],
   "source": [
    "r2.sequence_model"
   ]
  },
  {
   "cell_type": "code",
   "execution_count": 63,
   "metadata": {},
   "outputs": [
    {
     "name": "stdout",
     "output_type": "stream",
     "text": [
      "abc 2 4 8\n"
     ]
    }
   ],
   "source": [
    "print(\"abc\", *(str(2**i) for i in [1,2,3]))"
   ]
  },
  {
   "cell_type": "code",
   "execution_count": 41,
   "metadata": {},
   "outputs": [
    {
     "data": {
      "text/plain": [
       "False"
      ]
     },
     "execution_count": 41,
     "metadata": {},
     "output_type": "execute_result"
    }
   ],
   "source": [
    "Jukes_Cantor(4) == Jukes_Cantor(5)"
   ]
  },
  {
   "cell_type": "code",
   "execution_count": 63,
   "metadata": {},
   "outputs": [
    {
     "data": {
      "text/plain": [
       "False"
      ]
     },
     "execution_count": 63,
     "metadata": {},
     "output_type": "execute_result"
    }
   ],
   "source": [
    "r1 = Reconstruction_Method()\n",
    "r2 = Reconstruction_Method(distance=paralinear_distance)\n",
    "r1 == r2"
   ]
  },
  {
   "cell_type": "code",
   "execution_count": 58,
   "metadata": {},
   "outputs": [
    {
     "data": {
      "text/plain": [
       "False"
      ]
     },
     "execution_count": 58,
     "metadata": {},
     "output_type": "execute_result"
    }
   ],
   "source": [
    "r1.distance == r2.distance"
   ]
  },
  {
   "cell_type": "code",
   "execution_count": 59,
   "metadata": {},
   "outputs": [
    {
     "data": {
      "text/plain": [
       "<function spectraltree.reconstruct_tree.paralinear_distance(observations, classes=None)>"
      ]
     },
     "execution_count": 59,
     "metadata": {},
     "output_type": "execute_result"
    }
   ],
   "source": [
    "r1.distance"
   ]
  },
  {
   "cell_type": "code",
   "execution_count": 60,
   "metadata": {},
   "outputs": [
    {
     "data": {
      "text/plain": [
       "<function spectraltree.reconstruct_tree.paralinear_distance(observations, classes=None)>"
      ]
     },
     "execution_count": 60,
     "metadata": {},
     "output_type": "execute_result"
    }
   ],
   "source": [
    "r2.distance"
   ]
  },
  {
   "cell_type": "code",
   "execution_count": null,
   "metadata": {},
   "outputs": [],
   "source": []
  }
 ],
 "metadata": {
  "kernelspec": {
   "display_name": "Python 3",
   "language": "python",
   "name": "python3"
  },
  "language_info": {
   "codemirror_mode": {
    "name": "ipython",
    "version": 3
   },
   "file_extension": ".py",
   "mimetype": "text/x-python",
   "name": "python",
   "nbconvert_exporter": "python",
   "pygments_lexer": "ipython3",
   "version": "3.7.3"
  }
 },
 "nbformat": 4,
 "nbformat_minor": 2
}
