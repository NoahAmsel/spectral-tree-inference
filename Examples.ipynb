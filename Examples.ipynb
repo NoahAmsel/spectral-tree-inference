{
 "cells": [
  {
   "cell_type": "code",
   "execution_count": 89,
   "metadata": {},
   "outputs": [
    {
     "name": "stdout",
     "output_type": "stream",
     "text": [
      "The autoreload extension is already loaded. To reload it, use:\n",
      "  %reload_ext autoreload\n"
     ]
    }
   ],
   "source": [
    "%load_ext autoreload\n",
    "%autoreload 2\n",
    "from spectraltree import *"
   ]
  },
  {
   "cell_type": "code",
   "execution_count": 2,
   "metadata": {},
   "outputs": [],
   "source": [
    "import numpy as np\n",
    "import dendropy"
   ]
  },
  {
   "cell_type": "code",
   "execution_count": 4,
   "metadata": {},
   "outputs": [],
   "source": [
    "jc = Jukes_Cantor()\n",
    "tree = balanced_binary(2**5, edge_length=jc.p2t(0.85))\n",
    "observations = jc.generate_sequences(tree, seq_len=1_000)"
   ]
  },
  {
   "cell_type": "code",
   "execution_count": 9,
   "metadata": {},
   "outputs": [],
   "source": [
    "distance_matrix = JC_distance_matrix(observations)\n",
    "recovered_tree = estimate_tree_topology(distance_matrix)"
   ]
  },
  {
   "cell_type": "code",
   "execution_count": 121,
   "metadata": {},
   "outputs": [
    {
     "name": "stdout",
     "output_type": "stream",
     "text": [
      "                                                                  /--------- 4 \n",
      "/-----------------------------------------------------------------+            \n",
      "|                                                                 \\--------- 5 \n",
      "|                                                                              \n",
      "|                                                                 /--------- 0 \n",
      "|                                                        /--------+            \n",
      "|                                                        |        \\--------- 1 \n",
      "|        /-----------------------------------------------+                     \n",
      "|        |                                               |        /--------- 2 \n",
      "|        |                                               \\--------+            \n",
      "|        |                                                        \\--------- 3 \n",
      "|        |                                                                     \n",
      "|        |                                                        /--------- 10\n",
      "|        |                                               /--------+            \n",
      "|        |                                               |        \\--------- 11\n",
      "|        |                                     /---------+                     \n",
      "|        |                                     |         |        /--------- 8 \n",
      "|        |                                     |         \\--------+            \n",
      "|        |                                     |                  \\--------- 9 \n",
      "|        |         /---------------------------+                               \n",
      "|--------+         |                           |                  /--------- 14\n",
      "|        |         |                           |         /--------+            \n",
      "|        |         |                           |         |        \\--------- 15\n",
      "|        |         |                           \\---------+                     \n",
      "|        |         |                                     |        /--------- 12\n",
      "|        |         |                                     \\--------+            \n",
      "|        |         |                                              \\--------- 13\n",
      "|        |         |                                                           \n",
      "|        |         |                                              /--------- 18\n",
      "|        |         |                                     /--------+            \n",
      "|        |         |                                     |        \\--------- 19\n",
      "+        |         |                           /---------+                     \n",
      "|        |         |                           |         |        /--------- 16\n",
      "|        \\---------+                           |         \\--------+            \n",
      "|                  |                           |                  \\--------- 17\n",
      "|                  |                  /--------+                               \n",
      "|                  |                  |        |                  /--------- 20\n",
      "|                  |                  |        |         /--------+            \n",
      "|                  |                  |        |         |        \\--------- 21\n",
      "|                  |                  |        \\---------+                     \n",
      "|                  |                  |                  |        /--------- 22\n",
      "|                  |        /---------+                  \\--------+            \n",
      "|                  |        |         |                           \\--------- 23\n",
      "|                  |        |         |                                        \n",
      "|                  |        |         |                           /--------- 24\n",
      "|                  |        |         |                  /--------+            \n",
      "|                  |        |         |                  |        \\--------- 25\n",
      "|                  |        |         \\------------------+                     \n",
      "|                  \\--------+                            |        /--------- 26\n",
      "|                           |                            \\--------+            \n",
      "|                           |                                     \\--------- 27\n",
      "|                           |                                                  \n",
      "|                           |                                     /--------- 30\n",
      "|                           |                            /--------+            \n",
      "|                           |                            |        \\--------- 31\n",
      "|                           \\----------------------------+                     \n",
      "|                                                        |        /--------- 28\n",
      "|                                                        \\--------+            \n",
      "|                                                                 \\--------- 29\n",
      "|                                                                              \n",
      "|                                                                 /--------- 6 \n",
      "\\-----------------------------------------------------------------+            \n",
      "                                                                  \\--------- 7 \n",
      "                                                                               \n",
      "                                                                               \n"
     ]
    }
   ],
   "source": [
    "print(recovered_tree.as_ascii_plot())"
   ]
  },
  {
   "cell_type": "code",
   "execution_count": 94,
   "metadata": {},
   "outputs": [],
   "source": [
    "jc = Jukes_Cantor()"
   ]
  },
  {
   "cell_type": "code",
   "execution_count": 97,
   "metadata": {},
   "outputs": [
    {
     "data": {
      "text/plain": [
       "0.2536209624953736"
      ]
     },
     "execution_count": 97,
     "metadata": {},
     "output_type": "execute_result"
    }
   ],
   "source": [
    "ttt = 4.\n",
    "0.25 + 0.75 * np.exp(-4.*ttt/3.)"
   ]
  },
  {
   "cell_type": "code",
   "execution_count": 101,
   "metadata": {},
   "outputs": [
    {
     "data": {
      "text/plain": [
       "array([[0.44769785, 0.18410072, 0.18410072, 0.18410072],\n",
       "       [0.18410072, 0.44769785, 0.18410072, 0.18410072],\n",
       "       [0.18410072, 0.18410072, 0.44769785, 0.18410072],\n",
       "       [0.18410072, 0.18410072, 0.18410072, 0.44769785]])"
      ]
     },
     "execution_count": 101,
     "metadata": {},
     "output_type": "execute_result"
    }
   ],
   "source": [
    "jc.pmatrix(1)"
   ]
  },
  {
   "cell_type": "code",
   "execution_count": 100,
   "metadata": {},
   "outputs": [
    {
     "data": {
      "text/plain": [
       "4.0"
      ]
     },
     "execution_count": 100,
     "metadata": {},
     "output_type": "execute_result"
    }
   ],
   "source": [
    "jc.paralinear_distance(1)"
   ]
  },
  {
   "cell_type": "code",
   "execution_count": 103,
   "metadata": {},
   "outputs": [
    {
     "ename": "TypeError",
     "evalue": "unsupported operand type(s) for /: 'float' and 'method'",
     "output_type": "error",
     "traceback": [
      "\u001b[0;31m---------------------------------------------------------------------------\u001b[0m",
      "\u001b[0;31mTypeError\u001b[0m                                 Traceback (most recent call last)",
      "\u001b[0;32m<ipython-input-103-221fbf44db7e>\u001b[0m in \u001b[0;36m<module>\u001b[0;34m\u001b[0m\n\u001b[0;32m----> 1\u001b[0;31m \u001b[0mjc\u001b[0m\u001b[0;34m.\u001b[0m\u001b[0mt2p\u001b[0m\u001b[0;34m(\u001b[0m\u001b[0;36m3\u001b[0m\u001b[0;34m,\u001b[0m \u001b[0;36m2.\u001b[0m\u001b[0;34m)\u001b[0m\u001b[0;34m\u001b[0m\u001b[0;34m\u001b[0m\u001b[0m\n\u001b[0m",
      "\u001b[0;32m~/Documents/Summer_restored/spectral-tree-inference/spectraltree/generation.py\u001b[0m in \u001b[0;36mt2p\u001b[0;34m(self, t, mutation_rate)\u001b[0m\n\u001b[1;32m    208\u001b[0m         \u001b[0;31m#return self.pmatrix(t, mutation_rate)[0,0]\u001b[0m\u001b[0;34m\u001b[0m\u001b[0;34m\u001b[0m\u001b[0;34m\u001b[0m\u001b[0m\n\u001b[1;32m    209\u001b[0m         \u001b[0;31m#return 0.25 + 0.75 * np.exp(-4.*t/3.)\u001b[0m\u001b[0;34m\u001b[0m\u001b[0;34m\u001b[0m\u001b[0;34m\u001b[0m\u001b[0m\n\u001b[0;32m--> 210\u001b[0;31m         \u001b[0;32mreturn\u001b[0m \u001b[0;36m1.\u001b[0m\u001b[0;34m/\u001b[0m\u001b[0mself\u001b[0m\u001b[0;34m.\u001b[0m\u001b[0mk\u001b[0m \u001b[0;34m+\u001b[0m \u001b[0mself\u001b[0m\u001b[0;34m.\u001b[0m\u001b[0mk_ratio\u001b[0m \u001b[0;34m*\u001b[0m \u001b[0mnp\u001b[0m\u001b[0;34m.\u001b[0m\u001b[0mexp\u001b[0m\u001b[0;34m(\u001b[0m\u001b[0;34m-\u001b[0m \u001b[0mt\u001b[0m\u001b[0;34m*\u001b[0m\u001b[0mmutation_rate\u001b[0m \u001b[0;34m/\u001b[0m \u001b[0mself\u001b[0m\u001b[0;34m.\u001b[0m\u001b[0mk_ratio\u001b[0m\u001b[0;34m)\u001b[0m\u001b[0;34m\u001b[0m\u001b[0;34m\u001b[0m\u001b[0m\n\u001b[0m\u001b[1;32m    211\u001b[0m \u001b[0;34m\u001b[0m\u001b[0m\n\u001b[1;32m    212\u001b[0m     \u001b[0;32mdef\u001b[0m \u001b[0mp2t\u001b[0m\u001b[0;34m(\u001b[0m\u001b[0mself\u001b[0m\u001b[0;34m,\u001b[0m \u001b[0mp\u001b[0m\u001b[0;34m,\u001b[0m \u001b[0mmutation_rate\u001b[0m\u001b[0;34m=\u001b[0m\u001b[0;36m1.\u001b[0m\u001b[0;34m)\u001b[0m\u001b[0;34m:\u001b[0m\u001b[0;34m\u001b[0m\u001b[0;34m\u001b[0m\u001b[0m\n",
      "\u001b[0;31mTypeError\u001b[0m: unsupported operand type(s) for /: 'float' and 'method'"
     ]
    }
   ],
   "source": [
    "jc.t2p(3, 2.)"
   ]
  },
  {
   "cell_type": "code",
   "execution_count": 106,
   "metadata": {},
   "outputs": [
    {
     "data": {
      "text/plain": [
       "0.029999999999999964"
      ]
     },
     "execution_count": 106,
     "metadata": {},
     "output_type": "execute_result"
    }
   ],
   "source": [
    "jc.p2t(jc.t2p(0.03, 2.), 2.)"
   ]
  },
  {
   "cell_type": "code",
   "execution_count": 91,
   "metadata": {},
   "outputs": [
    {
     "data": {
      "text/plain": [
       "array([0.42 , 0.392, 0.397, 0.   ])"
      ]
     },
     "execution_count": 91,
     "metadata": {},
     "output_type": "execute_result"
    }
   ],
   "source": [
    "simulate_sequences(1000, my_tree, my_trans).mean(axis=1)"
   ]
  },
  {
   "cell_type": "code",
   "execution_count": 144,
   "metadata": {},
   "outputs": [],
   "source": [
    "cvec.append(1.2)"
   ]
  },
  {
   "cell_type": "code",
   "execution_count": 131,
   "metadata": {},
   "outputs": [
    {
     "data": {
      "text/plain": [
       "<dendropy.datamodel.charmatrixmodel.CharacterDataSequence at 0xa576ce9b0>"
      ]
     },
     "execution_count": 131,
     "metadata": {},
     "output_type": "execute_result"
    }
   ],
   "source": [
    "char_matrix[0]"
   ]
  },
  {
   "cell_type": "code",
   "execution_count": 107,
   "metadata": {},
   "outputs": [],
   "source": [
    "simulate_sequences?"
   ]
  },
  {
   "cell_type": "code",
   "execution_count": null,
   "metadata": {},
   "outputs": [],
   "source": []
  },
  {
   "cell_type": "code",
   "execution_count": null,
   "metadata": {},
   "outputs": [],
   "source": []
  }
 ],
 "metadata": {
  "kernelspec": {
   "display_name": "Python 3",
   "language": "python",
   "name": "python3"
  },
  "language_info": {
   "codemirror_mode": {
    "name": "ipython",
    "version": 3
   },
   "file_extension": ".py",
   "mimetype": "text/x-python",
   "name": "python",
   "nbconvert_exporter": "python",
   "pygments_lexer": "ipython3",
   "version": "3.7.3"
  }
 },
 "nbformat": 4,
 "nbformat_minor": 2
}
