{
 "cells": [
  {
   "cell_type": "code",
   "execution_count": 3,
   "metadata": {},
   "outputs": [
    {
     "name": "stdout",
     "output_type": "stream",
     "text": [
      "The autoreload extension is already loaded. To reload it, use:\n",
      "  %reload_ext autoreload\n"
     ]
    }
   ],
   "source": [
    "%load_ext autoreload\n",
    "%autoreload 2\n",
    "from spectraltree import *"
   ]
  },
  {
   "cell_type": "code",
   "execution_count": 4,
   "metadata": {},
   "outputs": [],
   "source": [
    "jc = Jukes_Cantor()\n",
    "tree = balanced_binary(2**5, edge_length=jc.p2t(0.85))\n",
    "observations = jc.generate_sequences(tree, seq_len=1_000)"
   ]
  },
  {
   "cell_type": "code",
   "execution_count": 9,
   "metadata": {},
   "outputs": [],
   "source": [
    "distance_matrix = JC_distance_matrix(observations)\n",
    "recovered_tree = estimate_tree_topology(distance_matrix)"
   ]
  },
  {
   "cell_type": "code",
   "execution_count": 11,
   "metadata": {},
   "outputs": [
    {
     "name": "stdout",
     "output_type": "stream",
     "text": [
      "                                                                  /--------- 4 \n",
      "/-----------------------------------------------------------------+            \n",
      "|                                                                 \\--------- 5 \n",
      "|                                                                              \n",
      "|                                                                 /--------- 0 \n",
      "|                                                        /--------+            \n",
      "|                                                        |        \\--------- 1 \n",
      "|        /-----------------------------------------------+                     \n",
      "|        |                                               |        /--------- 2 \n",
      "|        |                                               \\--------+            \n",
      "|        |                                                        \\--------- 3 \n",
      "|        |                                                                     \n",
      "|        |                                                        /--------- 10\n",
      "|        |                                               /--------+            \n",
      "|        |                                               |        \\--------- 11\n",
      "|        |                                     /---------+                     \n",
      "|        |                                     |         |        /--------- 8 \n",
      "|        |                                     |         \\--------+            \n",
      "|        |                                     |                  \\--------- 9 \n",
      "|        |         /---------------------------+                               \n",
      "|--------+         |                           |                  /--------- 14\n",
      "|        |         |                           |         /--------+            \n",
      "|        |         |                           |         |        \\--------- 15\n",
      "|        |         |                           \\---------+                     \n",
      "|        |         |                                     |        /--------- 12\n",
      "|        |         |                                     \\--------+            \n",
      "|        |         |                                              \\--------- 13\n",
      "|        |         |                                                           \n",
      "|        |         |                                              /--------- 18\n",
      "|        |         |                                     /--------+            \n",
      "|        |         |                                     |        \\--------- 19\n",
      "+        |         |                           /---------+                     \n",
      "|        |         |                           |         |        /--------- 16\n",
      "|        \\---------+                           |         \\--------+            \n",
      "|                  |                           |                  \\--------- 17\n",
      "|                  |                  /--------+                               \n",
      "|                  |                  |        |                  /--------- 20\n",
      "|                  |                  |        |         /--------+            \n",
      "|                  |                  |        |         |        \\--------- 21\n",
      "|                  |                  |        \\---------+                     \n",
      "|                  |                  |                  |        /--------- 22\n",
      "|                  |        /---------+                  \\--------+            \n",
      "|                  |        |         |                           \\--------- 23\n",
      "|                  |        |         |                                        \n",
      "|                  |        |         |                           /--------- 24\n",
      "|                  |        |         |                  /--------+            \n",
      "|                  |        |         |                  |        \\--------- 25\n",
      "|                  |        |         \\------------------+                     \n",
      "|                  \\--------+                            |        /--------- 26\n",
      "|                           |                            \\--------+            \n",
      "|                           |                                     \\--------- 27\n",
      "|                           |                                                  \n",
      "|                           |                                     /--------- 30\n",
      "|                           |                            /--------+            \n",
      "|                           |                            |        \\--------- 31\n",
      "|                           \\----------------------------+                     \n",
      "|                                                        |        /--------- 28\n",
      "|                                                        \\--------+            \n",
      "|                                                                 \\--------- 29\n",
      "|                                                                              \n",
      "|                                                                 /--------- 6 \n",
      "\\-----------------------------------------------------------------+            \n",
      "                                                                  \\--------- 7 \n",
      "                                                                               \n",
      "                                                                               \n"
     ]
    }
   ],
   "source": [
    "print(recovered_tree.as_ascii_plot())"
   ]
  },
  {
   "cell_type": "code",
   "execution_count": null,
   "metadata": {},
   "outputs": [],
   "source": []
  }
 ],
 "metadata": {
  "kernelspec": {
   "display_name": "Python 3",
   "language": "python",
   "name": "python3"
  },
  "language_info": {
   "codemirror_mode": {
    "name": "ipython",
    "version": 3
   },
   "file_extension": ".py",
   "mimetype": "text/x-python",
   "name": "python",
   "nbconvert_exporter": "python",
   "pygments_lexer": "ipython3",
   "version": "3.7.3"
  }
 },
 "nbformat": 4,
 "nbformat_minor": 2
}
