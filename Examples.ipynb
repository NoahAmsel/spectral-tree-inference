{
 "cells": [
  {
   "cell_type": "code",
   "execution_count": 1,
   "metadata": {},
   "outputs": [],
   "source": [
    "%load_ext autoreload\n",
    "%autoreload 2\n",
    "from spectraltree import *\n",
    "from compare_methods import *"
   ]
  },
  {
   "cell_type": "code",
   "execution_count": 2,
   "metadata": {},
   "outputs": [],
   "source": [
    "import numpy as np\n",
    "import dendropy"
   ]
  },
  {
   "cell_type": "code",
   "execution_count": 3,
   "metadata": {},
   "outputs": [],
   "source": [
    "jc = Jukes_Cantor()\n",
    "tree = balanced_binary(2**5, edge_length=jc.p2t(0.85))\n",
    "observations = simulate_sequences(1_000, tree, jc)"
   ]
  },
  {
   "cell_type": "code",
   "execution_count": 4,
   "metadata": {},
   "outputs": [],
   "source": [
    "distance_matrix = JC_distance_matrix(observations)\n",
    "recovered_tree = estimate_tree_topology(distance_matrix)"
   ]
  },
  {
   "cell_type": "code",
   "execution_count": 5,
   "metadata": {},
   "outputs": [
    {
     "name": "stdout",
     "output_type": "stream",
     "text": [
      "/--------------------------------------------------------------------------- 2 \n",
      "|                                                                              \n",
      "|--------------------------------------------------------------------------- 3 \n",
      "|                                                                              \n",
      "|                                                                 /--------- 0 \n",
      "|        /--------------------------------------------------------+            \n",
      "|        |                                                        \\--------- 1 \n",
      "|        |                                                                     \n",
      "+        |                                                        /--------- 6 \n",
      "|        |                                               /--------+            \n",
      "|        |                                               |        \\--------- 7 \n",
      "|        |         /-------------------------------------+                     \n",
      "|        |         |                                     |        /--------- 4 \n",
      "|        |         |                                     \\--------+            \n",
      "|        |         |                                              \\--------- 5 \n",
      "|        |         |                                                           \n",
      "\\--------+         |                                              /--------- 16\n",
      "         |         |                                     /--------+            \n",
      "         |         |                                     |        \\--------- 17\n",
      "         |         |                           /---------+                     \n",
      "         |         |                           |         |        /--------- 18\n",
      "         |         |                           |         \\--------+            \n",
      "         |         |                           |                  \\--------- 19\n",
      "         |         |                  /--------+                               \n",
      "         |         |                  |        |                  /--------- 20\n",
      "         |         |                  |        |         /--------+            \n",
      "         |         |                  |        |         |        \\--------- 21\n",
      "         \\---------+                  |        \\---------+                     \n",
      "                   |                  |                  |        /--------- 22\n",
      "                   |                  |                  \\--------+            \n",
      "                   |                  |                           \\--------- 23\n",
      "                   |        /---------+                                        \n",
      "                   |        |         |                           /--------- 26\n",
      "                   |        |         |                  /--------+            \n",
      "                   |        |         |                  |        \\--------- 27\n",
      "                   |        |         |        /---------+                     \n",
      "                   |        |         |        |         |        /--------- 24\n",
      "                   |        |         |        |         \\--------+            \n",
      "                   |        |         |        |                  \\--------- 25\n",
      "                   |        |         \\--------+                               \n",
      "                   |        |                  |                  /--------- 28\n",
      "                   |        |                  |         /--------+            \n",
      "                   |        |                  |         |        \\--------- 29\n",
      "                   \\--------+                  \\---------+                     \n",
      "                            |                            |        /--------- 30\n",
      "                            |                            \\--------+            \n",
      "                            |                                     \\--------- 31\n",
      "                            |                                                  \n",
      "                            |                                     /--------- 10\n",
      "                            |                            /--------+            \n",
      "                            |                            |        \\--------- 11\n",
      "                            |                  /---------+                     \n",
      "                            |                  |         |        /--------- 8 \n",
      "                            |                  |         \\--------+            \n",
      "                            |                  |                  \\--------- 9 \n",
      "                            \\------------------+                               \n",
      "                                               |                  /--------- 14\n",
      "                                               |         /--------+            \n",
      "                                               |         |        \\--------- 15\n",
      "                                               \\---------+                     \n",
      "                                                         |        /--------- 12\n",
      "                                                         \\--------+            \n",
      "                                                                  \\--------- 13\n",
      "                                                                               \n",
      "                                                                               \n"
     ]
    }
   ],
   "source": [
    "print(recovered_tree.as_ascii_plot())"
   ]
  },
  {
   "cell_type": "code",
   "execution_count": null,
   "metadata": {},
   "outputs": [],
   "source": []
  },
  {
   "cell_type": "code",
   "execution_count": 14,
   "metadata": {},
   "outputs": [
    {
     "name": "stdout",
     "output_type": "stream",
     "text": [
      "==== Beginning Experiment =====\n",
      "\t Transition:  Jukes Cantor\n",
      "\t 3 trees\n",
      "\t 4 sample sizes: 100 400 1600 3600\n",
      "\t 1 methods sv2\n",
      "\t 1 mutation rates: 0.1674\n",
      "\t 4 reps\n",
      "1 / 48\n",
      "2 / 48\n",
      "3 / 48\n",
      "4 / 48\n",
      "5 / 48\n",
      "6 / 48\n",
      "7 / 48\n",
      "8 / 48\n",
      "9 / 48\n",
      "10 / 48\n",
      "11 / 48\n",
      "12 / 48\n",
      "13 / 48\n",
      "14 / 48\n",
      "15 / 48\n",
      "16 / 48\n",
      "17 / 48\n",
      "18 / 48\n",
      "19 / 48\n",
      "20 / 48\n",
      "21 / 48\n",
      "22 / 48\n",
      "23 / 48\n",
      "24 / 48\n",
      "25 / 48\n",
      "26 / 48\n",
      "27 / 48\n",
      "28 / 48\n",
      "29 / 48\n",
      "30 / 48\n",
      "31 / 48\n",
      "32 / 48\n",
      "33 / 48\n",
      "34 / 48\n",
      "35 / 48\n",
      "36 / 48\n",
      "37 / 48\n",
      "38 / 48\n",
      "39 / 48\n",
      "40 / 48\n",
      "41 / 48\n",
      "42 / 48\n",
      "43 / 48\n",
      "44 / 48\n",
      "45 / 48\n",
      "46 / 48\n",
      "47 / 48\n",
      "48 / 48\n",
      "Successfully read 1 files.\n",
      "Saved to data/largeM_exp.pkl\n"
     ]
    }
   ],
   "source": [
    "binary_trees = [balanced_binary(m) for m in [64, 128, 256]]\n",
    "jc = Jukes_Cantor()\n",
    "Ns = [100, 400, 1600, 3200]\n",
    "methods = [Reconstruction_Method()]\n",
    "mutation_rates = [jc.p2t(0.85)]\n",
    "results = experiment(binary_trees, jc, Ns, methods, mutation_rates, reps_per_tree=4, savepath=\"largeM_exp.pkl\")"
   ]
  },
  {
   "cell_type": "code",
   "execution_count": 25,
   "metadata": {},
   "outputs": [
    {
     "name": "stdout",
     "output_type": "stream",
     "text": [
      "==== Beginning Experiment =====\n",
      "\t Transition:  Jukes Cantor\n",
      "\t 3 trees\n",
      "\t 1 sample sizes: 6400\n",
      "\t 1 methods sv2\n",
      "\t 1 mutation rates: 0.1674\n",
      "\t 4 reps\n",
      "1 / 12\n",
      "2 / 12\n",
      "3 / 12\n",
      "4 / 12\n",
      "5 / 12\n",
      "6 / 12\n",
      "7 / 12\n",
      "8 / 12\n",
      "9 / 12\n",
      "10 / 12\n",
      "11 / 12\n",
      "12 / 12\n",
      "Successfully read 1 files.\n",
      "Saved to data/largeM_exp.pkl\n",
      "==== Beginning Experiment =====\n",
      "\t Transition:  Jukes Cantor\n",
      "\t 3 trees\n",
      "\t 1 sample sizes: 12800\n",
      "\t 1 methods sv2\n",
      "\t 1 mutation rates: 0.1674\n",
      "\t 8 reps\n",
      "1 / 24\n",
      "2 / 24\n",
      "3 / 24\n",
      "4 / 24\n",
      "5 / 24\n",
      "6 / 24\n",
      "7 / 24\n",
      "8 / 24\n",
      "9 / 24\n",
      "10 / 24\n",
      "11 / 24\n",
      "12 / 24\n",
      "13 / 24\n",
      "14 / 24\n",
      "15 / 24\n",
      "16 / 24\n",
      "17 / 24\n",
      "18 / 24\n",
      "19 / 24\n",
      "20 / 24\n",
      "21 / 24\n",
      "22 / 24\n",
      "23 / 24\n",
      "24 / 24\n",
      "Successfully read 1 files.\n",
      "Saved to data/largeM_exp.pkl\n"
     ]
    },
    {
     "data": {
      "text/plain": [
       "[<compare_methods.Experiment_Datum at 0x1a1d018a90>,\n",
       " <compare_methods.Experiment_Datum at 0x1a1d018ac8>,\n",
       " <compare_methods.Experiment_Datum at 0x1a22400710>,\n",
       " <compare_methods.Experiment_Datum at 0x1a1d93f780>,\n",
       " <compare_methods.Experiment_Datum at 0x1a1c715b70>,\n",
       " <compare_methods.Experiment_Datum at 0x1a22f4be10>,\n",
       " <compare_methods.Experiment_Datum at 0x1a1dcec438>,\n",
       " <compare_methods.Experiment_Datum at 0x1a22f4bdd8>,\n",
       " <compare_methods.Experiment_Datum at 0x1a1dd4e278>,\n",
       " <compare_methods.Experiment_Datum at 0x1a22f220b8>,\n",
       " <compare_methods.Experiment_Datum at 0x1a1ebba0f0>,\n",
       " <compare_methods.Experiment_Datum at 0x1a1e906f98>,\n",
       " <compare_methods.Experiment_Datum at 0x1a2305c9b0>,\n",
       " <compare_methods.Experiment_Datum at 0x1a22eff438>,\n",
       " <compare_methods.Experiment_Datum at 0x1a1ddf04a8>,\n",
       " <compare_methods.Experiment_Datum at 0x1a22429f28>,\n",
       " <compare_methods.Experiment_Datum at 0x1a235a6ac8>,\n",
       " <compare_methods.Experiment_Datum at 0x1a20cb6630>,\n",
       " <compare_methods.Experiment_Datum at 0x1a2351f780>,\n",
       " <compare_methods.Experiment_Datum at 0x1a23f772e8>,\n",
       " <compare_methods.Experiment_Datum at 0x1a24a56dd8>,\n",
       " <compare_methods.Experiment_Datum at 0x1a237ed940>,\n",
       " <compare_methods.Experiment_Datum at 0x1a24b045f8>,\n",
       " <compare_methods.Experiment_Datum at 0x1a23e16160>]"
      ]
     },
     "execution_count": 25,
     "metadata": {},
     "output_type": "execute_result"
    }
   ],
   "source": [
    "experiment(binary_trees, jc, [6400], methods, mutation_rates, reps_per_tree=4, savepath=\"largeM_exp.pkl\")\n",
    "experiment(binary_trees, jc, [12800], methods, mutation_rates, reps_per_tree=8, savepath=\"largeM_exp.pkl\")"
   ]
  },
  {
   "cell_type": "code",
   "execution_count": 22,
   "metadata": {},
   "outputs": [
    {
     "data": {
      "text/plain": [
       "108"
      ]
     },
     "execution_count": 22,
     "metadata": {},
     "output_type": "execute_result"
    }
   ],
   "source": [
    "results = load_results(\"largeM_exp.pkl\")\n",
    "df = results2frame(results)\n",
    "len(df)"
   ]
  },
  {
   "cell_type": "code",
   "execution_count": 40,
   "metadata": {},
   "outputs": [
    {
     "data": {
      "text/html": [
       "<div>\n",
       "<style scoped>\n",
       "    .dataframe tbody tr th:only-of-type {\n",
       "        vertical-align: middle;\n",
       "    }\n",
       "\n",
       "    .dataframe tbody tr th {\n",
       "        vertical-align: top;\n",
       "    }\n",
       "\n",
       "    .dataframe thead th {\n",
       "        text-align: right;\n",
       "    }\n",
       "</style>\n",
       "<table border=\"1\" class=\"dataframe\">\n",
       "  <thead>\n",
       "    <tr style=\"text-align: right;\">\n",
       "      <th></th>\n",
       "      <th></th>\n",
       "      <th>transition</th>\n",
       "      <th>method</th>\n",
       "      <th>rate</th>\n",
       "      <th>correct</th>\n",
       "      <th>F1%</th>\n",
       "      <th>RF</th>\n",
       "    </tr>\n",
       "    <tr>\n",
       "      <th>m</th>\n",
       "      <th>n</th>\n",
       "      <th></th>\n",
       "      <th></th>\n",
       "      <th></th>\n",
       "      <th></th>\n",
       "      <th></th>\n",
       "      <th></th>\n",
       "    </tr>\n",
       "  </thead>\n",
       "  <tbody>\n",
       "    <tr>\n",
       "      <td rowspan=\"5\" valign=\"top\">64</td>\n",
       "      <td>100</td>\n",
       "      <td>8</td>\n",
       "      <td>8</td>\n",
       "      <td>8</td>\n",
       "      <td>8</td>\n",
       "      <td>8</td>\n",
       "      <td>8</td>\n",
       "    </tr>\n",
       "    <tr>\n",
       "      <td>400</td>\n",
       "      <td>8</td>\n",
       "      <td>8</td>\n",
       "      <td>8</td>\n",
       "      <td>8</td>\n",
       "      <td>8</td>\n",
       "      <td>8</td>\n",
       "    </tr>\n",
       "    <tr>\n",
       "      <td>1600</td>\n",
       "      <td>8</td>\n",
       "      <td>8</td>\n",
       "      <td>8</td>\n",
       "      <td>8</td>\n",
       "      <td>8</td>\n",
       "      <td>8</td>\n",
       "    </tr>\n",
       "    <tr>\n",
       "      <td>3600</td>\n",
       "      <td>8</td>\n",
       "      <td>8</td>\n",
       "      <td>8</td>\n",
       "      <td>8</td>\n",
       "      <td>8</td>\n",
       "      <td>8</td>\n",
       "    </tr>\n",
       "    <tr>\n",
       "      <td>6400</td>\n",
       "      <td>4</td>\n",
       "      <td>4</td>\n",
       "      <td>4</td>\n",
       "      <td>4</td>\n",
       "      <td>4</td>\n",
       "      <td>4</td>\n",
       "    </tr>\n",
       "    <tr>\n",
       "      <td rowspan=\"5\" valign=\"top\">128</td>\n",
       "      <td>100</td>\n",
       "      <td>8</td>\n",
       "      <td>8</td>\n",
       "      <td>8</td>\n",
       "      <td>8</td>\n",
       "      <td>8</td>\n",
       "      <td>8</td>\n",
       "    </tr>\n",
       "    <tr>\n",
       "      <td>400</td>\n",
       "      <td>8</td>\n",
       "      <td>8</td>\n",
       "      <td>8</td>\n",
       "      <td>8</td>\n",
       "      <td>8</td>\n",
       "      <td>8</td>\n",
       "    </tr>\n",
       "    <tr>\n",
       "      <td>1600</td>\n",
       "      <td>8</td>\n",
       "      <td>8</td>\n",
       "      <td>8</td>\n",
       "      <td>8</td>\n",
       "      <td>8</td>\n",
       "      <td>8</td>\n",
       "    </tr>\n",
       "    <tr>\n",
       "      <td>3600</td>\n",
       "      <td>8</td>\n",
       "      <td>8</td>\n",
       "      <td>8</td>\n",
       "      <td>8</td>\n",
       "      <td>8</td>\n",
       "      <td>8</td>\n",
       "    </tr>\n",
       "    <tr>\n",
       "      <td>6400</td>\n",
       "      <td>4</td>\n",
       "      <td>4</td>\n",
       "      <td>4</td>\n",
       "      <td>4</td>\n",
       "      <td>4</td>\n",
       "      <td>4</td>\n",
       "    </tr>\n",
       "    <tr>\n",
       "      <td rowspan=\"5\" valign=\"top\">256</td>\n",
       "      <td>100</td>\n",
       "      <td>8</td>\n",
       "      <td>8</td>\n",
       "      <td>8</td>\n",
       "      <td>8</td>\n",
       "      <td>8</td>\n",
       "      <td>8</td>\n",
       "    </tr>\n",
       "    <tr>\n",
       "      <td>400</td>\n",
       "      <td>8</td>\n",
       "      <td>8</td>\n",
       "      <td>8</td>\n",
       "      <td>8</td>\n",
       "      <td>8</td>\n",
       "      <td>8</td>\n",
       "    </tr>\n",
       "    <tr>\n",
       "      <td>1600</td>\n",
       "      <td>8</td>\n",
       "      <td>8</td>\n",
       "      <td>8</td>\n",
       "      <td>8</td>\n",
       "      <td>8</td>\n",
       "      <td>8</td>\n",
       "    </tr>\n",
       "    <tr>\n",
       "      <td>3600</td>\n",
       "      <td>8</td>\n",
       "      <td>8</td>\n",
       "      <td>8</td>\n",
       "      <td>8</td>\n",
       "      <td>8</td>\n",
       "      <td>8</td>\n",
       "    </tr>\n",
       "    <tr>\n",
       "      <td>6400</td>\n",
       "      <td>4</td>\n",
       "      <td>4</td>\n",
       "      <td>4</td>\n",
       "      <td>4</td>\n",
       "      <td>4</td>\n",
       "      <td>4</td>\n",
       "    </tr>\n",
       "  </tbody>\n",
       "</table>\n",
       "</div>"
      ],
      "text/plain": [
       "          transition  method  rate  correct  F1%  RF\n",
       "m   n                                               \n",
       "64  100            8       8     8        8    8   8\n",
       "    400            8       8     8        8    8   8\n",
       "    1600           8       8     8        8    8   8\n",
       "    3600           8       8     8        8    8   8\n",
       "    6400           4       4     4        4    4   4\n",
       "128 100            8       8     8        8    8   8\n",
       "    400            8       8     8        8    8   8\n",
       "    1600           8       8     8        8    8   8\n",
       "    3600           8       8     8        8    8   8\n",
       "    6400           4       4     4        4    4   4\n",
       "256 100            8       8     8        8    8   8\n",
       "    400            8       8     8        8    8   8\n",
       "    1600           8       8     8        8    8   8\n",
       "    3600           8       8     8        8    8   8\n",
       "    6400           4       4     4        4    4   4"
      ]
     },
     "execution_count": 40,
     "metadata": {},
     "output_type": "execute_result"
    }
   ],
   "source": [
    "df.groupby(['m', 'n']).count()"
   ]
  },
  {
   "cell_type": "code",
   "execution_count": 26,
   "metadata": {},
   "outputs": [
    {
     "data": {
      "text/plain": [
       "<seaborn.axisgrid.FacetGrid at 0x1a24b164a8>"
      ]
     },
     "execution_count": 26,
     "metadata": {},
     "output_type": "execute_result"
    },
    {
     "data": {
      "image/png": "[encoded data removed]",
      "text/plain": [
       "<Figure size 1133.5x360 with 3 Axes>"
      ]
     },
     "metadata": {
      "needs_background": "light"
     },
     "output_type": "display_data"
    }
   ],
   "source": [
    "correct(df, col=\"m\")"
   ]
  },
  {
   "cell_type": "code",
   "execution_count": 24,
   "metadata": {},
   "outputs": [
    {
     "data": {
      "text/plain": [
       "<seaborn.axisgrid.FacetGrid at 0x1a234210b8>"
      ]
     },
     "execution_count": 24,
     "metadata": {},
     "output_type": "execute_result"
    },
    {
     "data": {
      "image/png": "[encoded data removed]",
      "text/plain": [
       "<Figure size 1133.5x360 with 3 Axes>"
      ]
     },
     "metadata": {
      "needs_background": "light"
     },
     "output_type": "display_data"
    }
   ],
   "source": [
    "accuracy(df, col=\"m\")"
   ]
  },
  {
   "cell_type": "code",
   "execution_count": null,
   "metadata": {},
   "outputs": [],
   "source": []
  }
 ],
 "metadata": {
  "kernelspec": {
   "display_name": "Python 3",
   "language": "python",
   "name": "python3"
  },
  "language_info": {
   "codemirror_mode": {
    "name": "ipython",
    "version": 3
   },
   "file_extension": ".py",
   "mimetype": "text/x-python",
   "name": "python",
   "nbconvert_exporter": "python",
   "pygments_lexer": "ipython3",
   "version": "3.7.3"
  }
 },
 "nbformat": 4,
 "nbformat_minor": 2
}
